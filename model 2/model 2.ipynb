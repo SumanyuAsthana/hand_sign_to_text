{
  "nbformat": 4,
  "nbformat_minor": 0,
  "metadata": {
    "colab": {
      "name": "inception_A.ipynb",
      "provenance": [],
      "collapsed_sections": []
    },
    "kernelspec": {
      "name": "python3",
      "display_name": "Python 3"
    },
    "language_info": {
      "name": "python"
    },
    "accelerator": "GPU"
  },
  "cells": [
    {
      "cell_type": "code",
      "metadata": {
        "colab": {
          "base_uri": "https://localhost:8080/"
        },
        "id": "zwPBSdiV2XuL",
        "outputId": "32a5c586-e69a-4519-a8b1-25e45466e7cb"
      },
      "source": [
        "%tensorflow_version 2.x\n",
        "import tensorflow as tf\n",
        "device_name = tf.test.gpu_device_name()\n",
        "if device_name != '/device:GPU:0':\n",
        "  raise SystemError('GPU device not found')\n",
        "print('Found GPU at: {}'.format(device_name))"
      ],
      "execution_count": 1,
      "outputs": [
        {
          "output_type": "stream",
          "text": [
            "Found GPU at: /device:GPU:0\n"
          ],
          "name": "stdout"
        }
      ]
    },
    {
      "cell_type": "code",
      "metadata": {
        "id": "czP6z108_Hfe",
        "colab": {
          "base_uri": "https://localhost:8080/"
        },
        "outputId": "a276fff6-3148-45af-b653-f0aeecab832c"
      },
      "source": [
        "import numpy as np\n",
        "import tensorflow as tf\n",
        "import keras\n",
        "import os\n",
        "from PIL import Image\n",
        "from matplotlib import pyplot as plt\n",
        "from moviepy.editor import *\n",
        "import cv2\n",
        "import moviepy\n",
        "import sys\n",
        "import random\n",
        "import tensorflow.keras.layers as tfKL\n",
        "import sklearn\n",
        "from tensorflow.keras import regularizers\n",
        "from keras.layers import Activation, Dense \n",
        "from sklearn.model_selection import train_test_split\n",
        "import time\n",
        "from matplotlib import pyplot as plt\n",
        "import random\n",
        "import pandas as pd\n",
        "# from tensorflow import keras\n",
        "from keras.applications.vgg16 import VGG16\n",
        "from tensorflow.keras.applications.inception_v3 import InceptionV3\n",
        "from tensorflow.keras import Sequential\n",
        "from tensorflow.keras.layers import Dense, Concatenate, Input, Lambda,LSTM,Reshape\n",
        "from tensorflow.keras.models import Model"
      ],
      "execution_count": 2,
      "outputs": [
        {
          "output_type": "stream",
          "text": [
            "Imageio: 'ffmpeg-linux64-v3.3.1' was not found on your computer; downloading it now.\n",
            "Try 1. Download from https://github.com/imageio/imageio-binaries/raw/master/ffmpeg/ffmpeg-linux64-v3.3.1 (43.8 MB)\n",
            "Downloading: 8192/45929032 bytes (0.0%)\b\b\b\b\b\b\b\b\b\b\b\b\b\b\b\b\b\b\b\b\b\b\b\b\b\b2826240/45929032 bytes (6.2%)\b\b\b\b\b\b\b\b\b\b\b\b\b\b\b\b\b\b\b\b\b\b\b\b\b\b\b\b\b6127616/45929032 bytes (13.3%)\b\b\b\b\b\b\b\b\b\b\b\b\b\b\b\b\b\b\b\b\b\b\b\b\b\b\b\b\b\b9527296/45929032 bytes (20.7%)\b\b\b\b\b\b\b\b\b\b\b\b\b\b\b\b\b\b\b\b\b\b\b\b\b\b\b\b\b\b12541952/45929032 bytes (27.3%)\b\b\b\b\b\b\b\b\b\b\b\b\b\b\b\b\b\b\b\b\b\b\b\b\b\b\b\b\b\b\b15949824/45929032 bytes (34.7%)\b\b\b\b\b\b\b\b\b\b\b\b\b\b\b\b\b\b\b\b\b\b\b\b\b\b\b\b\b\b\b19374080/45929032 bytes (42.2%)\b\b\b\b\b\b\b\b\b\b\b\b\b\b\b\b\b\b\b\b\b\b\b\b\b\b\b\b\b\b\b22765568/45929032 bytes (49.6%)\b\b\b\b\b\b\b\b\b\b\b\b\b\b\b\b\b\b\b\b\b\b\b\b\b\b\b\b\b\b\b25829376/45929032 bytes (56.2%)\b\b\b\b\b\b\b\b\b\b\b\b\b\b\b\b\b\b\b\b\b\b\b\b\b\b\b\b\b\b\b28917760/45929032 bytes (63.0%)\b\b\b\b\b\b\b\b\b\b\b\b\b\b\b\b\b\b\b\b\b\b\b\b\b\b\b\b\b\b\b32227328/45929032 bytes (70.2%)\b\b\b\b\b\b\b\b\b\b\b\b\b\b\b\b\b\b\b\b\b\b\b\b\b\b\b\b\b\b\b35561472/45929032 bytes (77.4%)\b\b\b\b\b\b\b\b\b\b\b\b\b\b\b\b\b\b\b\b\b\b\b\b\b\b\b\b\b\b\b38879232/45929032 bytes (84.7%)\b\b\b\b\b\b\b\b\b\b\b\b\b\b\b\b\b\b\b\b\b\b\b\b\b\b\b\b\b\b\b42319872/45929032 bytes (92.1%)\b\b\b\b\b\b\b\b\b\b\b\b\b\b\b\b\b\b\b\b\b\b\b\b\b\b\b\b\b\b\b45719552/45929032 bytes (99.5%)\b\b\b\b\b\b\b\b\b\b\b\b\b\b\b\b\b\b\b\b\b\b\b\b\b\b\b\b\b\b\b45929032/45929032 bytes (100.0%)\n",
            "  Done\n",
            "File saved as /root/.imageio/ffmpeg/ffmpeg-linux64-v3.3.1.\n"
          ],
          "name": "stdout"
        }
      ]
    },
    {
      "cell_type": "code",
      "metadata": {
        "colab": {
          "base_uri": "https://localhost:8080/"
        },
        "id": "wTaAz8IF_IgV",
        "outputId": "8ecac017-8cc6-4075-dad4-da1f05828948"
      },
      "source": [
        "from google.colab import drive\n",
        "drive.mount('/content/gdrive')\n",
        "mainPath=\"/content/gdrive/MyDrive/hand sign database\""
      ],
      "execution_count": 3,
      "outputs": [
        {
          "output_type": "stream",
          "text": [
            "Mounted at /content/gdrive\n"
          ],
          "name": "stdout"
        }
      ]
    },
    {
      "cell_type": "code",
      "metadata": {
        "id": "YbHeInSc_KBw"
      },
      "source": [
        "nCategories=8"
      ],
      "execution_count": 4,
      "outputs": []
    },
    {
      "cell_type": "code",
      "metadata": {
        "colab": {
          "base_uri": "https://localhost:8080/"
        },
        "id": "VHd_RvlS_LFD",
        "outputId": "8beb186a-ed88-497a-cbcc-476ed675fe8b"
      },
      "source": [
        "partition ={}\n",
        "labels ={}\n",
        "partition['train']=list()\n",
        "partition['validation']=list()\n",
        "partition['test']=list()\n",
        "def mapCatToNumber(file1):\n",
        "  strings=[]\n",
        "  for cat in os.listdir(file1):\n",
        "    strings.append(cat)\n",
        "  stringsS=sorted(strings)\n",
        "  answer={}\n",
        "  for i in range(len(stringsS)):\n",
        "    answer[stringsS[i]]=i\n",
        "  return answer\n",
        "mappingCatToN=mapCatToNumber(mainPath)\n",
        "print(mappingCatToN)"
      ],
      "execution_count": 5,
      "outputs": [
        {
          "output_type": "stream",
          "text": [
            "{'accident': 0, 'call': 1, 'doctor': 2, 'help': 3, 'hot': 4, 'lose': 5, 'pain': 6, 'thief': 7}\n"
          ],
          "name": "stdout"
        }
      ]
    },
    {
      "cell_type": "code",
      "metadata": {
        "colab": {
          "base_uri": "https://localhost:8080/"
        },
        "id": "Kl8qY9YZ_SKh",
        "outputId": "5d69b02c-d605-4b33-a84a-8d07ff216d31"
      },
      "source": [
        "for category in os.listdir(mainPath):\n",
        "  print(category)\n",
        "  vidL=[]\n",
        "  for video in os.listdir(os.path.join(mainPath,category)):\n",
        "    vidL.append(os.path.join(mainPath,category,video))\n",
        "  lenVidL=len(vidL)\n",
        "  trainLen=(int)(3*lenVidL/4)\n",
        "  testLen=int(lenVidL/10)\n",
        "  valLen=lenVidL-trainLen-testLen\n",
        "  print(trainLen,\" \",valLen,\" \",testLen)\n",
        "  random.shuffle(vidL)\n",
        "  for i in range(lenVidL):\n",
        "    labels[vidL[i]]=mappingCatToN[category]\n",
        "    if i<trainLen:\n",
        "      partition['train'].append(vidL[i])\n",
        "    elif i<trainLen+valLen:\n",
        "      partition['validation'].append(vidL[i])\n",
        "    else:\n",
        "      partition['test'].append(vidL[i])"
      ],
      "execution_count": 6,
      "outputs": [
        {
          "output_type": "stream",
          "text": [
            "help\n",
            "39   8   5\n",
            "thief\n",
            "37   8   5\n",
            "call\n",
            "39   8   5\n",
            "hot\n",
            "39   8   5\n",
            "pain\n",
            "39   8   5\n",
            "accident\n",
            "39   8   5\n",
            "lose\n",
            "30   6   4\n",
            "doctor\n",
            "39   8   5\n"
          ],
          "name": "stdout"
        }
      ]
    },
    {
      "cell_type": "code",
      "metadata": {
        "colab": {
          "base_uri": "https://localhost:8080/"
        },
        "id": "tNIqqdql_b3R",
        "outputId": "cde3b31c-5834-4ca9-87de-81d85bb7e1dd"
      },
      "source": [
        "print(np.shape(partition['train']))\n",
        "print(np.shape(partition['validation']))\n",
        "print(np.shape(partition['test']))"
      ],
      "execution_count": 7,
      "outputs": [
        {
          "output_type": "stream",
          "text": [
            "(301,)\n",
            "(62,)\n",
            "(39,)\n"
          ],
          "name": "stdout"
        }
      ]
    },
    {
      "cell_type": "code",
      "metadata": {
        "id": "rxE13IFb_deO"
      },
      "source": [
        "import pickle\n",
        "with tf.device(\"/device:GPU:0\"):\n",
        "  with open('/content/gdrive/MyDrive/inception model and history/PARTITION', 'wb') as file_pi:\n",
        "    pickle.dump(partition, file_pi)"
      ],
      "execution_count": null,
      "outputs": []
    },
    {
      "cell_type": "code",
      "metadata": {
        "id": "iJzoYWIzXdsy"
      },
      "source": [
        "from keras.utils import np_utils\n"
      ],
      "execution_count": 8,
      "outputs": []
    },
    {
      "cell_type": "code",
      "metadata": {
        "id": "KCdd1BD3_gFJ"
      },
      "source": [
        "import numpy as np\n",
        "import keras\n",
        "\n",
        "class DataGenerator(tf.keras.utils.Sequence):\n",
        "  'Generates data for Keras'\n",
        "  def __init__(self, list_IDs, labels, batch_size=32, dim=(20,224,224,3), n_classes=8, shuffle=True):\n",
        "    'Initialization'\n",
        "    self.dim = dim\n",
        "    self.batch_size = batch_size\n",
        "    self.labels = labels\n",
        "    self.list_IDs = list_IDs\n",
        "    self.n_classes = n_classes\n",
        "    self.shuffle = shuffle\n",
        "    self.on_epoch_end()\n",
        "\n",
        "  def __len__(self):\n",
        "    'Denotes the number of batches per epoch'\n",
        "    return int(np.floor(len(self.list_IDs) / self.batch_size))\n",
        "\n",
        "  def __getitem__(self, index):\n",
        "    'Generate one batch of data'\n",
        "    # Generate indexes of the batch\n",
        "    indexes = self.indexes[index*self.batch_size:(index+1)*self.batch_size]\n",
        "\n",
        "    # Find list of IDs\n",
        "    list_IDs_temp = [self.list_IDs[k] for k in indexes]\n",
        "\n",
        "    # Generate data\n",
        "    X, y = self.__data_generation(list_IDs_temp)\n",
        "\n",
        "    return X, y\n",
        "\n",
        "  def on_epoch_end(self):\n",
        "    'Updates indexes after each epoch'\n",
        "    self.indexes = np.arange(len(self.list_IDs))\n",
        "    if self.shuffle == True:\n",
        "        np.random.shuffle(self.indexes)\n",
        "\n",
        "  def __data_generation(self, list_IDs_temp):\n",
        "    'Generates data containing batch_size samples' # X : (n_samples, *dim, n_channels)\n",
        "    # Initialization\n",
        "    X = np.empty((self.batch_size, *self.dim))\n",
        "    y = np.empty((self.batch_size), dtype=int)\n",
        "\n",
        "    # Generate data\n",
        "    for i, ID in enumerate(list_IDs_temp):\n",
        "      # Store sample\n",
        "      # X[i,] = np.load('data/' + ID + '.npy')\n",
        "      ######\n",
        "      # print(ID)\n",
        "      try:\n",
        "        vidObj = moviepy.editor.VideoFileClip(ID)\n",
        "      except IOError as e:\n",
        "        errno, strerror = e.args\n",
        "        print(errno)\n",
        "        print(strerror)\n",
        "      video_duration = int(vidObj.duration)   \n",
        "      nFrames=self.dim[0]\n",
        "      array=np.empty(shape=(nFrames,self.dim[1],self.dim[2],3))\n",
        "      frameSize=(self.dim[1],self.dim[2])\n",
        "      for k in range(nFrames):\n",
        "        frame=vidObj.get_frame((k+1)*video_duration/(nFrames*1.0))\n",
        "        frameR=Image.fromarray(frame).convert(\"RGB\")\n",
        "        frame2=frameR.resize(frameSize)\n",
        "        arrayi=np.array(frame2)/255\n",
        "        # if k is 0:\n",
        "        #   print(np.shape(arrayi))\n",
        "        array[k]=arrayi\n",
        "        del arrayi\n",
        "      # print(np.shape(array))\n",
        "      X[i,]=array\n",
        "      del array\n",
        "      #######\n",
        "      # Store class\n",
        "      y[i] = self.labels[ID]\n",
        "    print(\"Shape of X output by data generator: \",np.shape(X))\n",
        "    return np.array(X), tf.keras.utils.to_categorical(y, num_classes=self.n_classes)"
      ],
      "execution_count": 9,
      "outputs": []
    },
    {
      "cell_type": "code",
      "metadata": {
        "id": "-YRnmlC-Mdb7"
      },
      "source": [
        "def createModel4(Tframes=20,frameSize=(224,224),batch_size=10,epochs=500,verbose=2,metrics=['accuracy'],loss='categorical_crossentropy',optimizer='adam',nLstmUnits=147):\n",
        "  input=Input(shape=(Tframes,frameSize[0],frameSize[1],3))\n",
        "  inc=InceptionV3(include_top=False,input_shape=(224,224,3))\n",
        "  branchOutputs=[]\n",
        "  for i in range(Tframes):\n",
        "    out=Lambda(lambda x: x[:,i,:,:,:])(input)\n",
        "    print(\"out.shape: \",out.shape)\n",
        "    name=\"inception_\"+str(i)\n",
        "    tempModel=Sequential(name=name)\n",
        "    # tempModel.add(InceptionV3(include_top=False,input_shape=(224,224,3)))\n",
        "    tempModel.add(inc)\n",
        "    out1=tempModel(out)\n",
        "    branchOutputs.append(out1)\n",
        "  out = Concatenate()(branchOutputs)\n",
        "  '''\n",
        "  model=Model(inputs=input,outputs=out)\n",
        "  model2=Sequential()\n",
        "  model2.add(model)\n",
        "  model2.add(tfKL.TimeDistributed(LSTM(units=nLstmUnits,activation='tanh',input_shape=(None,7,7,512))))\n",
        "  model2.add(tfKL.Flatten())\n",
        "  model2.add(Dense(units=8,activation='softmax'))\n",
        "  model2.compile(optimizer=optimizer, loss=loss, metrics=metrics)\n",
        "  '''\n",
        "  out=tfKL.TimeDistributed(LSTM(units=nLstmUnits,activation='tanh',input_shape=(None,7,7,512)))(out)\n",
        "  out=tfKL.Flatten()(out)\n",
        "  out=Dense(units=8,activation='softmax')(out)\n",
        "  model=Model(inputs=input,outputs=out)\n",
        "  model.compile(optimizer=optimizer,loss=loss,metrics=metrics)\n",
        "  for layer in model.layers:\n",
        "    print(layer.name)\n",
        "  return model"
      ],
      "execution_count": 10,
      "outputs": []
    },
    {
      "cell_type": "code",
      "metadata": {
        "colab": {
          "base_uri": "https://localhost:8080/"
        },
        "id": "PlUBrMBCOcw4",
        "outputId": "0edfb1e5-ad6e-4593-86fc-e48137f4dd15"
      },
      "source": [
        "def getLabels(partition=partition):\n",
        "  labels={}\n",
        "  for category in os.listdir(mainPath):\n",
        "    print(category)\n",
        "    vidL=[]\n",
        "    for video in os.listdir(os.path.join(mainPath,category)):\n",
        "      vidL.append(os.path.join(mainPath,category,video))\n",
        "      lenVidL=len(vidL)\n",
        "      random.shuffle(vidL)\n",
        "      for i in range(lenVidL):\n",
        "        labels[vidL[i]]=mappingCatToN[category]\n",
        "  return  labels\n",
        "labels=getLabels()\n",
        "print(labels)"
      ],
      "execution_count": 11,
      "outputs": [
        {
          "output_type": "stream",
          "text": [
            "help\n",
            "thief\n",
            "call\n",
            "hot\n",
            "pain\n",
            "accident\n",
            "lose\n",
            "doctor\n",
            "{'/content/gdrive/MyDrive/hand sign database/help/help_Crop_001_01.avi': 3, '/content/gdrive/MyDrive/hand sign database/help/help_Crop_001_02.avi': 3, '/content/gdrive/MyDrive/hand sign database/help/help_Crop_005_01.avi': 3, '/content/gdrive/MyDrive/hand sign database/help/help_Crop_004_01.avi': 3, '/content/gdrive/MyDrive/hand sign database/help/help_Crop_007_02.avi': 3, '/content/gdrive/MyDrive/hand sign database/help/help_Crop_002_01.avi': 3, '/content/gdrive/MyDrive/hand sign database/help/help_Crop_006_02.avi': 3, '/content/gdrive/MyDrive/hand sign database/help/help_Crop_003_02.avi': 3, '/content/gdrive/MyDrive/hand sign database/help/help_Crop_010_01.avi': 3, '/content/gdrive/MyDrive/hand sign database/help/help_Crop_010_02.avi': 3, '/content/gdrive/MyDrive/hand sign database/help/help_Crop_007_01.avi': 3, '/content/gdrive/MyDrive/hand sign database/help/help_Crop_008_02.avi': 3, '/content/gdrive/MyDrive/hand sign database/help/help_Crop_008_01.avi': 3, '/content/gdrive/MyDrive/hand sign database/help/help_Crop_006_01.avi': 3, '/content/gdrive/MyDrive/hand sign database/help/help_Crop_011_01.avi': 3, '/content/gdrive/MyDrive/hand sign database/help/help_Crop_003_01.avi': 3, '/content/gdrive/MyDrive/hand sign database/help/help_Crop_002_02.avi': 3, '/content/gdrive/MyDrive/hand sign database/help/help_Crop_012_01.avi': 3, '/content/gdrive/MyDrive/hand sign database/help/help_Crop_009_01.avi': 3, '/content/gdrive/MyDrive/hand sign database/help/help_Crop_009_02.avi': 3, '/content/gdrive/MyDrive/hand sign database/help/help_Crop_004_02.avi': 3, '/content/gdrive/MyDrive/hand sign database/help/help_Crop_011_02.avi': 3, '/content/gdrive/MyDrive/hand sign database/help/help_Crop_005_02.avi': 3, '/content/gdrive/MyDrive/hand sign database/help/help_Crop_019_02.avi': 3, '/content/gdrive/MyDrive/hand sign database/help/help_Crop_016_02.avi': 3, '/content/gdrive/MyDrive/hand sign database/help/help_Crop_013_01.avi': 3, '/content/gdrive/MyDrive/hand sign database/help/help_Crop_019_01.avi': 3, '/content/gdrive/MyDrive/hand sign database/help/help_Crop_022_02.avi': 3, '/content/gdrive/MyDrive/hand sign database/help/help_Crop_014_01.avi': 3, '/content/gdrive/MyDrive/hand sign database/help/help_Crop_017_01.avi': 3, '/content/gdrive/MyDrive/hand sign database/help/help_Crop_018_01.avi': 3, '/content/gdrive/MyDrive/hand sign database/help/help_Crop_021_02.avi': 3, '/content/gdrive/MyDrive/hand sign database/help/help_Crop_021_01.avi': 3, '/content/gdrive/MyDrive/hand sign database/help/help_Crop_016_01.avi': 3, '/content/gdrive/MyDrive/hand sign database/help/help_Crop_012_02.avi': 3, '/content/gdrive/MyDrive/hand sign database/help/help_Crop_015_02.avi': 3, '/content/gdrive/MyDrive/hand sign database/help/help_Crop_018_02.avi': 3, '/content/gdrive/MyDrive/hand sign database/help/help_Crop_020_01.avi': 3, '/content/gdrive/MyDrive/hand sign database/help/help_Crop_014_02.avi': 3, '/content/gdrive/MyDrive/hand sign database/help/help_Crop_020_02.avi': 3, '/content/gdrive/MyDrive/hand sign database/help/help_Crop_013_02.avi': 3, '/content/gdrive/MyDrive/hand sign database/help/help_Crop_022_01.avi': 3, '/content/gdrive/MyDrive/hand sign database/help/help_Crop_017_02.avi': 3, '/content/gdrive/MyDrive/hand sign database/help/help_Crop_015_01.avi': 3, '/content/gdrive/MyDrive/hand sign database/help/help_Crop_026_02.avi': 3, '/content/gdrive/MyDrive/hand sign database/help/help_Crop_023_01.avi': 3, '/content/gdrive/MyDrive/hand sign database/help/help_Crop_024_01.avi': 3, '/content/gdrive/MyDrive/hand sign database/help/help_Crop_023_02.avi': 3, '/content/gdrive/MyDrive/hand sign database/help/help_Crop_024_02.avi': 3, '/content/gdrive/MyDrive/hand sign database/help/help_Crop_026_01.avi': 3, '/content/gdrive/MyDrive/hand sign database/help/help_Crop_025_01.avi': 3, '/content/gdrive/MyDrive/hand sign database/help/help_Crop_025_02.avi': 3, '/content/gdrive/MyDrive/hand sign database/thief/thief_Crop_001_02.avi': 7, '/content/gdrive/MyDrive/hand sign database/thief/thief_Crop_002_02.avi': 7, '/content/gdrive/MyDrive/hand sign database/thief/thief_Crop_005_02.avi': 7, '/content/gdrive/MyDrive/hand sign database/thief/thief_Crop_004_02.avi': 7, '/content/gdrive/MyDrive/hand sign database/thief/thief_Crop_006_01.avi': 7, '/content/gdrive/MyDrive/hand sign database/thief/thief_Crop_005_01.avi': 7, '/content/gdrive/MyDrive/hand sign database/thief/thief_Crop_003_01.avi': 7, '/content/gdrive/MyDrive/hand sign database/thief/thief_Crop_002_01.avi': 7, '/content/gdrive/MyDrive/hand sign database/thief/thief_Crop_003_02.avi': 7, '/content/gdrive/MyDrive/hand sign database/thief/thief_Crop_004_01.avi': 7, '/content/gdrive/MyDrive/hand sign database/thief/thief_Crop_001_01.avi': 7, '/content/gdrive/MyDrive/hand sign database/thief/thief_Crop_014_01.avi': 7, '/content/gdrive/MyDrive/hand sign database/thief/thief_Crop_009_01.avi': 7, '/content/gdrive/MyDrive/hand sign database/thief/thief_Crop_015_01.avi': 7, '/content/gdrive/MyDrive/hand sign database/thief/thief_Crop_008_02.avi': 7, '/content/gdrive/MyDrive/hand sign database/thief/thief_Crop_007_02.avi': 7, '/content/gdrive/MyDrive/hand sign database/thief/thief_Crop_016_01.avi': 7, '/content/gdrive/MyDrive/hand sign database/thief/thief_Crop_012_02.avi': 7, '/content/gdrive/MyDrive/hand sign database/thief/thief_Crop_016_02.avi': 7, '/content/gdrive/MyDrive/hand sign database/thief/thief_Crop_009_02.avi': 7, '/content/gdrive/MyDrive/hand sign database/thief/thief_Crop_014_02.avi': 7, '/content/gdrive/MyDrive/hand sign database/thief/thief_Crop_015_02.avi': 7, '/content/gdrive/MyDrive/hand sign database/thief/thief_Crop_010_02.avi': 7, '/content/gdrive/MyDrive/hand sign database/thief/thief_Crop_013_01.avi': 7, '/content/gdrive/MyDrive/hand sign database/thief/thief_Crop_010_01.avi': 7, '/content/gdrive/MyDrive/hand sign database/thief/thief_Crop_007_01.avi': 7, '/content/gdrive/MyDrive/hand sign database/thief/thief_Crop_012_01.avi': 7, '/content/gdrive/MyDrive/hand sign database/thief/thief_Crop_017_01.avi': 7, '/content/gdrive/MyDrive/hand sign database/thief/thief_Crop_011_01.avi': 7, '/content/gdrive/MyDrive/hand sign database/thief/thief_Crop_006_02.avi': 7, '/content/gdrive/MyDrive/hand sign database/thief/thief_Crop_013_02.avi': 7, '/content/gdrive/MyDrive/hand sign database/thief/thief_Crop_011_02.avi': 7, '/content/gdrive/MyDrive/hand sign database/thief/thief_Crop_008_01.avi': 7, '/content/gdrive/MyDrive/hand sign database/thief/thief_Crop_017_02.avi': 7, '/content/gdrive/MyDrive/hand sign database/thief/thief_Crop_025_01.avi': 7, '/content/gdrive/MyDrive/hand sign database/thief/thief_Crop_021_01.avi': 7, '/content/gdrive/MyDrive/hand sign database/thief/thief_Crop_026_02.avi': 7, '/content/gdrive/MyDrive/hand sign database/thief/thief_Crop_018_01.avi': 7, '/content/gdrive/MyDrive/hand sign database/thief/thief_Crop_024_01.avi': 7, '/content/gdrive/MyDrive/hand sign database/thief/thief_Crop_025_02.avi': 7, '/content/gdrive/MyDrive/hand sign database/thief/thief_Crop_026_01.avi': 7, '/content/gdrive/MyDrive/hand sign database/thief/thief_Crop_022_02.avi': 7, '/content/gdrive/MyDrive/hand sign database/thief/thief_Crop_023_02.avi': 7, '/content/gdrive/MyDrive/hand sign database/thief/thief_Crop_021_02.avi': 7, '/content/gdrive/MyDrive/hand sign database/thief/thief_Crop_019_02.avi': 7, '/content/gdrive/MyDrive/hand sign database/thief/thief_Crop_018_02.avi': 7, '/content/gdrive/MyDrive/hand sign database/thief/thief_Crop_024_02.avi': 7, '/content/gdrive/MyDrive/hand sign database/thief/thief_Crop_023_01.avi': 7, '/content/gdrive/MyDrive/hand sign database/thief/thief_Crop_019_01.avi': 7, '/content/gdrive/MyDrive/hand sign database/thief/thief_Crop_022_01.avi': 7, '/content/gdrive/MyDrive/hand sign database/call/call_Crop_001_01.avi': 1, '/content/gdrive/MyDrive/hand sign database/call/call_Crop_003_01.avi': 1, '/content/gdrive/MyDrive/hand sign database/call/call_Crop_002_01.avi': 1, '/content/gdrive/MyDrive/hand sign database/call/call_Crop_002_02.avi': 1, '/content/gdrive/MyDrive/hand sign database/call/call_Crop_001_02.avi': 1, '/content/gdrive/MyDrive/hand sign database/call/call_Crop_003_02.avi': 1, '/content/gdrive/MyDrive/hand sign database/call/call_Crop_006_01.avi': 1, '/content/gdrive/MyDrive/hand sign database/call/call_Crop_005_02.avi': 1, '/content/gdrive/MyDrive/hand sign database/call/call_Crop_005_01.avi': 1, '/content/gdrive/MyDrive/hand sign database/call/call_Crop_004_02.avi': 1, '/content/gdrive/MyDrive/hand sign database/call/call_Crop_004_01.avi': 1, '/content/gdrive/MyDrive/hand sign database/call/call_Crop_007_02.avi': 1, '/content/gdrive/MyDrive/hand sign database/call/call_Crop_006_02.avi': 1, '/content/gdrive/MyDrive/hand sign database/call/call_Crop_007_01.avi': 1, '/content/gdrive/MyDrive/hand sign database/call/call_Crop_008_01.avi': 1, '/content/gdrive/MyDrive/hand sign database/call/call_Crop_008_02.avi': 1, '/content/gdrive/MyDrive/hand sign database/call/call_Crop_009_01.avi': 1, '/content/gdrive/MyDrive/hand sign database/call/call_Crop_009_02.avi': 1, '/content/gdrive/MyDrive/hand sign database/call/call_Crop_010_01.avi': 1, '/content/gdrive/MyDrive/hand sign database/call/call_Crop_011_01.avi': 1, '/content/gdrive/MyDrive/hand sign database/call/call_Crop_010_02.avi': 1, '/content/gdrive/MyDrive/hand sign database/call/call_Crop_012_02.avi': 1, '/content/gdrive/MyDrive/hand sign database/call/call_Crop_012_01.avi': 1, '/content/gdrive/MyDrive/hand sign database/call/call_Crop_013_01.avi': 1, '/content/gdrive/MyDrive/hand sign database/call/call_Crop_011_02.avi': 1, '/content/gdrive/MyDrive/hand sign database/call/call_Crop_014_01.avi': 1, '/content/gdrive/MyDrive/hand sign database/call/call_Crop_013_02.avi': 1, '/content/gdrive/MyDrive/hand sign database/call/call_Crop_014_02.avi': 1, '/content/gdrive/MyDrive/hand sign database/call/call_Crop_017_01.avi': 1, '/content/gdrive/MyDrive/hand sign database/call/call_Crop_017_02.avi': 1, '/content/gdrive/MyDrive/hand sign database/call/call_Crop_018_02.avi': 1, '/content/gdrive/MyDrive/hand sign database/call/call_Crop_016_01.avi': 1, '/content/gdrive/MyDrive/hand sign database/call/call_Crop_019_02.avi': 1, '/content/gdrive/MyDrive/hand sign database/call/call_Crop_015_02.avi': 1, '/content/gdrive/MyDrive/hand sign database/call/call_Crop_020_02.avi': 1, '/content/gdrive/MyDrive/hand sign database/call/call_Crop_021_01.avi': 1, '/content/gdrive/MyDrive/hand sign database/call/call_Crop_022_01.avi': 1, '/content/gdrive/MyDrive/hand sign database/call/call_Crop_019_01.avi': 1, '/content/gdrive/MyDrive/hand sign database/call/call_Crop_020_01.avi': 1, '/content/gdrive/MyDrive/hand sign database/call/call_Crop_021_02.avi': 1, '/content/gdrive/MyDrive/hand sign database/call/call_Crop_018_01.avi': 1, '/content/gdrive/MyDrive/hand sign database/call/call_Crop_015_01.avi': 1, '/content/gdrive/MyDrive/hand sign database/call/call_Crop_016_02.avi': 1, '/content/gdrive/MyDrive/hand sign database/call/call_Crop_022_02.avi': 1, '/content/gdrive/MyDrive/hand sign database/call/call_Crop_025_02.avi': 1, '/content/gdrive/MyDrive/hand sign database/call/call_Crop_026_01.avi': 1, '/content/gdrive/MyDrive/hand sign database/call/call_Crop_023_01.avi': 1, '/content/gdrive/MyDrive/hand sign database/call/call_Crop_026_02.avi': 1, '/content/gdrive/MyDrive/hand sign database/call/call_Crop_024_02.avi': 1, '/content/gdrive/MyDrive/hand sign database/call/call_Crop_025_01.avi': 1, '/content/gdrive/MyDrive/hand sign database/call/call_Crop_024_01.avi': 1, '/content/gdrive/MyDrive/hand sign database/call/call_Crop_023_02.avi': 1, '/content/gdrive/MyDrive/hand sign database/hot/hot_Crop_001_01.avi': 4, '/content/gdrive/MyDrive/hand sign database/hot/hot_Crop_002_01.avi': 4, '/content/gdrive/MyDrive/hand sign database/hot/hot_Crop_002_02.avi': 4, '/content/gdrive/MyDrive/hand sign database/hot/hot_Crop_003_02.avi': 4, '/content/gdrive/MyDrive/hand sign database/hot/hot_Crop_003_01.avi': 4, '/content/gdrive/MyDrive/hand sign database/hot/hot_Crop_001_02.avi': 4, '/content/gdrive/MyDrive/hand sign database/hot/hot_Crop_005_01.avi': 4, '/content/gdrive/MyDrive/hand sign database/hot/hot_Crop_006_02.avi': 4, '/content/gdrive/MyDrive/hand sign database/hot/hot_Crop_008_01.avi': 4, '/content/gdrive/MyDrive/hand sign database/hot/hot_Crop_009_01.avi': 4, '/content/gdrive/MyDrive/hand sign database/hot/hot_Crop_011_02.avi': 4, '/content/gdrive/MyDrive/hand sign database/hot/hot_Crop_010_02.avi': 4, '/content/gdrive/MyDrive/hand sign database/hot/hot_Crop_007_01.avi': 4, '/content/gdrive/MyDrive/hand sign database/hot/hot_Crop_012_01.avi': 4, '/content/gdrive/MyDrive/hand sign database/hot/hot_Crop_009_02.avi': 4, '/content/gdrive/MyDrive/hand sign database/hot/hot_Crop_011_01.avi': 4, '/content/gdrive/MyDrive/hand sign database/hot/hot_Crop_014_02.avi': 4, '/content/gdrive/MyDrive/hand sign database/hot/hot_Crop_007_02.avi': 4, '/content/gdrive/MyDrive/hand sign database/hot/hot_Crop_005_02.avi': 4, '/content/gdrive/MyDrive/hand sign database/hot/hot_Crop_012_02.avi': 4, '/content/gdrive/MyDrive/hand sign database/hot/hot_Crop_013_02.avi': 4, '/content/gdrive/MyDrive/hand sign database/hot/hot_Crop_006_01.avi': 4, '/content/gdrive/MyDrive/hand sign database/hot/hot_Crop_008_02.avi': 4, '/content/gdrive/MyDrive/hand sign database/hot/hot_Crop_004_01.avi': 4, '/content/gdrive/MyDrive/hand sign database/hot/hot_Crop_004_02.avi': 4, '/content/gdrive/MyDrive/hand sign database/hot/hot_Crop_014_01.avi': 4, '/content/gdrive/MyDrive/hand sign database/hot/hot_Crop_010_01.avi': 4, '/content/gdrive/MyDrive/hand sign database/hot/hot_Crop_013_01.avi': 4, '/content/gdrive/MyDrive/hand sign database/hot/hot_Crop_015_02.avi': 4, '/content/gdrive/MyDrive/hand sign database/hot/hot_Crop_017_02.avi': 4, '/content/gdrive/MyDrive/hand sign database/hot/hot_Crop_018_01.avi': 4, '/content/gdrive/MyDrive/hand sign database/hot/hot_Crop_017_01.avi': 4, '/content/gdrive/MyDrive/hand sign database/hot/hot_Crop_020_01.avi': 4, '/content/gdrive/MyDrive/hand sign database/hot/hot_Crop_023_02.avi': 4, '/content/gdrive/MyDrive/hand sign database/hot/hot_Crop_024_01.avi': 4, '/content/gdrive/MyDrive/hand sign database/hot/hot_Crop_018_02.avi': 4, '/content/gdrive/MyDrive/hand sign database/hot/hot_Crop_022_02.avi': 4, '/content/gdrive/MyDrive/hand sign database/hot/hot_Crop_025_01.avi': 4, '/content/gdrive/MyDrive/hand sign database/hot/hot_Crop_021_01.avi': 4, '/content/gdrive/MyDrive/hand sign database/hot/hot_Crop_019_02.avi': 4, '/content/gdrive/MyDrive/hand sign database/hot/hot_Crop_021_02.avi': 4, '/content/gdrive/MyDrive/hand sign database/hot/hot_Crop_022_01.avi': 4, '/content/gdrive/MyDrive/hand sign database/hot/hot_Crop_015_01.avi': 4, '/content/gdrive/MyDrive/hand sign database/hot/hot_Crop_019_01.avi': 4, '/content/gdrive/MyDrive/hand sign database/hot/hot_Crop_020_02.avi': 4, '/content/gdrive/MyDrive/hand sign database/hot/hot_Crop_016_02.avi': 4, '/content/gdrive/MyDrive/hand sign database/hot/hot_Crop_016_01.avi': 4, '/content/gdrive/MyDrive/hand sign database/hot/hot_Crop_025_02.avi': 4, '/content/gdrive/MyDrive/hand sign database/hot/hot_Crop_024_02.avi': 4, '/content/gdrive/MyDrive/hand sign database/hot/hot_Crop_023_01.avi': 4, '/content/gdrive/MyDrive/hand sign database/hot/hot_Crop_026_02.avi': 4, '/content/gdrive/MyDrive/hand sign database/hot/hot_Crop_026_01.avi': 4, '/content/gdrive/MyDrive/hand sign database/pain/pain_Crop_007_01.avi': 6, '/content/gdrive/MyDrive/hand sign database/pain/pain_Crop_003_01.avi': 6, '/content/gdrive/MyDrive/hand sign database/pain/pain_Crop_002_01.avi': 6, '/content/gdrive/MyDrive/hand sign database/pain/pain_Crop_005_02.avi': 6, '/content/gdrive/MyDrive/hand sign database/pain/pain_Crop_007_02.avi': 6, '/content/gdrive/MyDrive/hand sign database/pain/pain_Crop_001_01.avi': 6, '/content/gdrive/MyDrive/hand sign database/pain/pain_Crop_006_02.avi': 6, '/content/gdrive/MyDrive/hand sign database/pain/pain_Crop_004_01.avi': 6, '/content/gdrive/MyDrive/hand sign database/pain/pain_Crop_005_01.avi': 6, '/content/gdrive/MyDrive/hand sign database/pain/pain_Crop_003_02.avi': 6, '/content/gdrive/MyDrive/hand sign database/pain/pain_Crop_001_02.avi': 6, '/content/gdrive/MyDrive/hand sign database/pain/pain_Crop_004_02.avi': 6, '/content/gdrive/MyDrive/hand sign database/pain/pain_Crop_002_02.avi': 6, '/content/gdrive/MyDrive/hand sign database/pain/pain_Crop_006_01.avi': 6, '/content/gdrive/MyDrive/hand sign database/pain/pain_Crop_011_01.avi': 6, '/content/gdrive/MyDrive/hand sign database/pain/pain_Crop_009_01.avi': 6, '/content/gdrive/MyDrive/hand sign database/pain/pain_Crop_016_01.avi': 6, '/content/gdrive/MyDrive/hand sign database/pain/pain_Crop_018_01.avi': 6, '/content/gdrive/MyDrive/hand sign database/pain/pain_Crop_012_02.avi': 6, '/content/gdrive/MyDrive/hand sign database/pain/pain_Crop_015_01.avi': 6, '/content/gdrive/MyDrive/hand sign database/pain/pain_Crop_018_02.avi': 6, '/content/gdrive/MyDrive/hand sign database/pain/pain_Crop_017_01.avi': 6, '/content/gdrive/MyDrive/hand sign database/pain/pain_Crop_008_02.avi': 6, '/content/gdrive/MyDrive/hand sign database/pain/pain_Crop_010_01.avi': 6, '/content/gdrive/MyDrive/hand sign database/pain/pain_Crop_016_02.avi': 6, '/content/gdrive/MyDrive/hand sign database/pain/pain_Crop_013_02.avi': 6, '/content/gdrive/MyDrive/hand sign database/pain/pain_Crop_011_02.avi': 6, '/content/gdrive/MyDrive/hand sign database/pain/pain_Crop_014_02.avi': 6, '/content/gdrive/MyDrive/hand sign database/pain/pain_Crop_008_01.avi': 6, '/content/gdrive/MyDrive/hand sign database/pain/pain_Crop_009_02.avi': 6, '/content/gdrive/MyDrive/hand sign database/pain/pain_Crop_014_01.avi': 6, '/content/gdrive/MyDrive/hand sign database/pain/pain_Crop_013_01.avi': 6, '/content/gdrive/MyDrive/hand sign database/pain/pain_Crop_010_02.avi': 6, '/content/gdrive/MyDrive/hand sign database/pain/pain_Crop_017_02.avi': 6, '/content/gdrive/MyDrive/hand sign database/pain/pain_Crop_012_01.avi': 6, '/content/gdrive/MyDrive/hand sign database/pain/pain_Crop_015_02.avi': 6, '/content/gdrive/MyDrive/hand sign database/pain/pain_Crop_023_02.avi': 6, '/content/gdrive/MyDrive/hand sign database/pain/pain_Crop_024_01.avi': 6, '/content/gdrive/MyDrive/hand sign database/pain/pain_Crop_020_02.avi': 6, '/content/gdrive/MyDrive/hand sign database/pain/pain_Crop_025_02.avi': 6, '/content/gdrive/MyDrive/hand sign database/pain/pain_Crop_024_02.avi': 6, '/content/gdrive/MyDrive/hand sign database/pain/pain_Crop_022_02.avi': 6, '/content/gdrive/MyDrive/hand sign database/pain/pain_Crop_019_02.avi': 6, '/content/gdrive/MyDrive/hand sign database/pain/pain_Crop_022_01.avi': 6, '/content/gdrive/MyDrive/hand sign database/pain/pain_Crop_023_01.avi': 6, '/content/gdrive/MyDrive/hand sign database/pain/pain_Crop_025_01.avi': 6, '/content/gdrive/MyDrive/hand sign database/pain/pain_Crop_026_01.avi': 6, '/content/gdrive/MyDrive/hand sign database/pain/pain_Crop_021_01.avi': 6, '/content/gdrive/MyDrive/hand sign database/pain/pain_Crop_019_01.avi': 6, '/content/gdrive/MyDrive/hand sign database/pain/pain_Crop_026_02.avi': 6, '/content/gdrive/MyDrive/hand sign database/pain/pain_Crop_020_01.avi': 6, '/content/gdrive/MyDrive/hand sign database/pain/pain_Crop_021_02.avi': 6, '/content/gdrive/MyDrive/hand sign database/accident/accident_Crop_001_01.avi': 0, '/content/gdrive/MyDrive/hand sign database/accident/accident_Crop_003_01.avi': 0, '/content/gdrive/MyDrive/hand sign database/accident/accident_Crop_001_02.avi': 0, '/content/gdrive/MyDrive/hand sign database/accident/accident_Crop_002_02.avi': 0, '/content/gdrive/MyDrive/hand sign database/accident/accident_Crop_003_02.avi': 0, '/content/gdrive/MyDrive/hand sign database/accident/accident_Crop_002_01.avi': 0, '/content/gdrive/MyDrive/hand sign database/accident/accident_Crop_004_02.avi': 0, '/content/gdrive/MyDrive/hand sign database/accident/accident_Crop_005_02.avi': 0, '/content/gdrive/MyDrive/hand sign database/accident/accident_Crop_006_01.avi': 0, '/content/gdrive/MyDrive/hand sign database/accident/accident_Crop_005_01.avi': 0, '/content/gdrive/MyDrive/hand sign database/accident/accident_Crop_004_01.avi': 0, '/content/gdrive/MyDrive/hand sign database/accident/accident_Crop_007_01.avi': 0, '/content/gdrive/MyDrive/hand sign database/accident/accident_Crop_006_02.avi': 0, '/content/gdrive/MyDrive/hand sign database/accident/accident_Crop_008_02.avi': 0, '/content/gdrive/MyDrive/hand sign database/accident/accident_Crop_008_01.avi': 0, '/content/gdrive/MyDrive/hand sign database/accident/accident_Crop_007_02.avi': 0, '/content/gdrive/MyDrive/hand sign database/accident/accident_Crop_009_01.avi': 0, '/content/gdrive/MyDrive/hand sign database/accident/accident_Crop_009_02.avi': 0, '/content/gdrive/MyDrive/hand sign database/accident/accident_Crop_010_02.avi': 0, '/content/gdrive/MyDrive/hand sign database/accident/accident_Crop_010_01.avi': 0, '/content/gdrive/MyDrive/hand sign database/accident/accident_Crop_011_02.avi': 0, '/content/gdrive/MyDrive/hand sign database/accident/accident_Crop_012_01.avi': 0, '/content/gdrive/MyDrive/hand sign database/accident/accident_Crop_011_01.avi': 0, '/content/gdrive/MyDrive/hand sign database/accident/accident_Crop_014_02.avi': 0, '/content/gdrive/MyDrive/hand sign database/accident/accident_Crop_013_01.avi': 0, '/content/gdrive/MyDrive/hand sign database/accident/accident_Crop_013_02.avi': 0, '/content/gdrive/MyDrive/hand sign database/accident/accident_Crop_014_01.avi': 0, '/content/gdrive/MyDrive/hand sign database/accident/accident_Crop_012_02.avi': 0, '/content/gdrive/MyDrive/hand sign database/accident/accident_Crop_017_01.avi': 0, '/content/gdrive/MyDrive/hand sign database/accident/accident_Crop_016_02.avi': 0, '/content/gdrive/MyDrive/hand sign database/accident/accident_Crop_016_01.avi': 0, '/content/gdrive/MyDrive/hand sign database/accident/accident_Crop_015_01.avi': 0, '/content/gdrive/MyDrive/hand sign database/accident/accident_Crop_015_02.avi': 0, '/content/gdrive/MyDrive/hand sign database/accident/accident_Crop_018_02.avi': 0, '/content/gdrive/MyDrive/hand sign database/accident/accident_Crop_017_02.avi': 0, '/content/gdrive/MyDrive/hand sign database/accident/accident_Crop_019_01.avi': 0, '/content/gdrive/MyDrive/hand sign database/accident/accident_Crop_018_01.avi': 0, '/content/gdrive/MyDrive/hand sign database/accident/accident_Crop_019_02.avi': 0, '/content/gdrive/MyDrive/hand sign database/accident/accident_Crop_020_02.avi': 0, '/content/gdrive/MyDrive/hand sign database/accident/accident_Crop_021_01.avi': 0, '/content/gdrive/MyDrive/hand sign database/accident/accident_Crop_020_01.avi': 0, '/content/gdrive/MyDrive/hand sign database/accident/accident_Crop_021_02.avi': 0, '/content/gdrive/MyDrive/hand sign database/accident/accident_Crop_022_01.avi': 0, '/content/gdrive/MyDrive/hand sign database/accident/accident_Crop_022_02.avi': 0, '/content/gdrive/MyDrive/hand sign database/accident/accident_Crop_023_02.avi': 0, '/content/gdrive/MyDrive/hand sign database/accident/accident_Crop_023_01.avi': 0, '/content/gdrive/MyDrive/hand sign database/accident/accident_Crop_026_02.avi': 0, '/content/gdrive/MyDrive/hand sign database/accident/accident_Crop_026_01.avi': 0, '/content/gdrive/MyDrive/hand sign database/accident/accident_Crop_025_02.avi': 0, '/content/gdrive/MyDrive/hand sign database/accident/accident_Crop_024_01.avi': 0, '/content/gdrive/MyDrive/hand sign database/accident/accident_Crop_025_01.avi': 0, '/content/gdrive/MyDrive/hand sign database/accident/accident_Crop_024_02.avi': 0, '/content/gdrive/MyDrive/hand sign database/lose/lose_Crop_002_02.avi': 5, '/content/gdrive/MyDrive/hand sign database/lose/lose_Crop_001_02.avi': 5, '/content/gdrive/MyDrive/hand sign database/lose/lose_Crop_002_01.avi': 5, '/content/gdrive/MyDrive/hand sign database/lose/lose_Crop_003_01.avi': 5, '/content/gdrive/MyDrive/hand sign database/lose/lose_Crop_001_01.avi': 5, '/content/gdrive/MyDrive/hand sign database/lose/lose_Crop_003_02.avi': 5, '/content/gdrive/MyDrive/hand sign database/lose/lose_Crop_011_02.avi': 5, '/content/gdrive/MyDrive/hand sign database/lose/lose_Crop_004_01.avi': 5, '/content/gdrive/MyDrive/hand sign database/lose/lose_Crop_013_01.avi': 5, '/content/gdrive/MyDrive/hand sign database/lose/lose_Crop_005_02.avi': 5, '/content/gdrive/MyDrive/hand sign database/lose/lose_Crop_006_02.avi': 5, '/content/gdrive/MyDrive/hand sign database/lose/lose_Crop_014_01.avi': 5, '/content/gdrive/MyDrive/hand sign database/lose/lose_Crop_007_01.avi': 5, '/content/gdrive/MyDrive/hand sign database/lose/lose_Crop_008_01.avi': 5, '/content/gdrive/MyDrive/hand sign database/lose/lose_Crop_011_01.avi': 5, '/content/gdrive/MyDrive/hand sign database/lose/lose_Crop_006_01.avi': 5, '/content/gdrive/MyDrive/hand sign database/lose/lose_Crop_012_02.avi': 5, '/content/gdrive/MyDrive/hand sign database/lose/lose_Crop_007_02.avi': 5, '/content/gdrive/MyDrive/hand sign database/lose/lose_Crop_012_01.avi': 5, '/content/gdrive/MyDrive/hand sign database/lose/lose_Crop_008_02.avi': 5, '/content/gdrive/MyDrive/hand sign database/lose/lose_Crop_004_02.avi': 5, '/content/gdrive/MyDrive/hand sign database/lose/lose_Crop_013_02.avi': 5, '/content/gdrive/MyDrive/hand sign database/lose/lose_Crop_009_02.avi': 5, '/content/gdrive/MyDrive/hand sign database/lose/lose_Crop_010_02.avi': 5, '/content/gdrive/MyDrive/hand sign database/lose/lose_Crop_005_01.avi': 5, '/content/gdrive/MyDrive/hand sign database/lose/lose_Crop_010_01.avi': 5, '/content/gdrive/MyDrive/hand sign database/lose/lose_Crop_009_01.avi': 5, '/content/gdrive/MyDrive/hand sign database/lose/lose_Crop_018_01.avi': 5, '/content/gdrive/MyDrive/hand sign database/lose/lose_Crop_015_01.avi': 5, '/content/gdrive/MyDrive/hand sign database/lose/lose_Crop_021_01.avi': 5, '/content/gdrive/MyDrive/hand sign database/lose/lose_Crop_017_02.avi': 5, '/content/gdrive/MyDrive/hand sign database/lose/lose_Crop_014_02.avi': 5, '/content/gdrive/MyDrive/hand sign database/lose/lose_Crop_016_02.avi': 5, '/content/gdrive/MyDrive/hand sign database/lose/lose_Crop_017_01.avi': 5, '/content/gdrive/MyDrive/hand sign database/lose/lose_Crop_016_01.avi': 5, '/content/gdrive/MyDrive/hand sign database/lose/lose_Crop_020_01.avi': 5, '/content/gdrive/MyDrive/hand sign database/lose/lose_Crop_021_02.avi': 5, '/content/gdrive/MyDrive/hand sign database/lose/lose_Crop_020_02.avi': 5, '/content/gdrive/MyDrive/hand sign database/lose/lose_Crop_018_02.avi': 5, '/content/gdrive/MyDrive/hand sign database/lose/lose_Crop_015_02.avi': 5, '/content/gdrive/MyDrive/hand sign database/doctor/doctor_Crop_001_02.avi': 2, '/content/gdrive/MyDrive/hand sign database/doctor/doctor_Crop_006_01.avi': 2, '/content/gdrive/MyDrive/hand sign database/doctor/doctor_Crop_002_02.avi': 2, '/content/gdrive/MyDrive/hand sign database/doctor/doctor_Crop_003_01.avi': 2, '/content/gdrive/MyDrive/hand sign database/doctor/doctor_Crop_007_01.avi': 2, '/content/gdrive/MyDrive/hand sign database/doctor/doctor_Crop_002_01.avi': 2, '/content/gdrive/MyDrive/hand sign database/doctor/doctor_Crop_003_02.avi': 2, '/content/gdrive/MyDrive/hand sign database/doctor/doctor_Crop_006_02.avi': 2, '/content/gdrive/MyDrive/hand sign database/doctor/doctor_Crop_004_02.avi': 2, '/content/gdrive/MyDrive/hand sign database/doctor/doctor_Crop_004_01.avi': 2, '/content/gdrive/MyDrive/hand sign database/doctor/doctor_Crop_001_01.avi': 2, '/content/gdrive/MyDrive/hand sign database/doctor/doctor_Crop_005_02.avi': 2, '/content/gdrive/MyDrive/hand sign database/doctor/doctor_Crop_005_01.avi': 2, '/content/gdrive/MyDrive/hand sign database/doctor/doctor_Crop_008_02.avi': 2, '/content/gdrive/MyDrive/hand sign database/doctor/doctor_Crop_014_01.avi': 2, '/content/gdrive/MyDrive/hand sign database/doctor/doctor_Crop_015_02.avi': 2, '/content/gdrive/MyDrive/hand sign database/doctor/doctor_Crop_014_02.avi': 2, '/content/gdrive/MyDrive/hand sign database/doctor/doctor_Crop_010_01.avi': 2, '/content/gdrive/MyDrive/hand sign database/doctor/doctor_Crop_013_01.avi': 2, '/content/gdrive/MyDrive/hand sign database/doctor/doctor_Crop_010_02.avi': 2, '/content/gdrive/MyDrive/hand sign database/doctor/doctor_Crop_009_02.avi': 2, '/content/gdrive/MyDrive/hand sign database/doctor/doctor_Crop_008_01.avi': 2, '/content/gdrive/MyDrive/hand sign database/doctor/doctor_Crop_013_02.avi': 2, '/content/gdrive/MyDrive/hand sign database/doctor/doctor_Crop_009_01.avi': 2, '/content/gdrive/MyDrive/hand sign database/doctor/doctor_Crop_012_01.avi': 2, '/content/gdrive/MyDrive/hand sign database/doctor/doctor_Crop_011_02.avi': 2, '/content/gdrive/MyDrive/hand sign database/doctor/doctor_Crop_007_02.avi': 2, '/content/gdrive/MyDrive/hand sign database/doctor/doctor_Crop_015_01.avi': 2, '/content/gdrive/MyDrive/hand sign database/doctor/doctor_Crop_012_02.avi': 2, '/content/gdrive/MyDrive/hand sign database/doctor/doctor_Crop_011_01.avi': 2, '/content/gdrive/MyDrive/hand sign database/doctor/doctor_Crop_018_02.avi': 2, '/content/gdrive/MyDrive/hand sign database/doctor/doctor_Crop_017_01.avi': 2, '/content/gdrive/MyDrive/hand sign database/doctor/doctor_Crop_023_01.avi': 2, '/content/gdrive/MyDrive/hand sign database/doctor/doctor_Crop_018_01.avi': 2, '/content/gdrive/MyDrive/hand sign database/doctor/doctor_Crop_023_02.avi': 2, '/content/gdrive/MyDrive/hand sign database/doctor/doctor_Crop_020_01.avi': 2, '/content/gdrive/MyDrive/hand sign database/doctor/doctor_Crop_022_02.avi': 2, '/content/gdrive/MyDrive/hand sign database/doctor/doctor_Crop_016_02.avi': 2, '/content/gdrive/MyDrive/hand sign database/doctor/doctor_Crop_016_01.avi': 2, '/content/gdrive/MyDrive/hand sign database/doctor/doctor_Crop_019_01.avi': 2, '/content/gdrive/MyDrive/hand sign database/doctor/doctor_Crop_022_01.avi': 2, '/content/gdrive/MyDrive/hand sign database/doctor/doctor_Crop_019_02.avi': 2, '/content/gdrive/MyDrive/hand sign database/doctor/doctor_Crop_020_02.avi': 2, '/content/gdrive/MyDrive/hand sign database/doctor/doctor_Crop_017_02.avi': 2, '/content/gdrive/MyDrive/hand sign database/doctor/doctor_Crop_021_02.avi': 2, '/content/gdrive/MyDrive/hand sign database/doctor/doctor_Crop_021_01.avi': 2, '/content/gdrive/MyDrive/hand sign database/doctor/doctor_Crop_026_02.avi': 2, '/content/gdrive/MyDrive/hand sign database/doctor/doctor_Crop_026_01.avi': 2, '/content/gdrive/MyDrive/hand sign database/doctor/doctor_Crop_025_02.avi': 2, '/content/gdrive/MyDrive/hand sign database/doctor/doctor_Crop_025_01.avi': 2, '/content/gdrive/MyDrive/hand sign database/doctor/doctor_Crop_024_02.avi': 2, '/content/gdrive/MyDrive/hand sign database/doctor/doctor_Crop_024_01.avi': 2}\n"
          ],
          "name": "stdout"
        }
      ]
    },
    {
      "cell_type": "code",
      "metadata": {
        "id": "RzraMGyZR27l"
      },
      "source": [
        "import gc\n",
        "class LossAndErrorPrintingCallback(keras.callbacks.Callback):\n",
        "  def on_batch_end(self, epoch, logs=None):\n",
        "    print(\"Batch end\")\n",
        "    gc.enable()\n",
        "    gc.collect()\n",
        "    return"
      ],
      "execution_count": 12,
      "outputs": []
    },
    {
      "cell_type": "code",
      "metadata": {
        "colab": {
          "base_uri": "https://localhost:8080/",
          "height": 1000
        },
        "id": "FKvYlrJmxLdx",
        "outputId": "926b2486-e9d9-4332-c5fb-8e2ede991ca4"
      },
      "source": [
        "with tf.device('/device:GPU:0'):\n",
        "  Tframes=17\n",
        "  batch_size=9\n",
        "  # nLstmUnits=1800 #1700 #1600 was good\n",
        "  # nLstmUnits=1660 #1640#1630 #1650\n",
        "  nLstmUnits=1750\n",
        "  frameSize=(224,224)\n",
        "  params = {'dim': (Tframes,frameSize[0],frameSize[1],3),\n",
        "            'batch_size': batch_size,\n",
        "            'n_classes': 8,\n",
        "            'shuffle': True}\n",
        "  epochs=6\n",
        "  # Generators\n",
        "  training_generator = DataGenerator(partition['train'], labels, **params)\n",
        "  validation_generator = DataGenerator(partition['validation'], labels, **params)\n",
        "\n",
        "\n",
        "  model=createModel4(Tframes=Tframes,nLstmUnits=nLstmUnits,optimizer=keras.optimizers.Adam(learning_rate=0.00068))\n",
        "  begin=time.time()\n",
        "  history=model.fit_generator(epochs=epochs,verbose=2,generator=training_generator,\n",
        "                    validation_data=validation_generator,callbacks=[LossAndErrorPrintingCallback()])\n",
        "  end=time.time()\n",
        "\n",
        "  plt.plot(history.history['accuracy'])\n",
        "  plt.plot(history.history['val_accuracy'])\n",
        "  plt.title('model accuracy')\n",
        "  plt.ylabel('accuracy')\n",
        "  plt.xlabel('epoch')\n",
        "  plt.legend(['train', 'val'], loc='upper left')\n",
        "  plt.show()\n",
        "\n",
        "  plt.plot(history.history['loss'])\n",
        "  plt.plot(history.history['val_loss'])\n",
        "  plt.title('model loss')\n",
        "  plt.ylabel('loss')\n",
        "  plt.xlabel('epoch')\n",
        "  plt.legend(['train', 'val'], loc='upper left')\n",
        "  plt.show()\n",
        "\n",
        "  print(\"Time taken: \",end-begin)"
      ],
      "execution_count": null,
      "outputs": [
        {
          "output_type": "stream",
          "text": [
            "Downloading data from https://storage.googleapis.com/tensorflow/keras-applications/inception_v3/inception_v3_weights_tf_dim_ordering_tf_kernels_notop.h5\n",
            "87916544/87910968 [==============================] - 0s 0us/step\n",
            "out.shape:  (None, 224, 224, 3)\n",
            "out.shape:  (None, 224, 224, 3)\n",
            "out.shape:  (None, 224, 224, 3)\n",
            "out.shape:  (None, 224, 224, 3)\n",
            "out.shape:  (None, 224, 224, 3)\n",
            "out.shape:  (None, 224, 224, 3)\n",
            "out.shape:  (None, 224, 224, 3)\n",
            "out.shape:  (None, 224, 224, 3)\n",
            "out.shape:  (None, 224, 224, 3)\n",
            "out.shape:  (None, 224, 224, 3)\n",
            "out.shape:  (None, 224, 224, 3)\n",
            "out.shape:  (None, 224, 224, 3)\n",
            "out.shape:  (None, 224, 224, 3)\n",
            "out.shape:  (None, 224, 224, 3)\n",
            "out.shape:  (None, 224, 224, 3)\n",
            "out.shape:  (None, 224, 224, 3)\n",
            "out.shape:  (None, 224, 224, 3)\n",
            "input_1\n",
            "lambda\n",
            "lambda_1\n",
            "lambda_2\n",
            "lambda_3\n",
            "lambda_4\n",
            "lambda_5\n",
            "lambda_6\n",
            "lambda_7\n",
            "lambda_8\n",
            "lambda_9\n",
            "lambda_10\n",
            "lambda_11\n",
            "lambda_12\n",
            "lambda_13\n",
            "lambda_14\n",
            "lambda_15\n",
            "lambda_16\n",
            "inception_0\n",
            "inception_1\n",
            "inception_2\n",
            "inception_3\n",
            "inception_4\n",
            "inception_5\n",
            "inception_6\n",
            "inception_7\n",
            "inception_8\n",
            "inception_9\n",
            "inception_10\n",
            "inception_11\n",
            "inception_12\n",
            "inception_13\n",
            "inception_14\n",
            "inception_15\n",
            "inception_16\n",
            "concatenate_2\n",
            "time_distributed\n",
            "flatten\n",
            "dense\n",
            "Shape of X output by data generator:  (9, 17, 224, 224, 3)\n",
            "Epoch 1/6\n",
            "Shape of X output by data generator:  (9, 17, 224, 224, 3)\n",
            "Shape of X output by data generator:  (9, 17, 224, 224, 3)\n",
            "Batch end\n",
            "Batch end\n",
            "Shape of X output by data generator:  (9, 17, 224, 224, 3)\n",
            "Batch end\n",
            "Shape of X output by data generator:  (9, 17, 224, 224, 3)\n",
            "Batch end\n",
            "Shape of X output by data generator:  (9, 17, 224, 224, 3)\n",
            "Batch end\n",
            "Shape of X output by data generator:  (9, 17, 224, 224, 3)\n",
            "Batch end\n",
            "Shape of X output by data generator:  (9, 17, 224, 224, 3)\n",
            "Batch end\n",
            "Shape of X output by data generator:  (9, 17, 224, 224, 3)\n",
            "Batch end\n",
            "Shape of X output by data generator:  (9, 17, 224, 224, 3)\n",
            "Batch end\n",
            "Shape of X output by data generator:  (9, 17, 224, 224, 3)\n",
            "Batch end\n",
            "Shape of X output by data generator:  (9, 17, 224, 224, 3)\n",
            "Batch end\n",
            "Shape of X output by data generator:  (9, 17, 224, 224, 3)\n",
            "Batch end\n",
            "Shape of X output by data generator:  (9, 17, 224, 224, 3)\n",
            "Batch end\n",
            "Shape of X output by data generator:  (9, 17, 224, 224, 3)\n",
            "Batch end\n",
            "Shape of X output by data generator:  (9, 17, 224, 224, 3)\n",
            "Batch end\n",
            "Shape of X output by data generator:  (9, 17, 224, 224, 3)\n",
            "Batch end\n",
            "Shape of X output by data generator:  (9, 17, 224, 224, 3)\n",
            "Batch end\n",
            "Shape of X output by data generator:  (9, 17, 224, 224, 3)\n",
            "Batch end\n",
            "Shape of X output by data generator:  (9, 17, 224, 224, 3)\n",
            "Batch end\n",
            "Shape of X output by data generator:  (9, 17, 224, 224, 3)\n",
            "Batch end\n",
            "Shape of X output by data generator:  (9, 17, 224, 224, 3)\n",
            "Batch end\n",
            "Shape of X output by data generator:  (9, 17, 224, 224, 3)\n",
            "Batch end\n",
            "Shape of X output by data generator:  (9, 17, 224, 224, 3)\n",
            "Batch end\n",
            "Shape of X output by data generator:  (9, 17, 224, 224, 3)\n",
            "Batch end\n",
            "Shape of X output by data generator:  (9, 17, 224, 224, 3)\n",
            "Batch end\n",
            "Shape of X output by data generator:  (9, 17, 224, 224, 3)\n",
            "Batch end\n",
            "Shape of X output by data generator:  (9, 17, 224, 224, 3)\n",
            "Batch end\n",
            "Shape of X output by data generator:  (9, 17, 224, 224, 3)\n",
            "Batch end\n",
            "Shape of X output by data generator:  (9, 17, 224, 224, 3)\n",
            "Batch end\n",
            "Shape of X output by data generator:  (9, 17, 224, 224, 3)\n",
            "Batch end\n",
            "Shape of X output by data generator:  (9, 17, 224, 224, 3)\n",
            "Batch end\n",
            "Shape of X output by data generator:  (9, 17, 224, 224, 3)\n",
            "Batch end\n",
            "Shape of X output by data generator:  (9, 17, 224, 224, 3)\n",
            "Batch end\n",
            "Shape of X output by data generator:  (9, 17, 224, 224, 3)\n",
            "Shape of X output by data generator:  (9, 17, 224, 224, 3)\n",
            "Shape of X output by data generator:  (9, 17, 224, 224, 3)\n",
            "Shape of X output by data generator:  (9, 17, 224, 224, 3)\n",
            "Shape of X output by data generator:  (9, 17, 224, 224, 3)\n",
            "Shape of X output by data generator:  (9, 17, 224, 224, 3)\n",
            "Shape of X output by data generator:  (9, 17, 224, 224, 3)\n",
            "33/33 - 451s - loss: 1.5123 - accuracy: 0.6027 - val_loss: 0.4635 - val_accuracy: 0.8333\n",
            "Epoch 2/6\n",
            "Shape of X output by data generator:  (9, 17, 224, 224, 3)\n",
            "Batch end\n",
            "Shape of X output by data generator:  (9, 17, 224, 224, 3)\n",
            "Batch end\n",
            "Shape of X output by data generator:  (9, 17, 224, 224, 3)\n",
            "Batch end\n",
            "Shape of X output by data generator:  (9, 17, 224, 224, 3)\n",
            "Batch end\n",
            "Shape of X output by data generator:  (9, 17, 224, 224, 3)\n",
            "Batch end\n",
            "Shape of X output by data generator:  (9, 17, 224, 224, 3)\n",
            "Batch end\n",
            "Shape of X output by data generator:  (9, 17, 224, 224, 3)\n",
            "Batch end\n",
            "Shape of X output by data generator:  (9, 17, 224, 224, 3)\n",
            "Batch end\n",
            "Shape of X output by data generator:  (9, 17, 224, 224, 3)\n",
            "Batch end\n",
            "Shape of X output by data generator:  (9, 17, 224, 224, 3)\n",
            "Batch end\n",
            "Shape of X output by data generator:  (9, 17, 224, 224, 3)\n",
            "Batch end\n",
            "Shape of X output by data generator:  (9, 17, 224, 224, 3)\n",
            "Batch end\n",
            "Shape of X output by data generator:  (9, 17, 224, 224, 3)\n",
            "Batch end\n",
            "Shape of X output by data generator:  (9, 17, 224, 224, 3)\n",
            "Batch end\n",
            "Shape of X output by data generator:  (9, 17, 224, 224, 3)\n",
            "Batch end\n",
            "Shape of X output by data generator:  (9, 17, 224, 224, 3)\n",
            "Batch end\n",
            "Shape of X output by data generator:  (9, 17, 224, 224, 3)\n",
            "Batch end\n",
            "Shape of X output by data generator:  (9, 17, 224, 224, 3)\n",
            "Batch end\n",
            "Shape of X output by data generator:  (9, 17, 224, 224, 3)\n",
            "Batch end\n",
            "Shape of X output by data generator:  (9, 17, 224, 224, 3)\n",
            "Batch end\n",
            "Shape of X output by data generator:  (9, 17, 224, 224, 3)\n",
            "Batch end\n",
            "Shape of X output by data generator:  (9, 17, 224, 224, 3)\n",
            "Batch end\n",
            "Shape of X output by data generator:  (9, 17, 224, 224, 3)\n",
            "Batch end\n",
            "Shape of X output by data generator:  (9, 17, 224, 224, 3)\n",
            "Batch end\n",
            "Shape of X output by data generator:  (9, 17, 224, 224, 3)\n",
            "Batch end\n",
            "Shape of X output by data generator:  (9, 17, 224, 224, 3)\n",
            "Batch end\n",
            "Shape of X output by data generator:  (9, 17, 224, 224, 3)\n",
            "Batch end\n",
            "Shape of X output by data generator:  (9, 17, 224, 224, 3)\n",
            "Batch end\n",
            "Shape of X output by data generator:  (9, 17, 224, 224, 3)\n",
            "Batch end\n",
            "Shape of X output by data generator:  (9, 17, 224, 224, 3)\n",
            "Batch end\n",
            "Shape of X output by data generator:  (9, 17, 224, 224, 3)\n",
            "Batch end\n",
            "Shape of X output by data generator:  (9, 17, 224, 224, 3)\n",
            "Batch end\n",
            "Shape of X output by data generator:  (9, 17, 224, 224, 3)\n",
            "Batch end\n",
            "Shape of X output by data generator:  (9, 17, 224, 224, 3)\n",
            "Shape of X output by data generator:  (9, 17, 224, 224, 3)\n",
            "Shape of X output by data generator:  (9, 17, 224, 224, 3)\n",
            "Shape of X output by data generator:  (9, 17, 224, 224, 3)\n",
            "Shape of X output by data generator:  (9, 17, 224, 224, 3)\n",
            "Shape of X output by data generator:  (9, 17, 224, 224, 3)\n",
            "33/33 - 176s - loss: 0.3883 - accuracy: 0.8822 - val_loss: 0.5273 - val_accuracy: 0.7963\n",
            "Epoch 3/6\n",
            "Shape of X output by data generator:  (9, 17, 224, 224, 3)\n",
            "Batch end\n",
            "Shape of X output by data generator:  (9, 17, 224, 224, 3)\n",
            "Batch end\n",
            "Shape of X output by data generator:  (9, 17, 224, 224, 3)\n",
            "Batch end\n",
            "Shape of X output by data generator:  (9, 17, 224, 224, 3)\n",
            "Batch end\n",
            "Shape of X output by data generator:  (9, 17, 224, 224, 3)\n",
            "Batch end\n",
            "Shape of X output by data generator:  (9, 17, 224, 224, 3)\n",
            "Batch end\n",
            "Shape of X output by data generator:  (9, 17, 224, 224, 3)\n",
            "Batch end\n",
            "Shape of X output by data generator:  (9, 17, 224, 224, 3)\n",
            "Batch end\n",
            "Shape of X output by data generator:  (9, 17, 224, 224, 3)\n",
            "Batch end\n",
            "Shape of X output by data generator:  (9, 17, 224, 224, 3)\n",
            "Batch end\n",
            "Shape of X output by data generator:  (9, 17, 224, 224, 3)\n",
            "Batch end\n",
            "Shape of X output by data generator:  (9, 17, 224, 224, 3)\n",
            "Batch end\n",
            "Shape of X output by data generator:  (9, 17, 224, 224, 3)\n",
            "Batch end\n",
            "Shape of X output by data generator:  (9, 17, 224, 224, 3)\n",
            "Batch end\n",
            "Shape of X output by data generator:  (9, 17, 224, 224, 3)\n",
            "Batch end\n",
            "Shape of X output by data generator:  (9, 17, 224, 224, 3)\n",
            "Batch end\n",
            "Shape of X output by data generator:  (9, 17, 224, 224, 3)\n",
            "Batch end\n",
            "Shape of X output by data generator:  (9, 17, 224, 224, 3)\n",
            "Batch end\n",
            "Shape of X output by data generator:  (9, 17, 224, 224, 3)\n",
            "Batch end\n",
            "Shape of X output by data generator:  (9, 17, 224, 224, 3)\n",
            "Batch end\n",
            "Shape of X output by data generator:  (9, 17, 224, 224, 3)\n",
            "Batch end\n",
            "Shape of X output by data generator:  (9, 17, 224, 224, 3)\n",
            "Batch end\n",
            "Shape of X output by data generator:  (9, 17, 224, 224, 3)\n",
            "Batch end\n",
            "Shape of X output by data generator:  (9, 17, 224, 224, 3)\n",
            "Batch end\n",
            "Shape of X output by data generator:  (9, 17, 224, 224, 3)\n",
            "Batch end\n",
            "Shape of X output by data generator:  (9, 17, 224, 224, 3)\n",
            "Batch end\n",
            "Shape of X output by data generator:  (9, 17, 224, 224, 3)\n",
            "Batch end\n",
            "Shape of X output by data generator:  (9, 17, 224, 224, 3)\n",
            "Batch end\n",
            "Shape of X output by data generator:  (9, 17, 224, 224, 3)\n",
            "Batch end\n",
            "Shape of X output by data generator:  (9, 17, 224, 224, 3)\n",
            "Batch end\n",
            "Shape of X output by data generator:  (9, 17, 224, 224, 3)\n",
            "Batch end\n",
            "Shape of X output by data generator:  (9, 17, 224, 224, 3)\n",
            "Batch end\n",
            "Shape of X output by data generator:  (9, 17, 224, 224, 3)\n",
            "Batch end\n",
            "Shape of X output by data generator:  (9, 17, 224, 224, 3)\n",
            "Shape of X output by data generator:  (9, 17, 224, 224, 3)\n",
            "Shape of X output by data generator:  (9, 17, 224, 224, 3)\n",
            "Shape of X output by data generator:  (9, 17, 224, 224, 3)\n",
            "Shape of X output by data generator:  (9, 17, 224, 224, 3)\n",
            "Shape of X output by data generator:  (9, 17, 224, 224, 3)\n",
            "33/33 - 186s - loss: 0.4903 - accuracy: 0.8485 - val_loss: 0.3338 - val_accuracy: 0.8704\n",
            "Epoch 4/6\n",
            "Shape of X output by data generator:  (9, 17, 224, 224, 3)\n",
            "Batch end\n",
            "Shape of X output by data generator:  (9, 17, 224, 224, 3)\n",
            "Batch end\n",
            "Shape of X output by data generator:  (9, 17, 224, 224, 3)\n",
            "Batch end\n",
            "Shape of X output by data generator:  (9, 17, 224, 224, 3)\n",
            "Batch end\n",
            "Shape of X output by data generator:  (9, 17, 224, 224, 3)\n",
            "Batch end\n",
            "Shape of X output by data generator:  (9, 17, 224, 224, 3)\n",
            "Batch end\n",
            "Shape of X output by data generator:  (9, 17, 224, 224, 3)\n",
            "Batch end\n",
            "Shape of X output by data generator:  (9, 17, 224, 224, 3)\n",
            "Batch end\n",
            "Shape of X output by data generator:  (9, 17, 224, 224, 3)\n",
            "Batch end\n",
            "Shape of X output by data generator:  (9, 17, 224, 224, 3)\n",
            "Batch end\n",
            "Shape of X output by data generator:  (9, 17, 224, 224, 3)\n",
            "Batch end\n",
            "Shape of X output by data generator:  (9, 17, 224, 224, 3)\n",
            "Batch end\n",
            "Shape of X output by data generator:  (9, 17, 224, 224, 3)\n",
            "Batch end\n",
            "Shape of X output by data generator:  (9, 17, 224, 224, 3)\n",
            "Batch end\n",
            "Shape of X output by data generator:  (9, 17, 224, 224, 3)\n",
            "Batch end\n",
            "Shape of X output by data generator:  (9, 17, 224, 224, 3)\n",
            "Batch end\n",
            "Shape of X output by data generator:  (9, 17, 224, 224, 3)\n",
            "Batch end\n",
            "Shape of X output by data generator:  (9, 17, 224, 224, 3)\n",
            "Batch end\n",
            "Shape of X output by data generator:  (9, 17, 224, 224, 3)\n",
            "Batch end\n",
            "Shape of X output by data generator:  (9, 17, 224, 224, 3)\n",
            "Batch end\n",
            "Shape of X output by data generator:  (9, 17, 224, 224, 3)\n",
            "Batch end\n",
            "Shape of X output by data generator:  (9, 17, 224, 224, 3)\n",
            "Batch end\n",
            "Shape of X output by data generator:  (9, 17, 224, 224, 3)\n",
            "Batch end\n",
            "Shape of X output by data generator:  (9, 17, 224, 224, 3)\n",
            "Batch end\n",
            "Shape of X output by data generator:  (9, 17, 224, 224, 3)\n",
            "Batch end\n",
            "Shape of X output by data generator:  (9, 17, 224, 224, 3)\n",
            "Batch end\n",
            "Shape of X output by data generator:  (9, 17, 224, 224, 3)\n",
            "Batch end\n",
            "Shape of X output by data generator:  (9, 17, 224, 224, 3)\n",
            "Batch end\n",
            "Shape of X output by data generator:  (9, 17, 224, 224, 3)\n",
            "Batch end\n",
            "Shape of X output by data generator:  (9, 17, 224, 224, 3)\n",
            "Batch end\n",
            "Shape of X output by data generator:  (9, 17, 224, 224, 3)\n",
            "Batch end\n",
            "Shape of X output by data generator:  (9, 17, 224, 224, 3)\n",
            "Batch end\n",
            "Shape of X output by data generator:  (9, 17, 224, 224, 3)\n",
            "Batch end\n",
            "Shape of X output by data generator:  (9, 17, 224, 224, 3)\n",
            "Shape of X output by data generator:  (9, 17, 224, 224, 3)\n",
            "Shape of X output by data generator:  (9, 17, 224, 224, 3)\n",
            "Shape of X output by data generator:  (9, 17, 224, 224, 3)\n",
            "Shape of X output by data generator:  (9, 17, 224, 224, 3)\n",
            "Shape of X output by data generator:  (9, 17, 224, 224, 3)\n",
            "33/33 - 201s - loss: 0.2410 - accuracy: 0.9360 - val_loss: 0.6022 - val_accuracy: 0.8519\n",
            "Epoch 5/6\n",
            "Shape of X output by data generator:  (9, 17, 224, 224, 3)\n",
            "Batch end\n",
            "Shape of X output by data generator:  (9, 17, 224, 224, 3)\n",
            "Batch end\n",
            "Shape of X output by data generator:  (9, 17, 224, 224, 3)\n",
            "Batch end\n",
            "Shape of X output by data generator:  (9, 17, 224, 224, 3)\n",
            "Batch end\n",
            "Shape of X output by data generator:  (9, 17, 224, 224, 3)\n",
            "Batch end\n",
            "Shape of X output by data generator:  (9, 17, 224, 224, 3)\n",
            "Batch end\n",
            "Shape of X output by data generator:  (9, 17, 224, 224, 3)\n",
            "Batch end\n",
            "Shape of X output by data generator:  (9, 17, 224, 224, 3)\n",
            "Batch end\n",
            "Shape of X output by data generator:  (9, 17, 224, 224, 3)\n",
            "Batch end\n",
            "Shape of X output by data generator:  (9, 17, 224, 224, 3)\n",
            "Batch end\n",
            "Shape of X output by data generator:  (9, 17, 224, 224, 3)\n",
            "Batch end\n",
            "Shape of X output by data generator:  (9, 17, 224, 224, 3)\n",
            "Batch end\n",
            "Shape of X output by data generator:  (9, 17, 224, 224, 3)\n",
            "Batch end\n",
            "Shape of X output by data generator:  (9, 17, 224, 224, 3)\n",
            "Batch end\n",
            "Shape of X output by data generator:  (9, 17, 224, 224, 3)\n",
            "Batch end\n",
            "Shape of X output by data generator:  (9, 17, 224, 224, 3)\n",
            "Batch end\n",
            "Shape of X output by data generator:  (9, 17, 224, 224, 3)\n",
            "Batch end\n",
            "Shape of X output by data generator:  (9, 17, 224, 224, 3)\n",
            "Batch end\n",
            "Shape of X output by data generator:  (9, 17, 224, 224, 3)\n",
            "Batch end\n",
            "Shape of X output by data generator:  (9, 17, 224, 224, 3)\n",
            "Batch end\n",
            "Shape of X output by data generator:  (9, 17, 224, 224, 3)\n",
            "Batch end\n",
            "Shape of X output by data generator:  (9, 17, 224, 224, 3)\n",
            "Batch end\n",
            "Shape of X output by data generator:  (9, 17, 224, 224, 3)\n",
            "Batch end\n",
            "Shape of X output by data generator:  (9, 17, 224, 224, 3)\n",
            "Batch end\n",
            "Shape of X output by data generator:  (9, 17, 224, 224, 3)\n",
            "Batch end\n",
            "Shape of X output by data generator:  (9, 17, 224, 224, 3)\n",
            "Batch end\n",
            "Shape of X output by data generator:  (9, 17, 224, 224, 3)\n",
            "Batch end\n",
            "Shape of X output by data generator:  (9, 17, 224, 224, 3)\n",
            "Batch end\n",
            "Shape of X output by data generator:  (9, 17, 224, 224, 3)\n",
            "Batch end\n",
            "Shape of X output by data generator:  (9, 17, 224, 224, 3)\n",
            "Batch end\n",
            "Shape of X output by data generator:  (9, 17, 224, 224, 3)\n",
            "Batch end\n",
            "Shape of X output by data generator:  (9, 17, 224, 224, 3)\n",
            "Batch end\n",
            "Shape of X output by data generator:  (9, 17, 224, 224, 3)\n",
            "Batch end\n",
            "Shape of X output by data generator:  (9, 17, 224, 224, 3)\n",
            "Shape of X output by data generator:  (9, 17, 224, 224, 3)\n",
            "Shape of X output by data generator:  (9, 17, 224, 224, 3)\n",
            "Shape of X output by data generator:  (9, 17, 224, 224, 3)\n",
            "Shape of X output by data generator:  (9, 17, 224, 224, 3)\n",
            "Shape of X output by data generator:  (9, 17, 224, 224, 3)\n",
            "33/33 - 215s - loss: 0.3187 - accuracy: 0.8889 - val_loss: 0.3241 - val_accuracy: 0.8704\n",
            "Epoch 6/6\n",
            "Shape of X output by data generator:  (9, 17, 224, 224, 3)\n",
            "Batch end\n",
            "Shape of X output by data generator:  (9, 17, 224, 224, 3)\n",
            "Batch end\n",
            "Shape of X output by data generator:  (9, 17, 224, 224, 3)\n",
            "Batch end\n",
            "Shape of X output by data generator:  (9, 17, 224, 224, 3)\n",
            "Batch end\n",
            "Shape of X output by data generator:  (9, 17, 224, 224, 3)\n",
            "Batch end\n",
            "Shape of X output by data generator:  (9, 17, 224, 224, 3)\n",
            "Batch end\n",
            "Shape of X output by data generator:  (9, 17, 224, 224, 3)\n",
            "Batch end\n",
            "Shape of X output by data generator:  (9, 17, 224, 224, 3)\n",
            "Batch end\n",
            "Shape of X output by data generator:  (9, 17, 224, 224, 3)\n",
            "Batch end\n",
            "Shape of X output by data generator:  (9, 17, 224, 224, 3)\n",
            "Batch end\n",
            "Shape of X output by data generator:  (9, 17, 224, 224, 3)\n",
            "Batch end\n",
            "Shape of X output by data generator:  (9, 17, 224, 224, 3)\n",
            "Batch end\n",
            "Shape of X output by data generator:  (9, 17, 224, 224, 3)\n",
            "Batch end\n",
            "Shape of X output by data generator:  (9, 17, 224, 224, 3)\n",
            "Batch end\n",
            "Shape of X output by data generator:  (9, 17, 224, 224, 3)\n",
            "Batch end\n",
            "Shape of X output by data generator:  (9, 17, 224, 224, 3)\n",
            "Batch end\n",
            "Shape of X output by data generator:  (9, 17, 224, 224, 3)\n",
            "Batch end\n",
            "Shape of X output by data generator:  (9, 17, 224, 224, 3)\n",
            "Batch end\n",
            "Shape of X output by data generator:  (9, 17, 224, 224, 3)\n",
            "Batch end\n",
            "Shape of X output by data generator:  (9, 17, 224, 224, 3)\n",
            "Batch end\n",
            "Shape of X output by data generator:  (9, 17, 224, 224, 3)\n",
            "Batch end\n",
            "Shape of X output by data generator:  (9, 17, 224, 224, 3)\n",
            "Batch end\n",
            "Shape of X output by data generator:  (9, 17, 224, 224, 3)\n",
            "Batch end\n",
            "Shape of X output by data generator:  (9, 17, 224, 224, 3)\n",
            "Batch end\n",
            "Shape of X output by data generator:  (9, 17, 224, 224, 3)\n",
            "Batch end\n",
            "Shape of X output by data generator:  (9, 17, 224, 224, 3)\n",
            "Batch end\n",
            "Shape of X output by data generator:  (9, 17, 224, 224, 3)\n",
            "Batch end\n",
            "Shape of X output by data generator:  (9, 17, 224, 224, 3)\n",
            "Batch end\n",
            "Shape of X output by data generator:  (9, 17, 224, 224, 3)\n",
            "Batch end\n",
            "Shape of X output by data generator:  (9, 17, 224, 224, 3)\n",
            "Batch end\n",
            "Shape of X output by data generator:  (9, 17, 224, 224, 3)\n",
            "Batch end\n",
            "Shape of X output by data generator:  (9, 17, 224, 224, 3)\n",
            "Batch end\n",
            "Shape of X output by data generator:  (9, 17, 224, 224, 3)\n",
            "Batch end\n",
            "Shape of X output by data generator:  (9, 17, 224, 224, 3)\n",
            "Shape of X output by data generator:  (9, 17, 224, 224, 3)\n",
            "Shape of X output by data generator:  (9, 17, 224, 224, 3)\n",
            "Shape of X output by data generator:  (9, 17, 224, 224, 3)\n",
            "Shape of X output by data generator:  (9, 17, 224, 224, 3)\n",
            "Shape of X output by data generator:  (9, 17, 224, 224, 3)\n",
            "33/33 - 228s - loss: 0.3945 - accuracy: 0.8889 - val_loss: 0.3937 - val_accuracy: 0.8704\n"
          ],
          "name": "stdout"
        },
        {
          "output_type": "display_data",
          "data": {
            "image/png": "[encoded data removed]",
            "text/plain": [
              "<Figure size 432x288 with 1 Axes>"
            ]
          },
          "metadata": {
            "tags": [],
            "needs_background": "light"
          }
        },
        {
          "output_type": "display_data",
          "data": {
            "image/png": "[encoded data removed]",
            "text/plain": [
              "<Figure size 432x288 with 1 Axes>"
            ]
          },
          "metadata": {
            "tags": [],
            "needs_background": "light"
          }
        },
        {
          "output_type": "stream",
          "text": [
            "Time taken:  1499.5755701065063\n"
          ],
          "name": "stdout"
        }
      ]
    },
    {
      "cell_type": "code",
      "metadata": {
        "id": "xwg6YsoE6tkw",
        "colab": {
          "base_uri": "https://localhost:8080/",
          "height": 611
        },
        "outputId": "4f27a2aa-9778-4e69-c279-9b8d9567bf6a"
      },
      "source": [
        "HIST={}\n",
        "HIST['loss']=list()\n",
        "HIST['val_loss']=list()\n",
        "HIST['accuracy']=list()\n",
        "HIST['val_accuracy']=list()\n",
        "# with tf.device(\"/device:GPU:0\"):\n",
        "#   with open('/content/gdrive/MyDrive/vgg16 models and history/HISTORY', 'rb') as file_pi:\n",
        "#     prevh=pickle.load(file_pi)\n",
        "\n",
        "# for loss in prevh['loss']:\n",
        "#   HIST['loss'].append(loss)\n",
        "\n",
        "# for loss in prevh['val_loss']:\n",
        "#   HIST['val_loss'].append(loss)\n",
        "\n",
        "# for acc in prevh['accuracy']:\n",
        "#   HIST['accuracy'].append(acc)\n",
        "\n",
        "# for acc in prevh['val_accuracy']:\n",
        "#   HIST['val_accuracy'].append(acc)\n",
        "#######################\n",
        "#######################\n",
        "for loss in history.history['loss']:\n",
        "  HIST['loss'].append(loss)\n",
        "\n",
        "for loss in history.history['val_loss']:\n",
        "  HIST['val_loss'].append(loss)\n",
        "\n",
        "for acc in history.history['accuracy']:\n",
        "  HIST['accuracy'].append(acc)\n",
        "\n",
        "for acc in history.history['val_accuracy']:\n",
        "  HIST['val_accuracy'].append(acc)\n",
        "\n",
        "\n",
        "plt.plot(HIST['accuracy'])\n",
        "plt.plot(HIST['val_accuracy'])\n",
        "plt.title('model accuracy')\n",
        "plt.ylabel('accuracy')\n",
        "plt.xlabel('epoch')\n",
        "plt.legend(['train', 'val'], loc='upper left')\n",
        "plt.show()\n",
        "\n",
        "plt.plot(HIST['loss'])\n",
        "plt.plot(HIST['val_loss'])\n",
        "plt.title('model loss')\n",
        "plt.ylabel('loss')\n",
        "plt.xlabel('epoch')\n",
        "plt.legend(['train', 'val'], loc='upper left')\n",
        "plt.show()\n",
        "\n",
        "print(HIST)"
      ],
      "execution_count": null,
      "outputs": [
        {
          "output_type": "display_data",
          "data": {
            "image/png": "[encoded data removed]",
            "text/plain": [
              "<Figure size 432x288 with 1 Axes>"
            ]
          },
          "metadata": {
            "tags": [],
            "needs_background": "light"
          }
        },
        {
          "output_type": "display_data",
          "data": {
            "image/png": "[encoded data removed]",
            "text/plain": [
              "<Figure size 432x288 with 1 Axes>"
            ]
          },
          "metadata": {
            "tags": [],
            "needs_background": "light"
          }
        },
        {
          "output_type": "stream",
          "text": [
            "{'loss': [1.5123074054718018, 0.3882955312728882, 0.49027711153030396, 0.2409830540418625, 0.3186520040035248, 0.3945123553276062], 'val_loss': [0.4634570777416229, 0.5272704362869263, 0.3337526321411133, 0.6022081971168518, 0.32412847876548767, 0.39367273449897766], 'accuracy': [0.6026936173439026, 0.8821548819541931, 0.8484848737716675, 0.936026930809021, 0.8888888955116272, 0.8888888955116272], 'val_accuracy': [0.8333333134651184, 0.7962962985038757, 0.8703703880310059, 0.8518518805503845, 0.8703703880310059, 0.8703703880310059]}\n"
          ],
          "name": "stdout"
        }
      ]
    },
    {
      "cell_type": "code",
      "metadata": {
        "id": "NBS9VsQq6vVc"
      },
      "source": [
        "with open(\"/content/gdrive/MyDrive/inception model and history/HISTORY\",'wb') as f:\n",
        "  pickle.dump(HIST,f)"
      ],
      "execution_count": null,
      "outputs": []
    },
    {
      "cell_type": "code",
      "metadata": {
        "id": "3z-OdBgXjr9Z",
        "colab": {
          "base_uri": "https://localhost:8080/"
        },
        "outputId": "6daee41a-70e2-401b-fd98-14d0322d6983"
      },
      "source": [
        "with tf.device(\"/device:GPU:0\"):\n",
        "  loadedModel=keras.models.load_model(\"/content/gdrive/MyDrive/inception model and history/MODEL2\")\n",
        "  loadedModel.summary()"
      ],
      "execution_count": 13,
      "outputs": [
        {
          "output_type": "stream",
          "text": [
            "Model: \"model\"\n",
            "__________________________________________________________________________________________________\n",
            "Layer (type)                    Output Shape         Param #     Connected to                     \n",
            "==================================================================================================\n",
            "input_1 (InputLayer)            [(None, 17, 224, 224 0                                            \n",
            "__________________________________________________________________________________________________\n",
            "lambda (Lambda)                 (None, 224, 224, 3)  0           input_1[0][0]                    \n",
            "__________________________________________________________________________________________________\n",
            "lambda_1 (Lambda)               (None, 224, 224, 3)  0           input_1[0][0]                    \n",
            "__________________________________________________________________________________________________\n",
            "lambda_2 (Lambda)               (None, 224, 224, 3)  0           input_1[0][0]                    \n",
            "__________________________________________________________________________________________________\n",
            "lambda_3 (Lambda)               (None, 224, 224, 3)  0           input_1[0][0]                    \n",
            "__________________________________________________________________________________________________\n",
            "lambda_4 (Lambda)               (None, 224, 224, 3)  0           input_1[0][0]                    \n",
            "__________________________________________________________________________________________________\n",
            "lambda_5 (Lambda)               (None, 224, 224, 3)  0           input_1[0][0]                    \n",
            "__________________________________________________________________________________________________\n",
            "lambda_6 (Lambda)               (None, 224, 224, 3)  0           input_1[0][0]                    \n",
            "__________________________________________________________________________________________________\n",
            "lambda_7 (Lambda)               (None, 224, 224, 3)  0           input_1[0][0]                    \n",
            "__________________________________________________________________________________________________\n",
            "lambda_8 (Lambda)               (None, 224, 224, 3)  0           input_1[0][0]                    \n",
            "__________________________________________________________________________________________________\n",
            "lambda_9 (Lambda)               (None, 224, 224, 3)  0           input_1[0][0]                    \n",
            "__________________________________________________________________________________________________\n",
            "lambda_10 (Lambda)              (None, 224, 224, 3)  0           input_1[0][0]                    \n",
            "__________________________________________________________________________________________________\n",
            "lambda_11 (Lambda)              (None, 224, 224, 3)  0           input_1[0][0]                    \n",
            "__________________________________________________________________________________________________\n",
            "lambda_12 (Lambda)              (None, 224, 224, 3)  0           input_1[0][0]                    \n",
            "__________________________________________________________________________________________________\n",
            "lambda_13 (Lambda)              (None, 224, 224, 3)  0           input_1[0][0]                    \n",
            "__________________________________________________________________________________________________\n",
            "lambda_14 (Lambda)              (None, 224, 224, 3)  0           input_1[0][0]                    \n",
            "__________________________________________________________________________________________________\n",
            "lambda_15 (Lambda)              (None, 224, 224, 3)  0           input_1[0][0]                    \n",
            "__________________________________________________________________________________________________\n",
            "lambda_16 (Lambda)              (None, 224, 224, 3)  0           input_1[0][0]                    \n",
            "__________________________________________________________________________________________________\n",
            "inception_0 (Sequential)        (None, 5, 5, 2048)   21802784    lambda[0][0]                     \n",
            "__________________________________________________________________________________________________\n",
            "inception_1 (Sequential)        (None, 5, 5, 2048)   21802784    lambda_1[0][0]                   \n",
            "__________________________________________________________________________________________________\n",
            "inception_2 (Sequential)        (None, 5, 5, 2048)   21802784    lambda_2[0][0]                   \n",
            "__________________________________________________________________________________________________\n",
            "inception_3 (Sequential)        (None, 5, 5, 2048)   21802784    lambda_3[0][0]                   \n",
            "__________________________________________________________________________________________________\n",
            "inception_4 (Sequential)        (None, 5, 5, 2048)   21802784    lambda_4[0][0]                   \n",
            "__________________________________________________________________________________________________\n",
            "inception_5 (Sequential)        (None, 5, 5, 2048)   21802784    lambda_5[0][0]                   \n",
            "__________________________________________________________________________________________________\n",
            "inception_6 (Sequential)        (None, 5, 5, 2048)   21802784    lambda_6[0][0]                   \n",
            "__________________________________________________________________________________________________\n",
            "inception_7 (Sequential)        (None, 5, 5, 2048)   21802784    lambda_7[0][0]                   \n",
            "__________________________________________________________________________________________________\n",
            "inception_8 (Sequential)        (None, 5, 5, 2048)   21802784    lambda_8[0][0]                   \n",
            "__________________________________________________________________________________________________\n",
            "inception_9 (Sequential)        (None, 5, 5, 2048)   21802784    lambda_9[0][0]                   \n",
            "__________________________________________________________________________________________________\n",
            "inception_10 (Sequential)       (None, 5, 5, 2048)   21802784    lambda_10[0][0]                  \n",
            "__________________________________________________________________________________________________\n",
            "inception_11 (Sequential)       (None, 5, 5, 2048)   21802784    lambda_11[0][0]                  \n",
            "__________________________________________________________________________________________________\n",
            "inception_12 (Sequential)       (None, 5, 5, 2048)   21802784    lambda_12[0][0]                  \n",
            "__________________________________________________________________________________________________\n",
            "inception_13 (Sequential)       (None, 5, 5, 2048)   21802784    lambda_13[0][0]                  \n",
            "__________________________________________________________________________________________________\n",
            "inception_14 (Sequential)       (None, 5, 5, 2048)   21802784    lambda_14[0][0]                  \n",
            "__________________________________________________________________________________________________\n",
            "inception_15 (Sequential)       (None, 5, 5, 2048)   21802784    lambda_15[0][0]                  \n",
            "__________________________________________________________________________________________________\n",
            "inception_16 (Sequential)       (None, 5, 5, 2048)   21802784    lambda_16[0][0]                  \n",
            "__________________________________________________________________________________________________\n",
            "concatenate_2 (Concatenate)     (None, 5, 5, 34816)  0           inception_0[0][0]                \n",
            "                                                                 inception_1[0][0]                \n",
            "                                                                 inception_2[0][0]                \n",
            "                                                                 inception_3[0][0]                \n",
            "                                                                 inception_4[0][0]                \n",
            "                                                                 inception_5[0][0]                \n",
            "                                                                 inception_6[0][0]                \n",
            "                                                                 inception_7[0][0]                \n",
            "                                                                 inception_8[0][0]                \n",
            "                                                                 inception_9[0][0]                \n",
            "                                                                 inception_10[0][0]               \n",
            "                                                                 inception_11[0][0]               \n",
            "                                                                 inception_12[0][0]               \n",
            "                                                                 inception_13[0][0]               \n",
            "                                                                 inception_14[0][0]               \n",
            "                                                                 inception_15[0][0]               \n",
            "                                                                 inception_16[0][0]               \n",
            "__________________________________________________________________________________________________\n",
            "time_distributed (TimeDistribut (None, 5, 1700)      248315600   concatenate_2[0][0]              \n",
            "__________________________________________________________________________________________________\n",
            "flatten (Flatten)               (None, 8500)         0           time_distributed[0][0]           \n",
            "__________________________________________________________________________________________________\n",
            "dense (Dense)                   (None, 8)            68008       flatten[0][0]                    \n",
            "==================================================================================================\n",
            "Total params: 270,186,392\n",
            "Trainable params: 270,151,960\n",
            "Non-trainable params: 34,432\n",
            "__________________________________________________________________________________________________\n"
          ],
          "name": "stdout"
        }
      ]
    },
    {
      "cell_type": "code",
      "metadata": {
        "id": "l_AbUVTqjk1o"
      },
      "source": [
        "def testAccuracy(Result,testSetY):\n",
        "  diff=np.asarray(Result)-np.asarray(testSetY)\n",
        "  answer=(((np.shape(diff))[0]-np.count_nonzero(diff)))/(np.shape(diff)[0])\n",
        "  return answer"
      ],
      "execution_count": 14,
      "outputs": []
    },
    {
      "cell_type": "code",
      "metadata": {
        "id": "-FXPxzb_jlpi",
        "colab": {
          "base_uri": "https://localhost:8080/"
        },
        "outputId": "e9350146-b6f5-489f-ac41-47290e8d3ac3"
      },
      "source": [
        "with tf.device('/device:GPU:0'):\n",
        "  Tframes=17\n",
        "  frameSize=(224,224)\n",
        "  params = {'dim': (Tframes,frameSize[0],frameSize[1],3),\n",
        "            'batch_size': 1,\n",
        "            'n_classes': 8,\n",
        "            'shuffle': True}\n",
        "  params1 = params\n",
        "  params1['shuffle']=False\n",
        "  params1['batch_size']=1\n",
        "  testing_generator = DataGenerator(partition['test'], labels, **params1)\n",
        "  res=loadedModel.predict_generator(testing_generator,callbacks=LossAndErrorPrintingCallback())"
      ],
      "execution_count": 17,
      "outputs": [
        {
          "output_type": "stream",
          "text": [
            "Shape of X output by data generator:  (1, 17, 224, 224, 3)\n",
            "Shape of X output by data generator:  (1, 17, 224, 224, 3)\n",
            "Shape of X output by data generator:  (1, 17, 224, 224, 3)\n",
            "Shape of X output by data generator:  (1, 17, 224, 224, 3)\n",
            "Shape of X output by data generator:  (1, 17, 224, 224, 3)\n",
            "Shape of X output by data generator:  (1, 17, 224, 224, 3)\n",
            "Shape of X output by data generator:  (1, 17, 224, 224, 3)\n",
            "Shape of X output by data generator:  (1, 17, 224, 224, 3)\n",
            "Shape of X output by data generator:  (1, 17, 224, 224, 3)\n",
            "Shape of X output by data generator:  (1, 17, 224, 224, 3)\n",
            "Shape of X output by data generator:  (1, 17, 224, 224, 3)\n",
            "Shape of X output by data generator:  (1, 17, 224, 224, 3)\n",
            "Shape of X output by data generator:  (1, 17, 224, 224, 3)\n",
            "Shape of X output by data generator:  (1, 17, 224, 224, 3)\n",
            "Shape of X output by data generator:  (1, 17, 224, 224, 3)\n",
            "Shape of X output by data generator:  (1, 17, 224, 224, 3)\n",
            "Shape of X output by data generator:  (1, 17, 224, 224, 3)\n",
            "Shape of X output by data generator:  (1, 17, 224, 224, 3)\n",
            "Shape of X output by data generator:  (1, 17, 224, 224, 3)\n",
            "Shape of X output by data generator:  (1, 17, 224, 224, 3)\n",
            "Shape of X output by data generator:  (1, 17, 224, 224, 3)\n",
            "Shape of X output by data generator:  (1, 17, 224, 224, 3)\n",
            "Shape of X output by data generator:  (1, 17, 224, 224, 3)\n",
            "Shape of X output by data generator:  (1, 17, 224, 224, 3)\n",
            "Shape of X output by data generator:  (1, 17, 224, 224, 3)\n",
            "Shape of X output by data generator:  (1, 17, 224, 224, 3)\n",
            "Shape of X output by data generator:  (1, 17, 224, 224, 3)\n",
            "Shape of X output by data generator:  (1, 17, 224, 224, 3)\n",
            "Shape of X output by data generator:  (1, 17, 224, 224, 3)\n",
            "Shape of X output by data generator:  (1, 17, 224, 224, 3)\n",
            "Shape of X output by data generator:  (1, 17, 224, 224, 3)\n",
            "Shape of X output by data generator:  (1, 17, 224, 224, 3)\n",
            "Shape of X output by data generator:  (1, 17, 224, 224, 3)\n",
            "Shape of X output by data generator:  (1, 17, 224, 224, 3)\n",
            "Shape of X output by data generator:  (1, 17, 224, 224, 3)\n",
            "Shape of X output by data generator:  (1, 17, 224, 224, 3)\n",
            "Shape of X output by data generator:  (1, 17, 224, 224, 3)\n",
            "Shape of X output by data generator:  (1, 17, 224, 224, 3)\n",
            "Shape of X output by data generator:  (1, 17, 224, 224, 3)\n",
            "Shape of X output by data generator:  (1, 17, 224, 224, 3)\n"
          ],
          "name": "stdout"
        }
      ]
    },
    {
      "cell_type": "code",
      "metadata": {
        "id": "YPT7RQOkQMic",
        "colab": {
          "base_uri": "https://localhost:8080/"
        },
        "outputId": "5e5cf72c-cf5a-4200-f622-1e0cc3d8c90e"
      },
      "source": [
        "res2=np.argmax(res,axis=1)\n",
        "print(\"Our prediction: \")\n",
        "print(res2)\n",
        "testY=[]\n",
        "for el in partition['test']:\n",
        "  testY.append(labels[el])\n",
        "print(\"Truth: \")\n",
        "print(testY)"
      ],
      "execution_count": 18,
      "outputs": [
        {
          "output_type": "stream",
          "text": [
            "Our prediction: \n",
            "[3 3 3 3 3 7 7 7 7 7 1 1 1 1 1 4 4 4 4 4 6 6 6 6 6 0 0 0 0 0 5 5 5 5 2 2 2\n",
            " 2 2]\n",
            "Truth: \n",
            "[3, 3, 3, 3, 3, 7, 7, 7, 7, 7, 1, 1, 1, 1, 1, 4, 4, 4, 4, 4, 6, 6, 6, 6, 6, 0, 0, 0, 0, 0, 5, 5, 5, 5, 2, 2, 2, 2, 2]\n"
          ],
          "name": "stdout"
        }
      ]
    },
    {
      "cell_type": "code",
      "metadata": {
        "id": "PruApLYNQNqI",
        "colab": {
          "base_uri": "https://localhost:8080/"
        },
        "outputId": "bd4e3fc9-b209-4b25-f5e3-dc59d7da24c1"
      },
      "source": [
        "print(testAccuracy(res2,testY))"
      ],
      "execution_count": 19,
      "outputs": [
        {
          "output_type": "stream",
          "text": [
            "1.0\n"
          ],
          "name": "stdout"
        }
      ]
    },
    {
      "cell_type": "code",
      "metadata": {
        "id": "hKszosorQO5F",
        "colab": {
          "base_uri": "https://localhost:8080/"
        },
        "outputId": "952d5158-27c9-46a1-ffe1-3808dca7e11e"
      },
      "source": [
        "gc.collect()"
      ],
      "execution_count": 20,
      "outputs": [
        {
          "output_type": "execute_result",
          "data": {
            "text/plain": [
              "0"
            ]
          },
          "metadata": {},
          "execution_count": 20
        }
      ]
    },
    {
      "cell_type": "code",
      "metadata": {
        "id": "OBR-VvMbQQPZ"
      },
      "source": [
        "# with tf.device(\"/device:GPU:0\"):\n",
        "#   model.save(\"/content/gdrive/MyDrive/inception model and history/MODEL2\")"
      ],
      "execution_count": null,
      "outputs": []
    },
    {
      "cell_type": "code",
      "metadata": {
        "id": "3ivSTwE0Fhkl"
      },
      "source": [
        "# with tf.device('/device:GPU:0'):\n",
        "#   batch_size=10\n",
        "#   nLstmUnits=1600\n",
        "#   params = {'dim': (Tframes,224,224,3),\n",
        "#             'batch_size': batch_size,\n",
        "#             'n_classes': 8,\n",
        "#             'shuffle': True}\n",
        "#   epochs=1\n",
        "#   # Generators\n",
        "#   training_generator = DataGenerator(partition['train'], labels, **params)\n",
        "#   validation_generator = DataGenerator(partition['validation'], labels, **params)\n",
        "\n",
        "\n",
        "#   begin=time.time()\n",
        "#   history=model.fit_generator(epochs=epochs,verbose=2,generator=training_generator,\n",
        "#                     validation_data=validation_generator,callbacks=[LossAndErrorPrintingCallback()])\n",
        "#   end=time.time()\n",
        "  \n",
        "#   print(\"Time taken: \",end-begin)"
      ],
      "execution_count": null,
      "outputs": []
    },
    {
      "cell_type": "code",
      "metadata": {
        "id": "uMnPTDEHtvz4"
      },
      "source": [
        "# HIST={}\n",
        "# HIST['loss']=list()\n",
        "# HIST['val_loss']=list()\n",
        "# HIST['accuracy']=list()\n",
        "# HIST['val_accuracy']=list()\n",
        "# with tf.device(\"/device:GPU:0\"):\n",
        "#   with open('/content/gdrive/MyDrive/inception model and history/HISTORY', 'rb') as file_pi:\n",
        "#     prevh=pickle.load(file_pi)\n",
        "\n",
        "# for loss in prevh['loss']:\n",
        "#   HIST['loss'].append(loss)\n",
        "\n",
        "# for loss in prevh['val_loss']:\n",
        "#   HIST['val_loss'].append(loss)\n",
        "\n",
        "# for acc in prevh['accuracy']:\n",
        "#   HIST['accuracy'].append(acc)\n",
        "\n",
        "# for acc in prevh['val_accuracy']:\n",
        "#   HIST['val_accuracy'].append(acc)\n",
        "# #######################\n",
        "# #######################\n",
        "# for loss in history.history['loss']:\n",
        "#   HIST['loss'].append(loss)\n",
        "\n",
        "# for loss in history.history['val_loss']:\n",
        "#   HIST['val_loss'].append(loss)\n",
        "\n",
        "# for acc in history.history['accuracy']:\n",
        "#   HIST['accuracy'].append(acc)\n",
        "\n",
        "# for acc in history.history['val_accuracy']:\n",
        "#   HIST['val_accuracy'].append(acc)\n",
        "\n",
        "\n",
        "# plt.plot(HIST['accuracy'])\n",
        "# plt.plot(HIST['val_accuracy'])\n",
        "# plt.title('model accuracy')\n",
        "# plt.ylabel('accuracy')\n",
        "# plt.xlabel('epoch')\n",
        "# plt.legend(['train', 'val'], loc='upper left')\n",
        "# plt.show()\n",
        "\n",
        "# plt.plot(HIST['loss'])\n",
        "# plt.plot(HIST['val_loss'])\n",
        "# plt.title('model loss')\n",
        "# plt.ylabel('loss')\n",
        "# plt.xlabel('epoch')\n",
        "# plt.legend(['train', 'val'], loc='upper left')\n",
        "# plt.show()\n",
        "\n",
        "# print(HIST)\n"
      ],
      "execution_count": null,
      "outputs": []
    },
    {
      "cell_type": "code",
      "metadata": {
        "id": "iPZOpcjEzN6Y"
      },
      "source": [
        "# with open('/content/gdrive/MyDrive/inception model and history/HISTORY', 'wb') as file_pi:\n",
        "#   pickle.dump(HIST, file_pi)"
      ],
      "execution_count": null,
      "outputs": []
    },
    {
      "cell_type": "code",
      "metadata": {
        "id": "RLtuT8510JiR"
      },
      "source": [
        ""
      ],
      "execution_count": null,
      "outputs": []
    }
  ]
}
{
  "nbformat": 4,
  "nbformat_minor": 0,
  "metadata": {
    "colab": {
      "name": "WORKING INPUT PREP.ipynb",
      "provenance": [],
      "collapsed_sections": []
    },
    "kernelspec": {
      "name": "python3",
      "display_name": "Python 3"
    },
    "accelerator": "TPU"
  },
  "cells": [
    {
      "cell_type": "code",
      "metadata": {
        "id": "mogANPWUNjMK"
      },
      "source": [
        "#LETS TRY TO DO EVERYTHING ITERATIVELY IN A LOOPS"
      ],
      "execution_count": null,
      "outputs": []
    },
    {
      "cell_type": "code",
      "metadata": {
        "colab": {
          "base_uri": "https://localhost:8080/"
        },
        "id": "jcVlWLVQOm8i",
        "outputId": "0431abbc-4370-40e7-8272-d6b2e9604079"
      },
      "source": [
        "%tensorflow_version 2.x\n",
        "import tensorflow as tf\n",
        "print(\"Tensorflow version \" + tf.__version__)\n",
        "\n",
        "try:\n",
        "  tpu = tf.distribute.cluster_resolver.TPUClusterResolver()  # TPU detection\n",
        "  print('Running on TPU ', tpu.cluster_spec().as_dict()['worker'])\n",
        "except ValueError:\n",
        "  raise BaseException('ERROR: Not connected to a TPU runtime; please see the previous cell in this notebook for instructions!')\n",
        "\n",
        "tf.config.experimental_connect_to_cluster(tpu)\n",
        "tf.tpu.experimental.initialize_tpu_system(tpu)\n",
        "tpu_strategy = tf.distribute.experimental.TPUStrategy(tpu)"
      ],
      "execution_count": null,
      "outputs": [
        {
          "output_type": "stream",
          "text": [
            "Tensorflow version 2.4.1\n",
            "Running on TPU  ['10.89.12.50:8470']\n",
            "INFO:tensorflow:Initializing the TPU system: grpc://10.89.12.50:8470\n"
          ],
          "name": "stdout"
        },
        {
          "output_type": "stream",
          "text": [
            "INFO:tensorflow:Initializing the TPU system: grpc://10.89.12.50:8470\n"
          ],
          "name": "stderr"
        },
        {
          "output_type": "stream",
          "text": [
            "INFO:tensorflow:Clearing out eager caches\n"
          ],
          "name": "stdout"
        },
        {
          "output_type": "stream",
          "text": [
            "INFO:tensorflow:Clearing out eager caches\n"
          ],
          "name": "stderr"
        },
        {
          "output_type": "stream",
          "text": [
            "INFO:tensorflow:Finished initializing TPU system.\n"
          ],
          "name": "stdout"
        },
        {
          "output_type": "stream",
          "text": [
            "INFO:tensorflow:Finished initializing TPU system.\n",
            "WARNING:absl:`tf.distribute.experimental.TPUStrategy` is deprecated, please use  the non experimental symbol `tf.distribute.TPUStrategy` instead.\n"
          ],
          "name": "stderr"
        },
        {
          "output_type": "stream",
          "text": [
            "INFO:tensorflow:Found TPU system:\n"
          ],
          "name": "stdout"
        },
        {
          "output_type": "stream",
          "text": [
            "INFO:tensorflow:Found TPU system:\n"
          ],
          "name": "stderr"
        },
        {
          "output_type": "stream",
          "text": [
            "INFO:tensorflow:*** Num TPU Cores: 8\n"
          ],
          "name": "stdout"
        },
        {
          "output_type": "stream",
          "text": [
            "INFO:tensorflow:*** Num TPU Cores: 8\n"
          ],
          "name": "stderr"
        },
        {
          "output_type": "stream",
          "text": [
            "INFO:tensorflow:*** Num TPU Workers: 1\n"
          ],
          "name": "stdout"
        },
        {
          "output_type": "stream",
          "text": [
            "INFO:tensorflow:*** Num TPU Workers: 1\n"
          ],
          "name": "stderr"
        },
        {
          "output_type": "stream",
          "text": [
            "INFO:tensorflow:*** Num TPU Cores Per Worker: 8\n"
          ],
          "name": "stdout"
        },
        {
          "output_type": "stream",
          "text": [
            "INFO:tensorflow:*** Num TPU Cores Per Worker: 8\n"
          ],
          "name": "stderr"
        },
        {
          "output_type": "stream",
          "text": [
            "INFO:tensorflow:*** Available Device: _DeviceAttributes(/job:localhost/replica:0/task:0/device:CPU:0, CPU, 0, 0)\n"
          ],
          "name": "stdout"
        },
        {
          "output_type": "stream",
          "text": [
            "INFO:tensorflow:*** Available Device: _DeviceAttributes(/job:localhost/replica:0/task:0/device:CPU:0, CPU, 0, 0)\n"
          ],
          "name": "stderr"
        },
        {
          "output_type": "stream",
          "text": [
            "INFO:tensorflow:*** Available Device: _DeviceAttributes(/job:worker/replica:0/task:0/device:CPU:0, CPU, 0, 0)\n"
          ],
          "name": "stdout"
        },
        {
          "output_type": "stream",
          "text": [
            "INFO:tensorflow:*** Available Device: _DeviceAttributes(/job:worker/replica:0/task:0/device:CPU:0, CPU, 0, 0)\n"
          ],
          "name": "stderr"
        },
        {
          "output_type": "stream",
          "text": [
            "INFO:tensorflow:*** Available Device: _DeviceAttributes(/job:worker/replica:0/task:0/device:TPU:0, TPU, 0, 0)\n"
          ],
          "name": "stdout"
        },
        {
          "output_type": "stream",
          "text": [
            "INFO:tensorflow:*** Available Device: _DeviceAttributes(/job:worker/replica:0/task:0/device:TPU:0, TPU, 0, 0)\n"
          ],
          "name": "stderr"
        },
        {
          "output_type": "stream",
          "text": [
            "INFO:tensorflow:*** Available Device: _DeviceAttributes(/job:worker/replica:0/task:0/device:TPU:1, TPU, 0, 0)\n"
          ],
          "name": "stdout"
        },
        {
          "output_type": "stream",
          "text": [
            "INFO:tensorflow:*** Available Device: _DeviceAttributes(/job:worker/replica:0/task:0/device:TPU:1, TPU, 0, 0)\n"
          ],
          "name": "stderr"
        },
        {
          "output_type": "stream",
          "text": [
            "INFO:tensorflow:*** Available Device: _DeviceAttributes(/job:worker/replica:0/task:0/device:TPU:2, TPU, 0, 0)\n"
          ],
          "name": "stdout"
        },
        {
          "output_type": "stream",
          "text": [
            "INFO:tensorflow:*** Available Device: _DeviceAttributes(/job:worker/replica:0/task:0/device:TPU:2, TPU, 0, 0)\n"
          ],
          "name": "stderr"
        },
        {
          "output_type": "stream",
          "text": [
            "INFO:tensorflow:*** Available Device: _DeviceAttributes(/job:worker/replica:0/task:0/device:TPU:3, TPU, 0, 0)\n"
          ],
          "name": "stdout"
        },
        {
          "output_type": "stream",
          "text": [
            "INFO:tensorflow:*** Available Device: _DeviceAttributes(/job:worker/replica:0/task:0/device:TPU:3, TPU, 0, 0)\n"
          ],
          "name": "stderr"
        },
        {
          "output_type": "stream",
          "text": [
            "INFO:tensorflow:*** Available Device: _DeviceAttributes(/job:worker/replica:0/task:0/device:TPU:4, TPU, 0, 0)\n"
          ],
          "name": "stdout"
        },
        {
          "output_type": "stream",
          "text": [
            "INFO:tensorflow:*** Available Device: _DeviceAttributes(/job:worker/replica:0/task:0/device:TPU:4, TPU, 0, 0)\n"
          ],
          "name": "stderr"
        },
        {
          "output_type": "stream",
          "text": [
            "INFO:tensorflow:*** Available Device: _DeviceAttributes(/job:worker/replica:0/task:0/device:TPU:5, TPU, 0, 0)\n"
          ],
          "name": "stdout"
        },
        {
          "output_type": "stream",
          "text": [
            "INFO:tensorflow:*** Available Device: _DeviceAttributes(/job:worker/replica:0/task:0/device:TPU:5, TPU, 0, 0)\n"
          ],
          "name": "stderr"
        },
        {
          "output_type": "stream",
          "text": [
            "INFO:tensorflow:*** Available Device: _DeviceAttributes(/job:worker/replica:0/task:0/device:TPU:6, TPU, 0, 0)\n"
          ],
          "name": "stdout"
        },
        {
          "output_type": "stream",
          "text": [
            "INFO:tensorflow:*** Available Device: _DeviceAttributes(/job:worker/replica:0/task:0/device:TPU:6, TPU, 0, 0)\n"
          ],
          "name": "stderr"
        },
        {
          "output_type": "stream",
          "text": [
            "INFO:tensorflow:*** Available Device: _DeviceAttributes(/job:worker/replica:0/task:0/device:TPU:7, TPU, 0, 0)\n"
          ],
          "name": "stdout"
        },
        {
          "output_type": "stream",
          "text": [
            "INFO:tensorflow:*** Available Device: _DeviceAttributes(/job:worker/replica:0/task:0/device:TPU:7, TPU, 0, 0)\n"
          ],
          "name": "stderr"
        },
        {
          "output_type": "stream",
          "text": [
            "INFO:tensorflow:*** Available Device: _DeviceAttributes(/job:worker/replica:0/task:0/device:TPU_SYSTEM:0, TPU_SYSTEM, 0, 0)\n"
          ],
          "name": "stdout"
        },
        {
          "output_type": "stream",
          "text": [
            "INFO:tensorflow:*** Available Device: _DeviceAttributes(/job:worker/replica:0/task:0/device:TPU_SYSTEM:0, TPU_SYSTEM, 0, 0)\n"
          ],
          "name": "stderr"
        },
        {
          "output_type": "stream",
          "text": [
            "INFO:tensorflow:*** Available Device: _DeviceAttributes(/job:worker/replica:0/task:0/device:XLA_CPU:0, XLA_CPU, 0, 0)\n"
          ],
          "name": "stdout"
        },
        {
          "output_type": "stream",
          "text": [
            "INFO:tensorflow:*** Available Device: _DeviceAttributes(/job:worker/replica:0/task:0/device:XLA_CPU:0, XLA_CPU, 0, 0)\n"
          ],
          "name": "stderr"
        }
      ]
    },
    {
      "cell_type": "code",
      "metadata": {
        "colab": {
          "base_uri": "https://localhost:8080/"
        },
        "id": "kKGKm7oyUe4T",
        "outputId": "9a89cacc-4944-41f8-cbff-ac3d2dd99f0e"
      },
      "source": [
        "from google.colab import drive\n",
        "drive.mount('/content/gdrive')"
      ],
      "execution_count": null,
      "outputs": [
        {
          "output_type": "stream",
          "text": [
            "Mounted at /content/gdrive\n"
          ],
          "name": "stdout"
        }
      ]
    },
    {
      "cell_type": "code",
      "metadata": {
        "id": "yayfewsuzXD_"
      },
      "source": [
        "def mapCatToNumber(file1):\n",
        "  strings=[]\n",
        "  for cat in os.listdir(file1):\n",
        "    strings.append(cat)\n",
        "  stringsS=sorted(strings)\n",
        "  answer={}\n",
        "  for i in range(len(stringsS)):\n",
        "    answer[stringsS[i]]=i\n",
        "  return answer"
      ],
      "execution_count": null,
      "outputs": []
    },
    {
      "cell_type": "code",
      "metadata": {
        "id": "kZD_bCXuOy-T",
        "colab": {
          "base_uri": "https://localhost:8080/"
        },
        "outputId": "95f50969-4b49-4f55-8ff9-8bd8e07e1eb4"
      },
      "source": [
        "import numpy as np\n",
        "import os\n",
        "from PIL import Image\n",
        "from matplotlib import pyplot as plt\n",
        "from moviepy.editor import *\n",
        "import cv2\n",
        "import moviepy\n",
        "import sys\n",
        "\n",
        "def inputData(file1,nFrames=20,frameSize=(200,200)):\n",
        "    #file1 IS THE FILE THAT CONTAINS THE FOLDERS OF VARIOUS CATEGORIES WITH EACH \n",
        "    #EACH CATEGORY CONSISITING OF VARIOUS VIDEOS OF THAT CATEGORY\n",
        "    # array=np.zeros(shape=(8,52,200,480,640,3),dtype=int)\n",
        "    mappingCatToN=mapCatToNumber(file1)\n",
        "    i=0\n",
        "    j=0\n",
        "    k=0\n",
        "    array=[]\n",
        "    y=[]\n",
        "    for category in os.listdir(file1):\n",
        "      print(\"Category: \",category)\n",
        "      j=0\n",
        "      for video in os.listdir(os.path.join(file1,category)):\n",
        "          vidPath=os.path.join(file1,category,video)\n",
        "\n",
        "          print(\"vidPath: \",vidPath)\n",
        "          try:\n",
        "            vidObj = moviepy.editor.VideoFileClip(vidPath)\n",
        "          except IOError as e:\n",
        "            errno, strerror = e.args\n",
        "            print(errno)\n",
        "            print(strerror)\n",
        "          video_duration = int(vidObj.duration)   \n",
        "          k=0\n",
        "          for k in range(nFrames):\n",
        "              frame=vidObj.get_frame((k+1)*video_duration/(nFrames*1.0))\n",
        "              frameR=Image.fromarray(frame).convert(\"RGB\")\n",
        "              frame2=frameR.resize(frameSize)\n",
        "              arrayi=np.array(frame2)\n",
        "              # print(np.shape(arrayi))\n",
        "              array.append(arrayi)\n",
        "              y.append(mappingCatToN[category])\n",
        "\n",
        "              # array[i][j].append(np.array(frame))\n",
        "              #now resize\n",
        "              # frame2=frame.resize(frameSize)\n",
        "              # print(np.shape(np.array(frame)))\n",
        "          \n",
        "          j+=1\n",
        "      i+=1 \n",
        "    print(i)\n",
        "    print(j)\n",
        "    return array,y"
      ],
      "execution_count": null,
      "outputs": [
        {
          "output_type": "stream",
          "text": [
            "Imageio: 'ffmpeg-linux64-v3.3.1' was not found on your computer; downloading it now.\n",
            "Try 1. Download from https://github.com/imageio/imageio-binaries/raw/master/ffmpeg/ffmpeg-linux64-v3.3.1 (43.8 MB)\n",
            "Downloading: 8192/45929032 bytes (0.0%)\b\b\b\b\b\b\b\b\b\b\b\b\b\b\b\b\b\b\b\b\b\b\b\b\b\b2269184/45929032 bytes (4.9%)\b\b\b\b\b\b\b\b\b\b\b\b\b\b\b\b\b\b\b\b\b\b\b\b\b\b\b\b\b5341184/45929032 bytes (11.6%)\b\b\b\b\b\b\b\b\b\b\b\b\b\b\b\b\b\b\b\b\b\b\b\b\b\b\b\b\b\b8560640/45929032 bytes (18.6%)\b\b\b\b\b\b\b\b\b\b\b\b\b\b\b\b\b\b\b\b\b\b\b\b\b\b\b\b\b\b11845632/45929032 bytes (25.8%)\b\b\b\b\b\b\b\b\b\b\b\b\b\b\b\b\b\b\b\b\b\b\b\b\b\b\b\b\b\b\b15114240/45929032 bytes (32.9%)\b\b\b\b\b\b\b\b\b\b\b\b\b\b\b\b\b\b\b\b\b\b\b\b\b\b\b\b\b\b\b18325504/45929032 bytes (39.9%)\b\b\b\b\b\b\b\b\b\b\b\b\b\b\b\b\b\b\b\b\b\b\b\b\b\b\b\b\b\b\b21372928/45929032 bytes (46.5%)\b\b\b\b\b\b\b\b\b\b\b\b\b\b\b\b\b\b\b\b\b\b\b\b\b\b\b\b\b\b\b24289280/45929032 bytes (52.9%)\b\b\b\b\b\b\b\b\b\b\b\b\b\b\b\b\b\b\b\b\b\b\b\b\b\b\b\b\b\b\b27353088/45929032 bytes (59.6%)\b\b\b\b\b\b\b\b\b\b\b\b\b\b\b\b\b\b\b\b\b\b\b\b\b\b\b\b\b\b\b30400512/45929032 bytes (66.2%)\b\b\b\b\b\b\b\b\b\b\b\b\b\b\b\b\b\b\b\b\b\b\b\b\b\b\b\b\b\b\b33349632/45929032 bytes (72.6%)\b\b\b\b\b\b\b\b\b\b\b\b\b\b\b\b\b\b\b\b\b\b\b\b\b\b\b\b\b\b\b36470784/45929032 bytes (79.4%)\b\b\b\b\b\b\b\b\b\b\b\b\b\b\b\b\b\b\b\b\b\b\b\b\b\b\b\b\b\b\b39649280/45929032 bytes (86.3%)\b\b\b\b\b\b\b\b\b\b\b\b\b\b\b\b\b\b\b\b\b\b\b\b\b\b\b\b\b\b\b42647552/45929032 bytes (92.9%)\b\b\b\b\b\b\b\b\b\b\b\b\b\b\b\b\b\b\b\b\b\b\b\b\b\b\b\b\b\b\b45883392/45929032 bytes (99.9%)\b\b\b\b\b\b\b\b\b\b\b\b\b\b\b\b\b\b\b\b\b\b\b\b\b\b\b\b\b\b\b45929032/45929032 bytes (100.0%)\n",
            "  Done\n",
            "File saved as /root/.imageio/ffmpeg/ffmpeg-linux64-v3.3.1.\n"
          ],
          "name": "stdout"
        }
      ]
    },
    {
      "cell_type": "code",
      "metadata": {
        "colab": {
          "base_uri": "https://localhost:8080/"
        },
        "id": "CEwVL5zNzEzn",
        "outputId": "e8e19266-b43f-48e1-9f10-fb0e7d8710b4"
      },
      "source": [
        "mappingCatToN=mapCatToNumber(\"/content/gdrive/MyDrive/Project_folder/cnn-lstm/data/video_data\")\n",
        "print(mappingCatToN)"
      ],
      "execution_count": null,
      "outputs": [
        {
          "output_type": "stream",
          "text": [
            "{'accident': 0, 'call': 1, 'doctor': 2, 'help': 3, 'hot': 4, 'lose': 5, 'pain': 6, 'thief': 7}\n"
          ],
          "name": "stdout"
        }
      ]
    },
    {
      "cell_type": "code",
      "metadata": {
        "colab": {
          "base_uri": "https://localhost:8080/"
        },
        "id": "UgqA5fKrUvAs",
        "outputId": "0da03d0c-9c2f-41be-de23-7ae707f74549"
      },
      "source": [
        "mainPath=\"/content/gdrive/MyDrive/Project_folder/cnn-lstm/data/video_data\"\n",
        "with tpu_strategy.scope():\n",
        "  array,y=inputData(mainPath,frameSize=(200,200))\n",
        "  print(np.shape(array))\n",
        "  print(y)"
      ],
      "execution_count": null,
      "outputs": [
        {
          "output_type": "stream",
          "text": [
            "Category:  help\n",
            "vidPath:  /content/gdrive/MyDrive/Project_folder/cnn-lstm/data/video_data/help/help_Crop_001_01.avi\n",
            "vidPath:  /content/gdrive/MyDrive/Project_folder/cnn-lstm/data/video_data/help/help_Crop_001_02.avi\n",
            "vidPath:  /content/gdrive/MyDrive/Project_folder/cnn-lstm/data/video_data/help/help_Crop_006_02.avi\n",
            "vidPath:  /content/gdrive/MyDrive/Project_folder/cnn-lstm/data/video_data/help/help_Crop_005_01.avi\n",
            "vidPath:  /content/gdrive/MyDrive/Project_folder/cnn-lstm/data/video_data/help/help_Crop_003_01.avi\n",
            "vidPath:  /content/gdrive/MyDrive/Project_folder/cnn-lstm/data/video_data/help/help_Crop_007_01.avi\n",
            "vidPath:  /content/gdrive/MyDrive/Project_folder/cnn-lstm/data/video_data/help/help_Crop_012_01.avi\n",
            "vidPath:  /content/gdrive/MyDrive/Project_folder/cnn-lstm/data/video_data/help/help_Crop_009_01.avi\n",
            "vidPath:  /content/gdrive/MyDrive/Project_folder/cnn-lstm/data/video_data/help/help_Crop_003_02.avi\n",
            "vidPath:  /content/gdrive/MyDrive/Project_folder/cnn-lstm/data/video_data/help/help_Crop_005_02.avi\n",
            "vidPath:  /content/gdrive/MyDrive/Project_folder/cnn-lstm/data/video_data/help/help_Crop_008_02.avi\n",
            "vidPath:  /content/gdrive/MyDrive/Project_folder/cnn-lstm/data/video_data/help/help_Crop_004_01.avi\n",
            "vidPath:  /content/gdrive/MyDrive/Project_folder/cnn-lstm/data/video_data/help/help_Crop_002_02.avi\n",
            "vidPath:  /content/gdrive/MyDrive/Project_folder/cnn-lstm/data/video_data/help/help_Crop_010_02.avi\n",
            "vidPath:  /content/gdrive/MyDrive/Project_folder/cnn-lstm/data/video_data/help/help_Crop_007_02.avi\n",
            "vidPath:  /content/gdrive/MyDrive/Project_folder/cnn-lstm/data/video_data/help/help_Crop_009_02.avi\n",
            "vidPath:  /content/gdrive/MyDrive/Project_folder/cnn-lstm/data/video_data/help/help_Crop_008_01.avi\n",
            "vidPath:  /content/gdrive/MyDrive/Project_folder/cnn-lstm/data/video_data/help/help_Crop_006_01.avi\n",
            "vidPath:  /content/gdrive/MyDrive/Project_folder/cnn-lstm/data/video_data/help/help_Crop_011_02.avi\n",
            "vidPath:  /content/gdrive/MyDrive/Project_folder/cnn-lstm/data/video_data/help/help_Crop_002_01.avi\n",
            "vidPath:  /content/gdrive/MyDrive/Project_folder/cnn-lstm/data/video_data/help/help_Crop_011_01.avi\n",
            "vidPath:  /content/gdrive/MyDrive/Project_folder/cnn-lstm/data/video_data/help/help_Crop_010_01.avi\n",
            "vidPath:  /content/gdrive/MyDrive/Project_folder/cnn-lstm/data/video_data/help/help_Crop_004_02.avi\n",
            "vidPath:  /content/gdrive/MyDrive/Project_folder/cnn-lstm/data/video_data/help/help_Crop_015_02.avi\n",
            "vidPath:  /content/gdrive/MyDrive/Project_folder/cnn-lstm/data/video_data/help/help_Crop_013_01.avi\n",
            "vidPath:  /content/gdrive/MyDrive/Project_folder/cnn-lstm/data/video_data/help/help_Crop_016_01.avi\n",
            "vidPath:  /content/gdrive/MyDrive/Project_folder/cnn-lstm/data/video_data/help/help_Crop_014_01.avi\n",
            "vidPath:  /content/gdrive/MyDrive/Project_folder/cnn-lstm/data/video_data/help/help_Crop_019_02.avi\n",
            "vidPath:  /content/gdrive/MyDrive/Project_folder/cnn-lstm/data/video_data/help/help_Crop_018_01.avi\n",
            "vidPath:  /content/gdrive/MyDrive/Project_folder/cnn-lstm/data/video_data/help/help_Crop_018_02.avi\n",
            "vidPath:  /content/gdrive/MyDrive/Project_folder/cnn-lstm/data/video_data/help/help_Crop_021_01.avi\n",
            "vidPath:  /content/gdrive/MyDrive/Project_folder/cnn-lstm/data/video_data/help/help_Crop_022_02.avi\n",
            "vidPath:  /content/gdrive/MyDrive/Project_folder/cnn-lstm/data/video_data/help/help_Crop_022_01.avi\n",
            "vidPath:  /content/gdrive/MyDrive/Project_folder/cnn-lstm/data/video_data/help/help_Crop_016_02.avi\n",
            "vidPath:  /content/gdrive/MyDrive/Project_folder/cnn-lstm/data/video_data/help/help_Crop_014_02.avi\n",
            "vidPath:  /content/gdrive/MyDrive/Project_folder/cnn-lstm/data/video_data/help/help_Crop_017_01.avi\n",
            "vidPath:  /content/gdrive/MyDrive/Project_folder/cnn-lstm/data/video_data/help/help_Crop_015_01.avi\n",
            "vidPath:  /content/gdrive/MyDrive/Project_folder/cnn-lstm/data/video_data/help/help_Crop_020_01.avi\n",
            "vidPath:  /content/gdrive/MyDrive/Project_folder/cnn-lstm/data/video_data/help/help_Crop_019_01.avi\n",
            "vidPath:  /content/gdrive/MyDrive/Project_folder/cnn-lstm/data/video_data/help/help_Crop_021_02.avi\n",
            "vidPath:  /content/gdrive/MyDrive/Project_folder/cnn-lstm/data/video_data/help/help_Crop_013_02.avi\n",
            "vidPath:  /content/gdrive/MyDrive/Project_folder/cnn-lstm/data/video_data/help/help_Crop_012_02.avi\n",
            "vidPath:  /content/gdrive/MyDrive/Project_folder/cnn-lstm/data/video_data/help/help_Crop_017_02.avi\n",
            "vidPath:  /content/gdrive/MyDrive/Project_folder/cnn-lstm/data/video_data/help/help_Crop_020_02.avi\n",
            "vidPath:  /content/gdrive/MyDrive/Project_folder/cnn-lstm/data/video_data/help/help_Crop_026_01.avi\n",
            "vidPath:  /content/gdrive/MyDrive/Project_folder/cnn-lstm/data/video_data/help/help_Crop_024_01.avi\n",
            "vidPath:  /content/gdrive/MyDrive/Project_folder/cnn-lstm/data/video_data/help/help_Crop_023_02.avi\n",
            "vidPath:  /content/gdrive/MyDrive/Project_folder/cnn-lstm/data/video_data/help/help_Crop_026_02.avi\n",
            "vidPath:  /content/gdrive/MyDrive/Project_folder/cnn-lstm/data/video_data/help/help_Crop_024_02.avi\n",
            "vidPath:  /content/gdrive/MyDrive/Project_folder/cnn-lstm/data/video_data/help/help_Crop_023_01.avi\n",
            "vidPath:  /content/gdrive/MyDrive/Project_folder/cnn-lstm/data/video_data/help/help_Crop_025_01.avi\n",
            "vidPath:  /content/gdrive/MyDrive/Project_folder/cnn-lstm/data/video_data/help/help_Crop_025_02.avi\n",
            "Category:  hot\n",
            "vidPath:  /content/gdrive/MyDrive/Project_folder/cnn-lstm/data/video_data/hot/hot_Crop_001_02.avi\n",
            "vidPath:  /content/gdrive/MyDrive/Project_folder/cnn-lstm/data/video_data/hot/hot_Crop_003_02.avi\n",
            "vidPath:  /content/gdrive/MyDrive/Project_folder/cnn-lstm/data/video_data/hot/hot_Crop_003_01.avi\n",
            "vidPath:  /content/gdrive/MyDrive/Project_folder/cnn-lstm/data/video_data/hot/hot_Crop_002_01.avi\n",
            "vidPath:  /content/gdrive/MyDrive/Project_folder/cnn-lstm/data/video_data/hot/hot_Crop_001_01.avi\n",
            "vidPath:  /content/gdrive/MyDrive/Project_folder/cnn-lstm/data/video_data/hot/hot_Crop_002_02.avi\n",
            "vidPath:  /content/gdrive/MyDrive/Project_folder/cnn-lstm/data/video_data/hot/hot_Crop_011_01.avi\n",
            "vidPath:  /content/gdrive/MyDrive/Project_folder/cnn-lstm/data/video_data/hot/hot_Crop_006_02.avi\n",
            "vidPath:  /content/gdrive/MyDrive/Project_folder/cnn-lstm/data/video_data/hot/hot_Crop_005_01.avi\n",
            "vidPath:  /content/gdrive/MyDrive/Project_folder/cnn-lstm/data/video_data/hot/hot_Crop_007_02.avi\n",
            "vidPath:  /content/gdrive/MyDrive/Project_folder/cnn-lstm/data/video_data/hot/hot_Crop_008_02.avi\n",
            "vidPath:  /content/gdrive/MyDrive/Project_folder/cnn-lstm/data/video_data/hot/hot_Crop_009_02.avi\n",
            "vidPath:  /content/gdrive/MyDrive/Project_folder/cnn-lstm/data/video_data/hot/hot_Crop_009_01.avi\n",
            "vidPath:  /content/gdrive/MyDrive/Project_folder/cnn-lstm/data/video_data/hot/hot_Crop_010_01.avi\n",
            "vidPath:  /content/gdrive/MyDrive/Project_folder/cnn-lstm/data/video_data/hot/hot_Crop_004_02.avi\n",
            "vidPath:  /content/gdrive/MyDrive/Project_folder/cnn-lstm/data/video_data/hot/hot_Crop_004_01.avi\n",
            "vidPath:  /content/gdrive/MyDrive/Project_folder/cnn-lstm/data/video_data/hot/hot_Crop_012_01.avi\n",
            "vidPath:  /content/gdrive/MyDrive/Project_folder/cnn-lstm/data/video_data/hot/hot_Crop_014_01.avi\n",
            "vidPath:  /content/gdrive/MyDrive/Project_folder/cnn-lstm/data/video_data/hot/hot_Crop_013_01.avi\n",
            "vidPath:  /content/gdrive/MyDrive/Project_folder/cnn-lstm/data/video_data/hot/hot_Crop_014_02.avi\n",
            "vidPath:  /content/gdrive/MyDrive/Project_folder/cnn-lstm/data/video_data/hot/hot_Crop_008_01.avi\n",
            "vidPath:  /content/gdrive/MyDrive/Project_folder/cnn-lstm/data/video_data/hot/hot_Crop_011_02.avi\n",
            "vidPath:  /content/gdrive/MyDrive/Project_folder/cnn-lstm/data/video_data/hot/hot_Crop_005_02.avi\n",
            "vidPath:  /content/gdrive/MyDrive/Project_folder/cnn-lstm/data/video_data/hot/hot_Crop_013_02.avi\n",
            "vidPath:  /content/gdrive/MyDrive/Project_folder/cnn-lstm/data/video_data/hot/hot_Crop_007_01.avi\n",
            "vidPath:  /content/gdrive/MyDrive/Project_folder/cnn-lstm/data/video_data/hot/hot_Crop_010_02.avi\n",
            "vidPath:  /content/gdrive/MyDrive/Project_folder/cnn-lstm/data/video_data/hot/hot_Crop_012_02.avi\n",
            "vidPath:  /content/gdrive/MyDrive/Project_folder/cnn-lstm/data/video_data/hot/hot_Crop_006_01.avi\n",
            "vidPath:  /content/gdrive/MyDrive/Project_folder/cnn-lstm/data/video_data/hot/hot_Crop_015_02.avi\n",
            "vidPath:  /content/gdrive/MyDrive/Project_folder/cnn-lstm/data/video_data/hot/hot_Crop_022_01.avi\n",
            "vidPath:  /content/gdrive/MyDrive/Project_folder/cnn-lstm/data/video_data/hot/hot_Crop_016_02.avi\n",
            "vidPath:  /content/gdrive/MyDrive/Project_folder/cnn-lstm/data/video_data/hot/hot_Crop_018_02.avi\n",
            "vidPath:  /content/gdrive/MyDrive/Project_folder/cnn-lstm/data/video_data/hot/hot_Crop_023_01.avi\n",
            "vidPath:  /content/gdrive/MyDrive/Project_folder/cnn-lstm/data/video_data/hot/hot_Crop_017_01.avi\n",
            "vidPath:  /content/gdrive/MyDrive/Project_folder/cnn-lstm/data/video_data/hot/hot_Crop_019_01.avi\n",
            "vidPath:  /content/gdrive/MyDrive/Project_folder/cnn-lstm/data/video_data/hot/hot_Crop_024_01.avi\n",
            "vidPath:  /content/gdrive/MyDrive/Project_folder/cnn-lstm/data/video_data/hot/hot_Crop_016_01.avi\n",
            "vidPath:  /content/gdrive/MyDrive/Project_folder/cnn-lstm/data/video_data/hot/hot_Crop_018_01.avi\n",
            "vidPath:  /content/gdrive/MyDrive/Project_folder/cnn-lstm/data/video_data/hot/hot_Crop_021_02.avi\n",
            "vidPath:  /content/gdrive/MyDrive/Project_folder/cnn-lstm/data/video_data/hot/hot_Crop_025_02.avi\n",
            "vidPath:  /content/gdrive/MyDrive/Project_folder/cnn-lstm/data/video_data/hot/hot_Crop_022_02.avi\n",
            "vidPath:  /content/gdrive/MyDrive/Project_folder/cnn-lstm/data/video_data/hot/hot_Crop_025_01.avi\n",
            "vidPath:  /content/gdrive/MyDrive/Project_folder/cnn-lstm/data/video_data/hot/hot_Crop_021_01.avi\n",
            "vidPath:  /content/gdrive/MyDrive/Project_folder/cnn-lstm/data/video_data/hot/hot_Crop_023_02.avi\n",
            "vidPath:  /content/gdrive/MyDrive/Project_folder/cnn-lstm/data/video_data/hot/hot_Crop_019_02.avi\n",
            "vidPath:  /content/gdrive/MyDrive/Project_folder/cnn-lstm/data/video_data/hot/hot_Crop_020_02.avi\n",
            "vidPath:  /content/gdrive/MyDrive/Project_folder/cnn-lstm/data/video_data/hot/hot_Crop_024_02.avi\n",
            "vidPath:  /content/gdrive/MyDrive/Project_folder/cnn-lstm/data/video_data/hot/hot_Crop_020_01.avi\n",
            "vidPath:  /content/gdrive/MyDrive/Project_folder/cnn-lstm/data/video_data/hot/hot_Crop_015_01.avi\n",
            "vidPath:  /content/gdrive/MyDrive/Project_folder/cnn-lstm/data/video_data/hot/hot_Crop_017_02.avi\n",
            "vidPath:  /content/gdrive/MyDrive/Project_folder/cnn-lstm/data/video_data/hot/hot_Crop_026_01.avi\n",
            "vidPath:  /content/gdrive/MyDrive/Project_folder/cnn-lstm/data/video_data/hot/hot_Crop_026_02.avi\n",
            "Category:  doctor\n",
            "vidPath:  /content/gdrive/MyDrive/Project_folder/cnn-lstm/data/video_data/doctor/doctor_Crop_017_02.avi\n",
            "vidPath:  /content/gdrive/MyDrive/Project_folder/cnn-lstm/data/video_data/doctor/doctor_Crop_022_01.avi\n",
            "vidPath:  /content/gdrive/MyDrive/Project_folder/cnn-lstm/data/video_data/doctor/doctor_Crop_019_02.avi\n",
            "vidPath:  /content/gdrive/MyDrive/Project_folder/cnn-lstm/data/video_data/doctor/doctor_Crop_018_02.avi\n",
            "vidPath:  /content/gdrive/MyDrive/Project_folder/cnn-lstm/data/video_data/doctor/doctor_Crop_021_01.avi\n",
            "vidPath:  /content/gdrive/MyDrive/Project_folder/cnn-lstm/data/video_data/doctor/doctor_Crop_016_02.avi\n",
            "vidPath:  /content/gdrive/MyDrive/Project_folder/cnn-lstm/data/video_data/doctor/doctor_Crop_017_01.avi\n",
            "vidPath:  /content/gdrive/MyDrive/Project_folder/cnn-lstm/data/video_data/doctor/doctor_Crop_021_02.avi\n",
            "vidPath:  /content/gdrive/MyDrive/Project_folder/cnn-lstm/data/video_data/doctor/doctor_Crop_022_02.avi\n",
            "vidPath:  /content/gdrive/MyDrive/Project_folder/cnn-lstm/data/video_data/doctor/doctor_Crop_020_02.avi\n",
            "vidPath:  /content/gdrive/MyDrive/Project_folder/cnn-lstm/data/video_data/doctor/doctor_Crop_018_01.avi\n",
            "vidPath:  /content/gdrive/MyDrive/Project_folder/cnn-lstm/data/video_data/doctor/doctor_Crop_023_02.avi\n",
            "vidPath:  /content/gdrive/MyDrive/Project_folder/cnn-lstm/data/video_data/doctor/doctor_Crop_020_01.avi\n",
            "vidPath:  /content/gdrive/MyDrive/Project_folder/cnn-lstm/data/video_data/doctor/doctor_Crop_023_01.avi\n",
            "vidPath:  /content/gdrive/MyDrive/Project_folder/cnn-lstm/data/video_data/doctor/doctor_Crop_019_01.avi\n",
            "vidPath:  /content/gdrive/MyDrive/Project_folder/cnn-lstm/data/video_data/doctor/doctor_Crop_024_02.avi\n"
          ],
          "name": "stdout"
        },
        {
          "output_type": "stream",
          "text": [
            "WARNING:py.warnings:/usr/local/lib/python3.7/dist-packages/moviepy/video/io/ffmpeg_reader.py:130: UserWarning: Warning: in file /content/gdrive/MyDrive/Project_folder/cnn-lstm/data/video_data/doctor/doctor_Crop_024_02.avi, 900000 bytes wanted but 0 bytes read,at frame 90/91, at time 3.00/3.00 sec. Using the last valid frame instead.\n",
            "  UserWarning)\n",
            "\n"
          ],
          "name": "stderr"
        },
        {
          "output_type": "stream",
          "text": [
            "vidPath:  /content/gdrive/MyDrive/Project_folder/cnn-lstm/data/video_data/doctor/doctor_Crop_026_01.avi\n",
            "vidPath:  /content/gdrive/MyDrive/Project_folder/cnn-lstm/data/video_data/doctor/doctor_Crop_026_02.avi\n",
            "vidPath:  /content/gdrive/MyDrive/Project_folder/cnn-lstm/data/video_data/doctor/doctor_Crop_025_02.avi\n",
            "vidPath:  /content/gdrive/MyDrive/Project_folder/cnn-lstm/data/video_data/doctor/doctor_Crop_024_01.avi\n",
            "vidPath:  /content/gdrive/MyDrive/Project_folder/cnn-lstm/data/video_data/doctor/doctor_Crop_025_01.avi\n",
            "vidPath:  /content/gdrive/MyDrive/Project_folder/cnn-lstm/data/video_data/doctor/doctor_Crop_001_01.avi\n",
            "vidPath:  /content/gdrive/MyDrive/Project_folder/cnn-lstm/data/video_data/doctor/doctor_Crop_001_02.avi\n",
            "vidPath:  /content/gdrive/MyDrive/Project_folder/cnn-lstm/data/video_data/doctor/doctor_Crop_002_01.avi\n",
            "vidPath:  /content/gdrive/MyDrive/Project_folder/cnn-lstm/data/video_data/doctor/doctor_Crop_002_02.avi\n"
          ],
          "name": "stdout"
        },
        {
          "output_type": "stream",
          "text": [
            "WARNING:py.warnings:/usr/local/lib/python3.7/dist-packages/moviepy/video/io/ffmpeg_reader.py:130: UserWarning: Warning: in file /content/gdrive/MyDrive/Project_folder/cnn-lstm/data/video_data/doctor/doctor_Crop_002_02.avi, 900000 bytes wanted but 0 bytes read,at frame 90/91, at time 3.00/3.00 sec. Using the last valid frame instead.\n",
            "  UserWarning)\n",
            "\n"
          ],
          "name": "stderr"
        },
        {
          "output_type": "stream",
          "text": [
            "vidPath:  /content/gdrive/MyDrive/Project_folder/cnn-lstm/data/video_data/doctor/doctor_Crop_003_01.avi\n",
            "vidPath:  /content/gdrive/MyDrive/Project_folder/cnn-lstm/data/video_data/doctor/doctor_Crop_003_02.avi\n",
            "vidPath:  /content/gdrive/MyDrive/Project_folder/cnn-lstm/data/video_data/doctor/doctor_Crop_004_01.avi\n",
            "vidPath:  /content/gdrive/MyDrive/Project_folder/cnn-lstm/data/video_data/doctor/doctor_Crop_004_02.avi\n",
            "vidPath:  /content/gdrive/MyDrive/Project_folder/cnn-lstm/data/video_data/doctor/doctor_Crop_005_01.avi\n",
            "vidPath:  /content/gdrive/MyDrive/Project_folder/cnn-lstm/data/video_data/doctor/doctor_Crop_005_02.avi\n",
            "vidPath:  /content/gdrive/MyDrive/Project_folder/cnn-lstm/data/video_data/doctor/doctor_Crop_006_01.avi\n",
            "vidPath:  /content/gdrive/MyDrive/Project_folder/cnn-lstm/data/video_data/doctor/doctor_Crop_006_02.avi\n",
            "vidPath:  /content/gdrive/MyDrive/Project_folder/cnn-lstm/data/video_data/doctor/doctor_Crop_007_01.avi\n",
            "vidPath:  /content/gdrive/MyDrive/Project_folder/cnn-lstm/data/video_data/doctor/doctor_Crop_007_02.avi\n",
            "vidPath:  /content/gdrive/MyDrive/Project_folder/cnn-lstm/data/video_data/doctor/doctor_Crop_008_01.avi\n",
            "vidPath:  /content/gdrive/MyDrive/Project_folder/cnn-lstm/data/video_data/doctor/doctor_Crop_008_02.avi\n",
            "vidPath:  /content/gdrive/MyDrive/Project_folder/cnn-lstm/data/video_data/doctor/doctor_Crop_009_01.avi\n",
            "vidPath:  /content/gdrive/MyDrive/Project_folder/cnn-lstm/data/video_data/doctor/doctor_Crop_009_02.avi\n",
            "vidPath:  /content/gdrive/MyDrive/Project_folder/cnn-lstm/data/video_data/doctor/doctor_Crop_010_01.avi\n",
            "vidPath:  /content/gdrive/MyDrive/Project_folder/cnn-lstm/data/video_data/doctor/doctor_Crop_010_02.avi\n",
            "vidPath:  /content/gdrive/MyDrive/Project_folder/cnn-lstm/data/video_data/doctor/doctor_Crop_011_01.avi\n",
            "vidPath:  /content/gdrive/MyDrive/Project_folder/cnn-lstm/data/video_data/doctor/doctor_Crop_011_02.avi\n",
            "vidPath:  /content/gdrive/MyDrive/Project_folder/cnn-lstm/data/video_data/doctor/doctor_Crop_012_01.avi\n",
            "vidPath:  /content/gdrive/MyDrive/Project_folder/cnn-lstm/data/video_data/doctor/doctor_Crop_012_02.avi\n",
            "vidPath:  /content/gdrive/MyDrive/Project_folder/cnn-lstm/data/video_data/doctor/doctor_Crop_013_01.avi\n",
            "vidPath:  /content/gdrive/MyDrive/Project_folder/cnn-lstm/data/video_data/doctor/doctor_Crop_013_02.avi\n",
            "vidPath:  /content/gdrive/MyDrive/Project_folder/cnn-lstm/data/video_data/doctor/doctor_Crop_014_01.avi\n",
            "vidPath:  /content/gdrive/MyDrive/Project_folder/cnn-lstm/data/video_data/doctor/doctor_Crop_014_02.avi\n",
            "vidPath:  /content/gdrive/MyDrive/Project_folder/cnn-lstm/data/video_data/doctor/doctor_Crop_015_01.avi\n",
            "vidPath:  /content/gdrive/MyDrive/Project_folder/cnn-lstm/data/video_data/doctor/doctor_Crop_015_02.avi\n",
            "vidPath:  /content/gdrive/MyDrive/Project_folder/cnn-lstm/data/video_data/doctor/doctor_Crop_016_01.avi\n",
            "Category:  lose\n",
            "vidPath:  /content/gdrive/MyDrive/Project_folder/cnn-lstm/data/video_data/lose/lose_Crop_002_02.avi\n",
            "vidPath:  /content/gdrive/MyDrive/Project_folder/cnn-lstm/data/video_data/lose/lose_Crop_003_01.avi\n",
            "vidPath:  /content/gdrive/MyDrive/Project_folder/cnn-lstm/data/video_data/lose/lose_Crop_002_01.avi\n",
            "vidPath:  /content/gdrive/MyDrive/Project_folder/cnn-lstm/data/video_data/lose/lose_Crop_001_01.avi\n",
            "vidPath:  /content/gdrive/MyDrive/Project_folder/cnn-lstm/data/video_data/lose/lose_Crop_003_02.avi\n",
            "vidPath:  /content/gdrive/MyDrive/Project_folder/cnn-lstm/data/video_data/lose/lose_Crop_001_02.avi\n",
            "vidPath:  /content/gdrive/MyDrive/Project_folder/cnn-lstm/data/video_data/lose/lose_Crop_013_01.avi\n",
            "vidPath:  /content/gdrive/MyDrive/Project_folder/cnn-lstm/data/video_data/lose/lose_Crop_009_02.avi\n",
            "vidPath:  /content/gdrive/MyDrive/Project_folder/cnn-lstm/data/video_data/lose/lose_Crop_008_01.avi\n",
            "vidPath:  /content/gdrive/MyDrive/Project_folder/cnn-lstm/data/video_data/lose/lose_Crop_004_02.avi\n",
            "vidPath:  /content/gdrive/MyDrive/Project_folder/cnn-lstm/data/video_data/lose/lose_Crop_010_02.avi\n",
            "vidPath:  /content/gdrive/MyDrive/Project_folder/cnn-lstm/data/video_data/lose/lose_Crop_009_01.avi\n",
            "vidPath:  /content/gdrive/MyDrive/Project_folder/cnn-lstm/data/video_data/lose/lose_Crop_006_01.avi\n",
            "vidPath:  /content/gdrive/MyDrive/Project_folder/cnn-lstm/data/video_data/lose/lose_Crop_011_01.avi\n",
            "vidPath:  /content/gdrive/MyDrive/Project_folder/cnn-lstm/data/video_data/lose/lose_Crop_007_02.avi\n",
            "vidPath:  /content/gdrive/MyDrive/Project_folder/cnn-lstm/data/video_data/lose/lose_Crop_011_02.avi\n",
            "vidPath:  /content/gdrive/MyDrive/Project_folder/cnn-lstm/data/video_data/lose/lose_Crop_012_02.avi\n",
            "vidPath:  /content/gdrive/MyDrive/Project_folder/cnn-lstm/data/video_data/lose/lose_Crop_012_01.avi\n",
            "vidPath:  /content/gdrive/MyDrive/Project_folder/cnn-lstm/data/video_data/lose/lose_Crop_005_01.avi\n",
            "vidPath:  /content/gdrive/MyDrive/Project_folder/cnn-lstm/data/video_data/lose/lose_Crop_010_01.avi\n",
            "vidPath:  /content/gdrive/MyDrive/Project_folder/cnn-lstm/data/video_data/lose/lose_Crop_005_02.avi\n",
            "vidPath:  /content/gdrive/MyDrive/Project_folder/cnn-lstm/data/video_data/lose/lose_Crop_006_02.avi\n",
            "vidPath:  /content/gdrive/MyDrive/Project_folder/cnn-lstm/data/video_data/lose/lose_Crop_007_01.avi\n",
            "vidPath:  /content/gdrive/MyDrive/Project_folder/cnn-lstm/data/video_data/lose/lose_Crop_004_01.avi\n",
            "vidPath:  /content/gdrive/MyDrive/Project_folder/cnn-lstm/data/video_data/lose/lose_Crop_008_02.avi\n",
            "vidPath:  /content/gdrive/MyDrive/Project_folder/cnn-lstm/data/video_data/lose/lose_Crop_013_02.avi\n",
            "vidPath:  /content/gdrive/MyDrive/Project_folder/cnn-lstm/data/video_data/lose/lose_Crop_014_01.avi\n",
            "vidPath:  /content/gdrive/MyDrive/Project_folder/cnn-lstm/data/video_data/lose/lose_Crop_016_02.avi\n",
            "vidPath:  /content/gdrive/MyDrive/Project_folder/cnn-lstm/data/video_data/lose/lose_Crop_020_01.avi\n",
            "vidPath:  /content/gdrive/MyDrive/Project_folder/cnn-lstm/data/video_data/lose/lose_Crop_016_01.avi\n",
            "vidPath:  /content/gdrive/MyDrive/Project_folder/cnn-lstm/data/video_data/lose/lose_Crop_017_02.avi\n",
            "vidPath:  /content/gdrive/MyDrive/Project_folder/cnn-lstm/data/video_data/lose/lose_Crop_018_02.avi\n",
            "vidPath:  /content/gdrive/MyDrive/Project_folder/cnn-lstm/data/video_data/lose/lose_Crop_014_02.avi\n",
            "vidPath:  /content/gdrive/MyDrive/Project_folder/cnn-lstm/data/video_data/lose/lose_Crop_015_01.avi\n",
            "vidPath:  /content/gdrive/MyDrive/Project_folder/cnn-lstm/data/video_data/lose/lose_Crop_021_02.avi\n",
            "vidPath:  /content/gdrive/MyDrive/Project_folder/cnn-lstm/data/video_data/lose/lose_Crop_020_02.avi\n",
            "vidPath:  /content/gdrive/MyDrive/Project_folder/cnn-lstm/data/video_data/lose/lose_Crop_017_01.avi\n",
            "vidPath:  /content/gdrive/MyDrive/Project_folder/cnn-lstm/data/video_data/lose/lose_Crop_021_01.avi\n",
            "vidPath:  /content/gdrive/MyDrive/Project_folder/cnn-lstm/data/video_data/lose/lose_Crop_015_02.avi\n",
            "vidPath:  /content/gdrive/MyDrive/Project_folder/cnn-lstm/data/video_data/lose/lose_Crop_018_01.avi\n",
            "Category:  pain\n",
            "vidPath:  /content/gdrive/MyDrive/Project_folder/cnn-lstm/data/video_data/pain/pain_Crop_007_02.avi\n",
            "vidPath:  /content/gdrive/MyDrive/Project_folder/cnn-lstm/data/video_data/pain/pain_Crop_001_01.avi\n",
            "vidPath:  /content/gdrive/MyDrive/Project_folder/cnn-lstm/data/video_data/pain/pain_Crop_007_01.avi\n",
            "vidPath:  /content/gdrive/MyDrive/Project_folder/cnn-lstm/data/video_data/pain/pain_Crop_005_01.avi\n",
            "vidPath:  /content/gdrive/MyDrive/Project_folder/cnn-lstm/data/video_data/pain/pain_Crop_006_01.avi\n",
            "vidPath:  /content/gdrive/MyDrive/Project_folder/cnn-lstm/data/video_data/pain/pain_Crop_006_02.avi\n",
            "vidPath:  /content/gdrive/MyDrive/Project_folder/cnn-lstm/data/video_data/pain/pain_Crop_004_02.avi\n",
            "vidPath:  /content/gdrive/MyDrive/Project_folder/cnn-lstm/data/video_data/pain/pain_Crop_002_01.avi\n",
            "vidPath:  /content/gdrive/MyDrive/Project_folder/cnn-lstm/data/video_data/pain/pain_Crop_003_02.avi\n",
            "vidPath:  /content/gdrive/MyDrive/Project_folder/cnn-lstm/data/video_data/pain/pain_Crop_004_01.avi\n",
            "vidPath:  /content/gdrive/MyDrive/Project_folder/cnn-lstm/data/video_data/pain/pain_Crop_005_02.avi\n",
            "vidPath:  /content/gdrive/MyDrive/Project_folder/cnn-lstm/data/video_data/pain/pain_Crop_001_02.avi\n",
            "vidPath:  /content/gdrive/MyDrive/Project_folder/cnn-lstm/data/video_data/pain/pain_Crop_002_02.avi\n",
            "vidPath:  /content/gdrive/MyDrive/Project_folder/cnn-lstm/data/video_data/pain/pain_Crop_003_01.avi\n",
            "vidPath:  /content/gdrive/MyDrive/Project_folder/cnn-lstm/data/video_data/pain/pain_Crop_017_02.avi\n",
            "vidPath:  /content/gdrive/MyDrive/Project_folder/cnn-lstm/data/video_data/pain/pain_Crop_011_02.avi\n",
            "vidPath:  /content/gdrive/MyDrive/Project_folder/cnn-lstm/data/video_data/pain/pain_Crop_012_02.avi\n",
            "vidPath:  /content/gdrive/MyDrive/Project_folder/cnn-lstm/data/video_data/pain/pain_Crop_016_02.avi\n",
            "vidPath:  /content/gdrive/MyDrive/Project_folder/cnn-lstm/data/video_data/pain/pain_Crop_012_01.avi\n"
          ],
          "name": "stdout"
        },
        {
          "output_type": "stream",
          "text": [
            "WARNING:py.warnings:/usr/local/lib/python3.7/dist-packages/moviepy/video/io/ffmpeg_reader.py:130: UserWarning: Warning: in file /content/gdrive/MyDrive/Project_folder/cnn-lstm/data/video_data/pain/pain_Crop_012_01.avi, 900000 bytes wanted but 0 bytes read,at frame 90/91, at time 3.00/3.00 sec. Using the last valid frame instead.\n",
            "  UserWarning)\n",
            "\n"
          ],
          "name": "stderr"
        },
        {
          "output_type": "stream",
          "text": [
            "vidPath:  /content/gdrive/MyDrive/Project_folder/cnn-lstm/data/video_data/pain/pain_Crop_018_01.avi\n",
            "vidPath:  /content/gdrive/MyDrive/Project_folder/cnn-lstm/data/video_data/pain/pain_Crop_018_02.avi\n",
            "vidPath:  /content/gdrive/MyDrive/Project_folder/cnn-lstm/data/video_data/pain/pain_Crop_010_02.avi\n",
            "vidPath:  /content/gdrive/MyDrive/Project_folder/cnn-lstm/data/video_data/pain/pain_Crop_011_01.avi\n",
            "vidPath:  /content/gdrive/MyDrive/Project_folder/cnn-lstm/data/video_data/pain/pain_Crop_014_02.avi\n",
            "vidPath:  /content/gdrive/MyDrive/Project_folder/cnn-lstm/data/video_data/pain/pain_Crop_010_01.avi\n",
            "vidPath:  /content/gdrive/MyDrive/Project_folder/cnn-lstm/data/video_data/pain/pain_Crop_013_02.avi\n",
            "vidPath:  /content/gdrive/MyDrive/Project_folder/cnn-lstm/data/video_data/pain/pain_Crop_009_02.avi\n",
            "vidPath:  /content/gdrive/MyDrive/Project_folder/cnn-lstm/data/video_data/pain/pain_Crop_014_01.avi\n",
            "vidPath:  /content/gdrive/MyDrive/Project_folder/cnn-lstm/data/video_data/pain/pain_Crop_008_02.avi\n",
            "vidPath:  /content/gdrive/MyDrive/Project_folder/cnn-lstm/data/video_data/pain/pain_Crop_009_01.avi\n",
            "vidPath:  /content/gdrive/MyDrive/Project_folder/cnn-lstm/data/video_data/pain/pain_Crop_017_01.avi\n",
            "vidPath:  /content/gdrive/MyDrive/Project_folder/cnn-lstm/data/video_data/pain/pain_Crop_016_01.avi\n",
            "vidPath:  /content/gdrive/MyDrive/Project_folder/cnn-lstm/data/video_data/pain/pain_Crop_008_01.avi\n",
            "vidPath:  /content/gdrive/MyDrive/Project_folder/cnn-lstm/data/video_data/pain/pain_Crop_013_01.avi\n",
            "vidPath:  /content/gdrive/MyDrive/Project_folder/cnn-lstm/data/video_data/pain/pain_Crop_015_02.avi\n",
            "vidPath:  /content/gdrive/MyDrive/Project_folder/cnn-lstm/data/video_data/pain/pain_Crop_015_01.avi\n",
            "vidPath:  /content/gdrive/MyDrive/Project_folder/cnn-lstm/data/video_data/pain/pain_Crop_022_02.avi\n",
            "vidPath:  /content/gdrive/MyDrive/Project_folder/cnn-lstm/data/video_data/pain/pain_Crop_019_02.avi\n",
            "vidPath:  /content/gdrive/MyDrive/Project_folder/cnn-lstm/data/video_data/pain/pain_Crop_026_01.avi\n",
            "vidPath:  /content/gdrive/MyDrive/Project_folder/cnn-lstm/data/video_data/pain/pain_Crop_021_01.avi\n",
            "vidPath:  /content/gdrive/MyDrive/Project_folder/cnn-lstm/data/video_data/pain/pain_Crop_021_02.avi\n",
            "vidPath:  /content/gdrive/MyDrive/Project_folder/cnn-lstm/data/video_data/pain/pain_Crop_024_01.avi\n",
            "vidPath:  /content/gdrive/MyDrive/Project_folder/cnn-lstm/data/video_data/pain/pain_Crop_020_01.avi\n",
            "vidPath:  /content/gdrive/MyDrive/Project_folder/cnn-lstm/data/video_data/pain/pain_Crop_022_01.avi\n",
            "vidPath:  /content/gdrive/MyDrive/Project_folder/cnn-lstm/data/video_data/pain/pain_Crop_023_02.avi\n",
            "vidPath:  /content/gdrive/MyDrive/Project_folder/cnn-lstm/data/video_data/pain/pain_Crop_019_01.avi\n",
            "vidPath:  /content/gdrive/MyDrive/Project_folder/cnn-lstm/data/video_data/pain/pain_Crop_025_01.avi\n",
            "vidPath:  /content/gdrive/MyDrive/Project_folder/cnn-lstm/data/video_data/pain/pain_Crop_026_02.avi\n",
            "vidPath:  /content/gdrive/MyDrive/Project_folder/cnn-lstm/data/video_data/pain/pain_Crop_024_02.avi\n",
            "vidPath:  /content/gdrive/MyDrive/Project_folder/cnn-lstm/data/video_data/pain/pain_Crop_025_02.avi\n",
            "vidPath:  /content/gdrive/MyDrive/Project_folder/cnn-lstm/data/video_data/pain/pain_Crop_020_02.avi\n",
            "vidPath:  /content/gdrive/MyDrive/Project_folder/cnn-lstm/data/video_data/pain/pain_Crop_023_01.avi\n",
            "Category:  thief\n",
            "vidPath:  /content/gdrive/MyDrive/Project_folder/cnn-lstm/data/video_data/thief/thief_Crop_002_02.avi\n",
            "vidPath:  /content/gdrive/MyDrive/Project_folder/cnn-lstm/data/video_data/thief/thief_Crop_001_02.avi\n",
            "vidPath:  /content/gdrive/MyDrive/Project_folder/cnn-lstm/data/video_data/thief/thief_Crop_006_01.avi\n"
          ],
          "name": "stdout"
        },
        {
          "output_type": "stream",
          "text": [
            "WARNING:py.warnings:/usr/local/lib/python3.7/dist-packages/moviepy/video/io/ffmpeg_reader.py:130: UserWarning: Warning: in file /content/gdrive/MyDrive/Project_folder/cnn-lstm/data/video_data/thief/thief_Crop_006_01.avi, 900000 bytes wanted but 0 bytes read,at frame 90/91, at time 3.00/3.00 sec. Using the last valid frame instead.\n",
            "  UserWarning)\n",
            "\n"
          ],
          "name": "stderr"
        },
        {
          "output_type": "stream",
          "text": [
            "vidPath:  /content/gdrive/MyDrive/Project_folder/cnn-lstm/data/video_data/thief/thief_Crop_003_02.avi\n",
            "vidPath:  /content/gdrive/MyDrive/Project_folder/cnn-lstm/data/video_data/thief/thief_Crop_003_01.avi\n",
            "vidPath:  /content/gdrive/MyDrive/Project_folder/cnn-lstm/data/video_data/thief/thief_Crop_005_01.avi\n",
            "vidPath:  /content/gdrive/MyDrive/Project_folder/cnn-lstm/data/video_data/thief/thief_Crop_004_02.avi\n",
            "vidPath:  /content/gdrive/MyDrive/Project_folder/cnn-lstm/data/video_data/thief/thief_Crop_002_01.avi\n",
            "vidPath:  /content/gdrive/MyDrive/Project_folder/cnn-lstm/data/video_data/thief/thief_Crop_004_01.avi\n",
            "vidPath:  /content/gdrive/MyDrive/Project_folder/cnn-lstm/data/video_data/thief/thief_Crop_001_01.avi\n",
            "vidPath:  /content/gdrive/MyDrive/Project_folder/cnn-lstm/data/video_data/thief/thief_Crop_005_02.avi\n",
            "vidPath:  /content/gdrive/MyDrive/Project_folder/cnn-lstm/data/video_data/thief/thief_Crop_012_02.avi\n",
            "vidPath:  /content/gdrive/MyDrive/Project_folder/cnn-lstm/data/video_data/thief/thief_Crop_016_02.avi\n",
            "vidPath:  /content/gdrive/MyDrive/Project_folder/cnn-lstm/data/video_data/thief/thief_Crop_006_02.avi\n",
            "vidPath:  /content/gdrive/MyDrive/Project_folder/cnn-lstm/data/video_data/thief/thief_Crop_015_02.avi\n",
            "vidPath:  /content/gdrive/MyDrive/Project_folder/cnn-lstm/data/video_data/thief/thief_Crop_016_01.avi\n",
            "vidPath:  /content/gdrive/MyDrive/Project_folder/cnn-lstm/data/video_data/thief/thief_Crop_008_01.avi\n",
            "vidPath:  /content/gdrive/MyDrive/Project_folder/cnn-lstm/data/video_data/thief/thief_Crop_007_02.avi\n",
            "vidPath:  /content/gdrive/MyDrive/Project_folder/cnn-lstm/data/video_data/thief/thief_Crop_012_01.avi\n",
            "vidPath:  /content/gdrive/MyDrive/Project_folder/cnn-lstm/data/video_data/thief/thief_Crop_009_01.avi\n",
            "vidPath:  /content/gdrive/MyDrive/Project_folder/cnn-lstm/data/video_data/thief/thief_Crop_007_01.avi\n",
            "vidPath:  /content/gdrive/MyDrive/Project_folder/cnn-lstm/data/video_data/thief/thief_Crop_008_02.avi\n",
            "vidPath:  /content/gdrive/MyDrive/Project_folder/cnn-lstm/data/video_data/thief/thief_Crop_013_01.avi\n",
            "vidPath:  /content/gdrive/MyDrive/Project_folder/cnn-lstm/data/video_data/thief/thief_Crop_011_01.avi\n",
            "vidPath:  /content/gdrive/MyDrive/Project_folder/cnn-lstm/data/video_data/thief/thief_Crop_013_02.avi\n",
            "vidPath:  /content/gdrive/MyDrive/Project_folder/cnn-lstm/data/video_data/thief/thief_Crop_011_02.avi\n",
            "vidPath:  /content/gdrive/MyDrive/Project_folder/cnn-lstm/data/video_data/thief/thief_Crop_017_01.avi\n",
            "vidPath:  /content/gdrive/MyDrive/Project_folder/cnn-lstm/data/video_data/thief/thief_Crop_015_01.avi\n",
            "vidPath:  /content/gdrive/MyDrive/Project_folder/cnn-lstm/data/video_data/thief/thief_Crop_010_02.avi\n",
            "vidPath:  /content/gdrive/MyDrive/Project_folder/cnn-lstm/data/video_data/thief/thief_Crop_014_01.avi\n",
            "vidPath:  /content/gdrive/MyDrive/Project_folder/cnn-lstm/data/video_data/thief/thief_Crop_014_02.avi\n",
            "vidPath:  /content/gdrive/MyDrive/Project_folder/cnn-lstm/data/video_data/thief/thief_Crop_009_02.avi\n",
            "vidPath:  /content/gdrive/MyDrive/Project_folder/cnn-lstm/data/video_data/thief/thief_Crop_010_01.avi\n",
            "vidPath:  /content/gdrive/MyDrive/Project_folder/cnn-lstm/data/video_data/thief/thief_Crop_019_02.avi\n",
            "vidPath:  /content/gdrive/MyDrive/Project_folder/cnn-lstm/data/video_data/thief/thief_Crop_026_02.avi\n",
            "vidPath:  /content/gdrive/MyDrive/Project_folder/cnn-lstm/data/video_data/thief/thief_Crop_022_02.avi\n",
            "vidPath:  /content/gdrive/MyDrive/Project_folder/cnn-lstm/data/video_data/thief/thief_Crop_024_02.avi\n",
            "vidPath:  /content/gdrive/MyDrive/Project_folder/cnn-lstm/data/video_data/thief/thief_Crop_018_02.avi\n",
            "vidPath:  /content/gdrive/MyDrive/Project_folder/cnn-lstm/data/video_data/thief/thief_Crop_023_02.avi\n",
            "vidPath:  /content/gdrive/MyDrive/Project_folder/cnn-lstm/data/video_data/thief/thief_Crop_024_01.avi\n",
            "vidPath:  /content/gdrive/MyDrive/Project_folder/cnn-lstm/data/video_data/thief/thief_Crop_017_02.avi\n",
            "vidPath:  /content/gdrive/MyDrive/Project_folder/cnn-lstm/data/video_data/thief/thief_Crop_021_01.avi\n",
            "vidPath:  /content/gdrive/MyDrive/Project_folder/cnn-lstm/data/video_data/thief/thief_Crop_025_01.avi\n",
            "vidPath:  /content/gdrive/MyDrive/Project_folder/cnn-lstm/data/video_data/thief/thief_Crop_021_02.avi\n",
            "vidPath:  /content/gdrive/MyDrive/Project_folder/cnn-lstm/data/video_data/thief/thief_Crop_023_01.avi\n",
            "vidPath:  /content/gdrive/MyDrive/Project_folder/cnn-lstm/data/video_data/thief/thief_Crop_019_01.avi\n",
            "vidPath:  /content/gdrive/MyDrive/Project_folder/cnn-lstm/data/video_data/thief/thief_Crop_025_02.avi\n",
            "vidPath:  /content/gdrive/MyDrive/Project_folder/cnn-lstm/data/video_data/thief/thief_Crop_022_01.avi\n",
            "vidPath:  /content/gdrive/MyDrive/Project_folder/cnn-lstm/data/video_data/thief/thief_Crop_026_01.avi\n"
          ],
          "name": "stdout"
        },
        {
          "output_type": "stream",
          "text": [
            "WARNING:py.warnings:/usr/local/lib/python3.7/dist-packages/moviepy/video/io/ffmpeg_reader.py:130: UserWarning: Warning: in file /content/gdrive/MyDrive/Project_folder/cnn-lstm/data/video_data/thief/thief_Crop_026_01.avi, 900000 bytes wanted but 0 bytes read,at frame 90/91, at time 3.00/3.00 sec. Using the last valid frame instead.\n",
            "  UserWarning)\n",
            "\n"
          ],
          "name": "stderr"
        },
        {
          "output_type": "stream",
          "text": [
            "vidPath:  /content/gdrive/MyDrive/Project_folder/cnn-lstm/data/video_data/thief/thief_Crop_018_01.avi\n",
            "Category:  call\n",
            "vidPath:  /content/gdrive/MyDrive/Project_folder/cnn-lstm/data/video_data/call/call_Crop_001_01.avi\n",
            "vidPath:  /content/gdrive/MyDrive/Project_folder/cnn-lstm/data/video_data/call/call_Crop_001_02.avi\n",
            "vidPath:  /content/gdrive/MyDrive/Project_folder/cnn-lstm/data/video_data/call/call_Crop_002_01.avi\n",
            "vidPath:  /content/gdrive/MyDrive/Project_folder/cnn-lstm/data/video_data/call/call_Crop_002_02.avi\n",
            "vidPath:  /content/gdrive/MyDrive/Project_folder/cnn-lstm/data/video_data/call/call_Crop_003_01.avi\n",
            "vidPath:  /content/gdrive/MyDrive/Project_folder/cnn-lstm/data/video_data/call/call_Crop_003_02.avi\n",
            "vidPath:  /content/gdrive/MyDrive/Project_folder/cnn-lstm/data/video_data/call/call_Crop_004_01.avi\n",
            "vidPath:  /content/gdrive/MyDrive/Project_folder/cnn-lstm/data/video_data/call/call_Crop_004_02.avi\n",
            "vidPath:  /content/gdrive/MyDrive/Project_folder/cnn-lstm/data/video_data/call/call_Crop_005_01.avi\n",
            "vidPath:  /content/gdrive/MyDrive/Project_folder/cnn-lstm/data/video_data/call/call_Crop_005_02.avi\n",
            "vidPath:  /content/gdrive/MyDrive/Project_folder/cnn-lstm/data/video_data/call/call_Crop_006_01.avi\n",
            "vidPath:  /content/gdrive/MyDrive/Project_folder/cnn-lstm/data/video_data/call/call_Crop_006_02.avi\n",
            "vidPath:  /content/gdrive/MyDrive/Project_folder/cnn-lstm/data/video_data/call/call_Crop_007_01.avi\n",
            "vidPath:  /content/gdrive/MyDrive/Project_folder/cnn-lstm/data/video_data/call/call_Crop_007_02.avi\n",
            "vidPath:  /content/gdrive/MyDrive/Project_folder/cnn-lstm/data/video_data/call/call_Crop_008_01.avi\n",
            "vidPath:  /content/gdrive/MyDrive/Project_folder/cnn-lstm/data/video_data/call/call_Crop_008_02.avi\n",
            "vidPath:  /content/gdrive/MyDrive/Project_folder/cnn-lstm/data/video_data/call/call_Crop_009_01.avi\n",
            "vidPath:  /content/gdrive/MyDrive/Project_folder/cnn-lstm/data/video_data/call/call_Crop_009_02.avi\n",
            "vidPath:  /content/gdrive/MyDrive/Project_folder/cnn-lstm/data/video_data/call/call_Crop_010_01.avi\n",
            "vidPath:  /content/gdrive/MyDrive/Project_folder/cnn-lstm/data/video_data/call/call_Crop_010_02.avi\n",
            "vidPath:  /content/gdrive/MyDrive/Project_folder/cnn-lstm/data/video_data/call/call_Crop_011_01.avi\n",
            "vidPath:  /content/gdrive/MyDrive/Project_folder/cnn-lstm/data/video_data/call/call_Crop_011_02.avi\n",
            "vidPath:  /content/gdrive/MyDrive/Project_folder/cnn-lstm/data/video_data/call/call_Crop_012_01.avi\n",
            "vidPath:  /content/gdrive/MyDrive/Project_folder/cnn-lstm/data/video_data/call/call_Crop_012_02.avi\n",
            "vidPath:  /content/gdrive/MyDrive/Project_folder/cnn-lstm/data/video_data/call/call_Crop_013_01.avi\n",
            "vidPath:  /content/gdrive/MyDrive/Project_folder/cnn-lstm/data/video_data/call/call_Crop_013_02.avi\n",
            "vidPath:  /content/gdrive/MyDrive/Project_folder/cnn-lstm/data/video_data/call/call_Crop_014_01.avi\n",
            "vidPath:  /content/gdrive/MyDrive/Project_folder/cnn-lstm/data/video_data/call/call_Crop_014_02.avi\n",
            "vidPath:  /content/gdrive/MyDrive/Project_folder/cnn-lstm/data/video_data/call/call_Crop_015_01.avi\n",
            "vidPath:  /content/gdrive/MyDrive/Project_folder/cnn-lstm/data/video_data/call/call_Crop_015_02.avi\n",
            "vidPath:  /content/gdrive/MyDrive/Project_folder/cnn-lstm/data/video_data/call/call_Crop_016_01.avi\n",
            "vidPath:  /content/gdrive/MyDrive/Project_folder/cnn-lstm/data/video_data/call/call_Crop_016_02.avi\n",
            "vidPath:  /content/gdrive/MyDrive/Project_folder/cnn-lstm/data/video_data/call/call_Crop_017_01.avi\n",
            "vidPath:  /content/gdrive/MyDrive/Project_folder/cnn-lstm/data/video_data/call/call_Crop_017_02.avi\n",
            "vidPath:  /content/gdrive/MyDrive/Project_folder/cnn-lstm/data/video_data/call/call_Crop_018_01.avi\n",
            "vidPath:  /content/gdrive/MyDrive/Project_folder/cnn-lstm/data/video_data/call/call_Crop_018_02.avi\n",
            "vidPath:  /content/gdrive/MyDrive/Project_folder/cnn-lstm/data/video_data/call/call_Crop_019_01.avi\n",
            "vidPath:  /content/gdrive/MyDrive/Project_folder/cnn-lstm/data/video_data/call/call_Crop_019_02.avi\n",
            "vidPath:  /content/gdrive/MyDrive/Project_folder/cnn-lstm/data/video_data/call/call_Crop_020_01.avi\n",
            "vidPath:  /content/gdrive/MyDrive/Project_folder/cnn-lstm/data/video_data/call/call_Crop_020_02.avi\n",
            "vidPath:  /content/gdrive/MyDrive/Project_folder/cnn-lstm/data/video_data/call/call_Crop_021_01.avi\n",
            "vidPath:  /content/gdrive/MyDrive/Project_folder/cnn-lstm/data/video_data/call/call_Crop_021_02.avi\n",
            "vidPath:  /content/gdrive/MyDrive/Project_folder/cnn-lstm/data/video_data/call/call_Crop_022_01.avi\n",
            "vidPath:  /content/gdrive/MyDrive/Project_folder/cnn-lstm/data/video_data/call/call_Crop_022_02.avi\n",
            "vidPath:  /content/gdrive/MyDrive/Project_folder/cnn-lstm/data/video_data/call/call_Crop_023_01.avi\n",
            "vidPath:  /content/gdrive/MyDrive/Project_folder/cnn-lstm/data/video_data/call/call_Crop_023_02.avi\n",
            "vidPath:  /content/gdrive/MyDrive/Project_folder/cnn-lstm/data/video_data/call/call_Crop_024_01.avi\n",
            "vidPath:  /content/gdrive/MyDrive/Project_folder/cnn-lstm/data/video_data/call/call_Crop_024_02.avi\n",
            "vidPath:  /content/gdrive/MyDrive/Project_folder/cnn-lstm/data/video_data/call/call_Crop_025_01.avi\n",
            "vidPath:  /content/gdrive/MyDrive/Project_folder/cnn-lstm/data/video_data/call/call_Crop_025_02.avi\n"
          ],
          "name": "stdout"
        },
        {
          "output_type": "stream",
          "text": [
            "WARNING:py.warnings:/usr/local/lib/python3.7/dist-packages/moviepy/video/io/ffmpeg_reader.py:130: UserWarning: Warning: in file /content/gdrive/MyDrive/Project_folder/cnn-lstm/data/video_data/call/call_Crop_025_02.avi, 900000 bytes wanted but 0 bytes read,at frame 60/61, at time 2.00/2.00 sec. Using the last valid frame instead.\n",
            "  UserWarning)\n",
            "\n"
          ],
          "name": "stderr"
        },
        {
          "output_type": "stream",
          "text": [
            "vidPath:  /content/gdrive/MyDrive/Project_folder/cnn-lstm/data/video_data/call/call_Crop_026_01.avi\n",
            "vidPath:  /content/gdrive/MyDrive/Project_folder/cnn-lstm/data/video_data/call/call_Crop_026_02.avi\n",
            "Category:  accident\n",
            "vidPath:  /content/gdrive/MyDrive/Project_folder/cnn-lstm/data/video_data/accident/accident_Crop_001_01.avi\n",
            "vidPath:  /content/gdrive/MyDrive/Project_folder/cnn-lstm/data/video_data/accident/accident_Crop_001_02.avi\n",
            "vidPath:  /content/gdrive/MyDrive/Project_folder/cnn-lstm/data/video_data/accident/accident_Crop_002_01.avi\n",
            "vidPath:  /content/gdrive/MyDrive/Project_folder/cnn-lstm/data/video_data/accident/accident_Crop_002_02.avi\n"
          ],
          "name": "stdout"
        },
        {
          "output_type": "stream",
          "text": [
            "WARNING:py.warnings:/usr/local/lib/python3.7/dist-packages/moviepy/video/io/ffmpeg_reader.py:130: UserWarning: Warning: in file /content/gdrive/MyDrive/Project_folder/cnn-lstm/data/video_data/accident/accident_Crop_002_02.avi, 900000 bytes wanted but 0 bytes read,at frame 60/61, at time 2.00/2.00 sec. Using the last valid frame instead.\n",
            "  UserWarning)\n",
            "\n"
          ],
          "name": "stderr"
        },
        {
          "output_type": "stream",
          "text": [
            "vidPath:  /content/gdrive/MyDrive/Project_folder/cnn-lstm/data/video_data/accident/accident_Crop_003_01.avi\n",
            "vidPath:  /content/gdrive/MyDrive/Project_folder/cnn-lstm/data/video_data/accident/accident_Crop_003_02.avi\n",
            "vidPath:  /content/gdrive/MyDrive/Project_folder/cnn-lstm/data/video_data/accident/accident_Crop_004_01.avi\n"
          ],
          "name": "stdout"
        },
        {
          "output_type": "stream",
          "text": [
            "WARNING:py.warnings:/usr/local/lib/python3.7/dist-packages/moviepy/video/io/ffmpeg_reader.py:130: UserWarning: Warning: in file /content/gdrive/MyDrive/Project_folder/cnn-lstm/data/video_data/accident/accident_Crop_004_01.avi, 900000 bytes wanted but 0 bytes read,at frame 60/61, at time 2.00/2.00 sec. Using the last valid frame instead.\n",
            "  UserWarning)\n",
            "\n"
          ],
          "name": "stderr"
        },
        {
          "output_type": "stream",
          "text": [
            "vidPath:  /content/gdrive/MyDrive/Project_folder/cnn-lstm/data/video_data/accident/accident_Crop_004_02.avi\n",
            "vidPath:  /content/gdrive/MyDrive/Project_folder/cnn-lstm/data/video_data/accident/accident_Crop_005_01.avi\n",
            "vidPath:  /content/gdrive/MyDrive/Project_folder/cnn-lstm/data/video_data/accident/accident_Crop_005_02.avi\n",
            "vidPath:  /content/gdrive/MyDrive/Project_folder/cnn-lstm/data/video_data/accident/accident_Crop_006_01.avi\n",
            "vidPath:  /content/gdrive/MyDrive/Project_folder/cnn-lstm/data/video_data/accident/accident_Crop_006_02.avi\n",
            "vidPath:  /content/gdrive/MyDrive/Project_folder/cnn-lstm/data/video_data/accident/accident_Crop_007_01.avi\n",
            "vidPath:  /content/gdrive/MyDrive/Project_folder/cnn-lstm/data/video_data/accident/accident_Crop_007_02.avi\n",
            "vidPath:  /content/gdrive/MyDrive/Project_folder/cnn-lstm/data/video_data/accident/accident_Crop_008_01.avi\n",
            "vidPath:  /content/gdrive/MyDrive/Project_folder/cnn-lstm/data/video_data/accident/accident_Crop_008_02.avi\n",
            "vidPath:  /content/gdrive/MyDrive/Project_folder/cnn-lstm/data/video_data/accident/accident_Crop_009_01.avi\n",
            "vidPath:  /content/gdrive/MyDrive/Project_folder/cnn-lstm/data/video_data/accident/accident_Crop_009_02.avi\n",
            "vidPath:  /content/gdrive/MyDrive/Project_folder/cnn-lstm/data/video_data/accident/accident_Crop_010_01.avi\n",
            "vidPath:  /content/gdrive/MyDrive/Project_folder/cnn-lstm/data/video_data/accident/accident_Crop_010_02.avi\n",
            "vidPath:  /content/gdrive/MyDrive/Project_folder/cnn-lstm/data/video_data/accident/accident_Crop_011_01.avi\n",
            "vidPath:  /content/gdrive/MyDrive/Project_folder/cnn-lstm/data/video_data/accident/accident_Crop_011_02.avi\n",
            "vidPath:  /content/gdrive/MyDrive/Project_folder/cnn-lstm/data/video_data/accident/accident_Crop_012_01.avi\n",
            "vidPath:  /content/gdrive/MyDrive/Project_folder/cnn-lstm/data/video_data/accident/accident_Crop_012_02.avi\n",
            "vidPath:  /content/gdrive/MyDrive/Project_folder/cnn-lstm/data/video_data/accident/accident_Crop_013_01.avi\n",
            "vidPath:  /content/gdrive/MyDrive/Project_folder/cnn-lstm/data/video_data/accident/accident_Crop_013_02.avi\n",
            "vidPath:  /content/gdrive/MyDrive/Project_folder/cnn-lstm/data/video_data/accident/accident_Crop_014_01.avi\n",
            "vidPath:  /content/gdrive/MyDrive/Project_folder/cnn-lstm/data/video_data/accident/accident_Crop_014_02.avi\n",
            "vidPath:  /content/gdrive/MyDrive/Project_folder/cnn-lstm/data/video_data/accident/accident_Crop_015_01.avi\n",
            "vidPath:  /content/gdrive/MyDrive/Project_folder/cnn-lstm/data/video_data/accident/accident_Crop_015_02.avi\n",
            "vidPath:  /content/gdrive/MyDrive/Project_folder/cnn-lstm/data/video_data/accident/accident_Crop_016_01.avi\n",
            "vidPath:  /content/gdrive/MyDrive/Project_folder/cnn-lstm/data/video_data/accident/accident_Crop_016_02.avi\n",
            "vidPath:  /content/gdrive/MyDrive/Project_folder/cnn-lstm/data/video_data/accident/accident_Crop_017_01.avi\n",
            "vidPath:  /content/gdrive/MyDrive/Project_folder/cnn-lstm/data/video_data/accident/accident_Crop_017_02.avi\n",
            "vidPath:  /content/gdrive/MyDrive/Project_folder/cnn-lstm/data/video_data/accident/accident_Crop_018_01.avi\n",
            "vidPath:  /content/gdrive/MyDrive/Project_folder/cnn-lstm/data/video_data/accident/accident_Crop_018_02.avi\n",
            "vidPath:  /content/gdrive/MyDrive/Project_folder/cnn-lstm/data/video_data/accident/accident_Crop_019_01.avi\n",
            "vidPath:  /content/gdrive/MyDrive/Project_folder/cnn-lstm/data/video_data/accident/accident_Crop_019_02.avi\n",
            "vidPath:  /content/gdrive/MyDrive/Project_folder/cnn-lstm/data/video_data/accident/accident_Crop_020_01.avi\n",
            "vidPath:  /content/gdrive/MyDrive/Project_folder/cnn-lstm/data/video_data/accident/accident_Crop_020_02.avi\n",
            "vidPath:  /content/gdrive/MyDrive/Project_folder/cnn-lstm/data/video_data/accident/accident_Crop_021_01.avi\n",
            "vidPath:  /content/gdrive/MyDrive/Project_folder/cnn-lstm/data/video_data/accident/accident_Crop_021_02.avi\n",
            "vidPath:  /content/gdrive/MyDrive/Project_folder/cnn-lstm/data/video_data/accident/accident_Crop_022_01.avi\n",
            "vidPath:  /content/gdrive/MyDrive/Project_folder/cnn-lstm/data/video_data/accident/accident_Crop_022_02.avi\n",
            "vidPath:  /content/gdrive/MyDrive/Project_folder/cnn-lstm/data/video_data/accident/accident_Crop_023_01.avi\n",
            "vidPath:  /content/gdrive/MyDrive/Project_folder/cnn-lstm/data/video_data/accident/accident_Crop_023_02.avi\n",
            "vidPath:  /content/gdrive/MyDrive/Project_folder/cnn-lstm/data/video_data/accident/accident_Crop_024_01.avi\n",
            "vidPath:  /content/gdrive/MyDrive/Project_folder/cnn-lstm/data/video_data/accident/accident_Crop_024_02.avi\n"
          ],
          "name": "stdout"
        },
        {
          "output_type": "stream",
          "text": [
            "WARNING:py.warnings:/usr/local/lib/python3.7/dist-packages/moviepy/video/io/ffmpeg_reader.py:130: UserWarning: Warning: in file /content/gdrive/MyDrive/Project_folder/cnn-lstm/data/video_data/accident/accident_Crop_024_02.avi, 900000 bytes wanted but 0 bytes read,at frame 60/61, at time 2.00/2.00 sec. Using the last valid frame instead.\n",
            "  UserWarning)\n",
            "\n"
          ],
          "name": "stderr"
        },
        {
          "output_type": "stream",
          "text": [
            "vidPath:  /content/gdrive/MyDrive/Project_folder/cnn-lstm/data/video_data/accident/accident_Crop_025_01.avi\n",
            "vidPath:  /content/gdrive/MyDrive/Project_folder/cnn-lstm/data/video_data/accident/accident_Crop_025_02.avi\n",
            "vidPath:  /content/gdrive/MyDrive/Project_folder/cnn-lstm/data/video_data/accident/accident_Crop_026_01.avi\n",
            "vidPath:  /content/gdrive/MyDrive/Project_folder/cnn-lstm/data/video_data/accident/accident_Crop_026_02.avi\n",
            "8\n",
            "52\n",
            "(8040, 200, 200, 3)\n",
            "[3, 3, 3, 3, 3, 3, 3, 3, 3, 3, 3, 3, 3, 3, 3, 3, 3, 3, 3, 3, 3, 3, 3, 3, 3, 3, 3, 3, 3, 3, 3, 3, 3, 3, 3, 3, 3, 3, 3, 3, 3, 3, 3, 3, 3, 3, 3, 3, 3, 3, 3, 3, 3, 3, 3, 3, 3, 3, 3, 3, 3, 3, 3, 3, 3, 3, 3, 3, 3, 3, 3, 3, 3, 3, 3, 3, 3, 3, 3, 3, 3, 3, 3, 3, 3, 3, 3, 3, 3, 3, 3, 3, 3, 3, 3, 3, 3, 3, 3, 3, 3, 3, 3, 3, 3, 3, 3, 3, 3, 3, 3, 3, 3, 3, 3, 3, 3, 3, 3, 3, 3, 3, 3, 3, 3, 3, 3, 3, 3, 3, 3, 3, 3, 3, 3, 3, 3, 3, 3, 3, 3, 3, 3, 3, 3, 3, 3, 3, 3, 3, 3, 3, 3, 3, 3, 3, 3, 3, 3, 3, 3, 3, 3, 3, 3, 3, 3, 3, 3, 3, 3, 3, 3, 3, 3, 3, 3, 3, 3, 3, 3, 3, 3, 3, 3, 3, 3, 3, 3, 3, 3, 3, 3, 3, 3, 3, 3, 3, 3, 3, 3, 3, 3, 3, 3, 3, 3, 3, 3, 3, 3, 3, 3, 3, 3, 3, 3, 3, 3, 3, 3, 3, 3, 3, 3, 3, 3, 3, 3, 3, 3, 3, 3, 3, 3, 3, 3, 3, 3, 3, 3, 3, 3, 3, 3, 3, 3, 3, 3, 3, 3, 3, 3, 3, 3, 3, 3, 3, 3, 3, 3, 3, 3, 3, 3, 3, 3, 3, 3, 3, 3, 3, 3, 3, 3, 3, 3, 3, 3, 3, 3, 3, 3, 3, 3, 3, 3, 3, 3, 3, 3, 3, 3, 3, 3, 3, 3, 3, 3, 3, 3, 3, 3, 3, 3, 3, 3, 3, 3, 3, 3, 3, 3, 3, 3, 3, 3, 3, 3, 3, 3, 3, 3, 3, 3, 3, 3, 3, 3, 3, 3, 3, 3, 3, 3, 3, 3, 3, 3, 3, 3, 3, 3, 3, 3, 3, 3, 3, 3, 3, 3, 3, 3, 3, 3, 3, 3, 3, 3, 3, 3, 3, 3, 3, 3, 3, 3, 3, 3, 3, 3, 3, 3, 3, 3, 3, 3, 3, 3, 3, 3, 3, 3, 3, 3, 3, 3, 3, 3, 3, 3, 3, 3, 3, 3, 3, 3, 3, 3, 3, 3, 3, 3, 3, 3, 3, 3, 3, 3, 3, 3, 3, 3, 3, 3, 3, 3, 3, 3, 3, 3, 3, 3, 3, 3, 3, 3, 3, 3, 3, 3, 3, 3, 3, 3, 3, 3, 3, 3, 3, 3, 3, 3, 3, 3, 3, 3, 3, 3, 3, 3, 3, 3, 3, 3, 3, 3, 3, 3, 3, 3, 3, 3, 3, 3, 3, 3, 3, 3, 3, 3, 3, 3, 3, 3, 3, 3, 3, 3, 3, 3, 3, 3, 3, 3, 3, 3, 3, 3, 3, 3, 3, 3, 3, 3, 3, 3, 3, 3, 3, 3, 3, 3, 3, 3, 3, 3, 3, 3, 3, 3, 3, 3, 3, 3, 3, 3, 3, 3, 3, 3, 3, 3, 3, 3, 3, 3, 3, 3, 3, 3, 3, 3, 3, 3, 3, 3, 3, 3, 3, 3, 3, 3, 3, 3, 3, 3, 3, 3, 3, 3, 3, 3, 3, 3, 3, 3, 3, 3, 3, 3, 3, 3, 3, 3, 3, 3, 3, 3, 3, 3, 3, 3, 3, 3, 3, 3, 3, 3, 3, 3, 3, 3, 3, 3, 3, 3, 3, 3, 3, 3, 3, 3, 3, 3, 3, 3, 3, 3, 3, 3, 3, 3, 3, 3, 3, 3, 3, 3, 3, 3, 3, 3, 3, 3, 3, 3, 3, 3, 3, 3, 3, 3, 3, 3, 3, 3, 3, 3, 3, 3, 3, 3, 3, 3, 3, 3, 3, 3, 3, 3, 3, 3, 3, 3, 3, 3, 3, 3, 3, 3, 3, 3, 3, 3, 3, 3, 3, 3, 3, 3, 3, 3, 3, 3, 3, 3, 3, 3, 3, 3, 3, 3, 3, 3, 3, 3, 3, 3, 3, 3, 3, 3, 3, 3, 3, 3, 3, 3, 3, 3, 3, 3, 3, 3, 3, 3, 3, 3, 3, 3, 3, 3, 3, 3, 3, 3, 3, 3, 3, 3, 3, 3, 3, 3, 3, 3, 3, 3, 3, 3, 3, 3, 3, 3, 3, 3, 3, 3, 3, 3, 3, 3, 3, 3, 3, 3, 3, 3, 3, 3, 3, 3, 3, 3, 3, 3, 3, 3, 3, 3, 3, 3, 3, 3, 3, 3, 3, 3, 3, 3, 3, 3, 3, 3, 3, 3, 3, 3, 3, 3, 3, 3, 3, 3, 3, 3, 3, 3, 3, 3, 3, 3, 3, 3, 3, 3, 3, 3, 3, 3, 3, 3, 3, 3, 3, 3, 3, 3, 3, 3, 3, 3, 3, 3, 3, 3, 3, 3, 3, 3, 3, 3, 3, 3, 3, 3, 3, 3, 3, 3, 3, 3, 3, 3, 3, 3, 3, 3, 3, 3, 3, 3, 3, 3, 3, 3, 3, 3, 3, 3, 3, 3, 3, 3, 3, 3, 3, 3, 3, 3, 3, 3, 3, 3, 3, 3, 3, 3, 3, 3, 3, 3, 3, 3, 3, 3, 3, 3, 3, 3, 3, 3, 3, 3, 3, 3, 3, 3, 3, 3, 3, 3, 3, 3, 3, 3, 3, 3, 3, 3, 3, 3, 3, 3, 3, 3, 3, 3, 3, 3, 3, 3, 3, 3, 3, 3, 3, 3, 3, 3, 3, 3, 3, 3, 3, 3, 3, 3, 3, 3, 3, 3, 3, 3, 3, 3, 3, 3, 3, 3, 3, 3, 3, 3, 3, 3, 3, 3, 3, 3, 3, 3, 3, 3, 3, 3, 3, 3, 3, 3, 3, 3, 3, 3, 3, 3, 3, 3, 3, 3, 3, 3, 3, 3, 3, 3, 3, 3, 3, 3, 3, 3, 3, 3, 3, 3, 3, 3, 3, 3, 3, 3, 3, 3, 3, 3, 3, 3, 3, 3, 3, 3, 3, 3, 3, 3, 3, 3, 3, 3, 3, 3, 3, 3, 3, 3, 3, 3, 3, 3, 3, 3, 3, 3, 3, 3, 3, 3, 3, 3, 3, 3, 3, 3, 3, 3, 3, 3, 3, 3, 3, 3, 3, 3, 3, 3, 3, 3, 3, 4, 4, 4, 4, 4, 4, 4, 4, 4, 4, 4, 4, 4, 4, 4, 4, 4, 4, 4, 4, 4, 4, 4, 4, 4, 4, 4, 4, 4, 4, 4, 4, 4, 4, 4, 4, 4, 4, 4, 4, 4, 4, 4, 4, 4, 4, 4, 4, 4, 4, 4, 4, 4, 4, 4, 4, 4, 4, 4, 4, 4, 4, 4, 4, 4, 4, 4, 4, 4, 4, 4, 4, 4, 4, 4, 4, 4, 4, 4, 4, 4, 4, 4, 4, 4, 4, 4, 4, 4, 4, 4, 4, 4, 4, 4, 4, 4, 4, 4, 4, 4, 4, 4, 4, 4, 4, 4, 4, 4, 4, 4, 4, 4, 4, 4, 4, 4, 4, 4, 4, 4, 4, 4, 4, 4, 4, 4, 4, 4, 4, 4, 4, 4, 4, 4, 4, 4, 4, 4, 4, 4, 4, 4, 4, 4, 4, 4, 4, 4, 4, 4, 4, 4, 4, 4, 4, 4, 4, 4, 4, 4, 4, 4, 4, 4, 4, 4, 4, 4, 4, 4, 4, 4, 4, 4, 4, 4, 4, 4, 4, 4, 4, 4, 4, 4, 4, 4, 4, 4, 4, 4, 4, 4, 4, 4, 4, 4, 4, 4, 4, 4, 4, 4, 4, 4, 4, 4, 4, 4, 4, 4, 4, 4, 4, 4, 4, 4, 4, 4, 4, 4, 4, 4, 4, 4, 4, 4, 4, 4, 4, 4, 4, 4, 4, 4, 4, 4, 4, 4, 4, 4, 4, 4, 4, 4, 4, 4, 4, 4, 4, 4, 4, 4, 4, 4, 4, 4, 4, 4, 4, 4, 4, 4, 4, 4, 4, 4, 4, 4, 4, 4, 4, 4, 4, 4, 4, 4, 4, 4, 4, 4, 4, 4, 4, 4, 4, 4, 4, 4, 4, 4, 4, 4, 4, 4, 4, 4, 4, 4, 4, 4, 4, 4, 4, 4, 4, 4, 4, 4, 4, 4, 4, 4, 4, 4, 4, 4, 4, 4, 4, 4, 4, 4, 4, 4, 4, 4, 4, 4, 4, 4, 4, 4, 4, 4, 4, 4, 4, 4, 4, 4, 4, 4, 4, 4, 4, 4, 4, 4, 4, 4, 4, 4, 4, 4, 4, 4, 4, 4, 4, 4, 4, 4, 4, 4, 4, 4, 4, 4, 4, 4, 4, 4, 4, 4, 4, 4, 4, 4, 4, 4, 4, 4, 4, 4, 4, 4, 4, 4, 4, 4, 4, 4, 4, 4, 4, 4, 4, 4, 4, 4, 4, 4, 4, 4, 4, 4, 4, 4, 4, 4, 4, 4, 4, 4, 4, 4, 4, 4, 4, 4, 4, 4, 4, 4, 4, 4, 4, 4, 4, 4, 4, 4, 4, 4, 4, 4, 4, 4, 4, 4, 4, 4, 4, 4, 4, 4, 4, 4, 4, 4, 4, 4, 4, 4, 4, 4, 4, 4, 4, 4, 4, 4, 4, 4, 4, 4, 4, 4, 4, 4, 4, 4, 4, 4, 4, 4, 4, 4, 4, 4, 4, 4, 4, 4, 4, 4, 4, 4, 4, 4, 4, 4, 4, 4, 4, 4, 4, 4, 4, 4, 4, 4, 4, 4, 4, 4, 4, 4, 4, 4, 4, 4, 4, 4, 4, 4, 4, 4, 4, 4, 4, 4, 4, 4, 4, 4, 4, 4, 4, 4, 4, 4, 4, 4, 4, 4, 4, 4, 4, 4, 4, 4, 4, 4, 4, 4, 4, 4, 4, 4, 4, 4, 4, 4, 4, 4, 4, 4, 4, 4, 4, 4, 4, 4, 4, 4, 4, 4, 4, 4, 4, 4, 4, 4, 4, 4, 4, 4, 4, 4, 4, 4, 4, 4, 4, 4, 4, 4, 4, 4, 4, 4, 4, 4, 4, 4, 4, 4, 4, 4, 4, 4, 4, 4, 4, 4, 4, 4, 4, 4, 4, 4, 4, 4, 4, 4, 4, 4, 4, 4, 4, 4, 4, 4, 4, 4, 4, 4, 4, 4, 4, 4, 4, 4, 4, 4, 4, 4, 4, 4, 4, 4, 4, 4, 4, 4, 4, 4, 4, 4, 4, 4, 4, 4, 4, 4, 4, 4, 4, 4, 4, 4, 4, 4, 4, 4, 4, 4, 4, 4, 4, 4, 4, 4, 4, 4, 4, 4, 4, 4, 4, 4, 4, 4, 4, 4, 4, 4, 4, 4, 4, 4, 4, 4, 4, 4, 4, 4, 4, 4, 4, 4, 4, 4, 4, 4, 4, 4, 4, 4, 4, 4, 4, 4, 4, 4, 4, 4, 4, 4, 4, 4, 4, 4, 4, 4, 4, 4, 4, 4, 4, 4, 4, 4, 4, 4, 4, 4, 4, 4, 4, 4, 4, 4, 4, 4, 4, 4, 4, 4, 4, 4, 4, 4, 4, 4, 4, 4, 4, 4, 4, 4, 4, 4, 4, 4, 4, 4, 4, 4, 4, 4, 4, 4, 4, 4, 4, 4, 4, 4, 4, 4, 4, 4, 4, 4, 4, 4, 4, 4, 4, 4, 4, 4, 4, 4, 4, 4, 4, 4, 4, 4, 4, 4, 4, 4, 4, 4, 4, 4, 4, 4, 4, 4, 4, 4, 4, 4, 4, 4, 4, 4, 4, 4, 4, 4, 4, 4, 4, 4, 4, 4, 4, 4, 4, 4, 4, 4, 4, 4, 4, 4, 4, 4, 4, 4, 4, 4, 4, 4, 4, 4, 4, 4, 4, 4, 4, 4, 4, 4, 4, 4, 4, 4, 4, 4, 4, 4, 4, 4, 4, 4, 4, 4, 4, 4, 4, 4, 4, 4, 4, 4, 4, 4, 4, 4, 4, 4, 4, 4, 4, 4, 4, 4, 4, 4, 4, 4, 4, 4, 4, 4, 4, 4, 4, 4, 4, 4, 4, 4, 4, 4, 4, 4, 4, 4, 4, 4, 4, 4, 4, 4, 4, 4, 4, 4, 4, 4, 4, 4, 4, 4, 4, 4, 4, 4, 4, 4, 4, 4, 4, 4, 4, 4, 4, 4, 4, 4, 4, 4, 4, 4, 4, 4, 4, 4, 4, 4, 4, 4, 4, 4, 4, 4, 4, 4, 4, 4, 4, 4, 4, 4, 4, 4, 4, 4, 4, 4, 4, 4, 4, 4, 4, 4, 4, 4, 4, 4, 4, 4, 4, 4, 4, 4, 4, 4, 4, 4, 4, 4, 4, 4, 4, 4, 4, 4, 4, 4, 4, 4, 4, 4, 4, 4, 4, 4, 4, 4, 4, 4, 4, 4, 4, 4, 4, 4, 4, 4, 4, 4, 4, 4, 4, 4, 4, 4, 4, 4, 4, 2, 2, 2, 2, 2, 2, 2, 2, 2, 2, 2, 2, 2, 2, 2, 2, 2, 2, 2, 2, 2, 2, 2, 2, 2, 2, 2, 2, 2, 2, 2, 2, 2, 2, 2, 2, 2, 2, 2, 2, 2, 2, 2, 2, 2, 2, 2, 2, 2, 2, 2, 2, 2, 2, 2, 2, 2, 2, 2, 2, 2, 2, 2, 2, 2, 2, 2, 2, 2, 2, 2, 2, 2, 2, 2, 2, 2, 2, 2, 2, 2, 2, 2, 2, 2, 2, 2, 2, 2, 2, 2, 2, 2, 2, 2, 2, 2, 2, 2, 2, 2, 2, 2, 2, 2, 2, 2, 2, 2, 2, 2, 2, 2, 2, 2, 2, 2, 2, 2, 2, 2, 2, 2, 2, 2, 2, 2, 2, 2, 2, 2, 2, 2, 2, 2, 2, 2, 2, 2, 2, 2, 2, 2, 2, 2, 2, 2, 2, 2, 2, 2, 2, 2, 2, 2, 2, 2, 2, 2, 2, 2, 2, 2, 2, 2, 2, 2, 2, 2, 2, 2, 2, 2, 2, 2, 2, 2, 2, 2, 2, 2, 2, 2, 2, 2, 2, 2, 2, 2, 2, 2, 2, 2, 2, 2, 2, 2, 2, 2, 2, 2, 2, 2, 2, 2, 2, 2, 2, 2, 2, 2, 2, 2, 2, 2, 2, 2, 2, 2, 2, 2, 2, 2, 2, 2, 2, 2, 2, 2, 2, 2, 2, 2, 2, 2, 2, 2, 2, 2, 2, 2, 2, 2, 2, 2, 2, 2, 2, 2, 2, 2, 2, 2, 2, 2, 2, 2, 2, 2, 2, 2, 2, 2, 2, 2, 2, 2, 2, 2, 2, 2, 2, 2, 2, 2, 2, 2, 2, 2, 2, 2, 2, 2, 2, 2, 2, 2, 2, 2, 2, 2, 2, 2, 2, 2, 2, 2, 2, 2, 2, 2, 2, 2, 2, 2, 2, 2, 2, 2, 2, 2, 2, 2, 2, 2, 2, 2, 2, 2, 2, 2, 2, 2, 2, 2, 2, 2, 2, 2, 2, 2, 2, 2, 2, 2, 2, 2, 2, 2, 2, 2, 2, 2, 2, 2, 2, 2, 2, 2, 2, 2, 2, 2, 2, 2, 2, 2, 2, 2, 2, 2, 2, 2, 2, 2, 2, 2, 2, 2, 2, 2, 2, 2, 2, 2, 2, 2, 2, 2, 2, 2, 2, 2, 2, 2, 2, 2, 2, 2, 2, 2, 2, 2, 2, 2, 2, 2, 2, 2, 2, 2, 2, 2, 2, 2, 2, 2, 2, 2, 2, 2, 2, 2, 2, 2, 2, 2, 2, 2, 2, 2, 2, 2, 2, 2, 2, 2, 2, 2, 2, 2, 2, 2, 2, 2, 2, 2, 2, 2, 2, 2, 2, 2, 2, 2, 2, 2, 2, 2, 2, 2, 2, 2, 2, 2, 2, 2, 2, 2, 2, 2, 2, 2, 2, 2, 2, 2, 2, 2, 2, 2, 2, 2, 2, 2, 2, 2, 2, 2, 2, 2, 2, 2, 2, 2, 2, 2, 2, 2, 2, 2, 2, 2, 2, 2, 2, 2, 2, 2, 2, 2, 2, 2, 2, 2, 2, 2, 2, 2, 2, 2, 2, 2, 2, 2, 2, 2, 2, 2, 2, 2, 2, 2, 2, 2, 2, 2, 2, 2, 2, 2, 2, 2, 2, 2, 2, 2, 2, 2, 2, 2, 2, 2, 2, 2, 2, 2, 2, 2, 2, 2, 2, 2, 2, 2, 2, 2, 2, 2, 2, 2, 2, 2, 2, 2, 2, 2, 2, 2, 2, 2, 2, 2, 2, 2, 2, 2, 2, 2, 2, 2, 2, 2, 2, 2, 2, 2, 2, 2, 2, 2, 2, 2, 2, 2, 2, 2, 2, 2, 2, 2, 2, 2, 2, 2, 2, 2, 2, 2, 2, 2, 2, 2, 2, 2, 2, 2, 2, 2, 2, 2, 2, 2, 2, 2, 2, 2, 2, 2, 2, 2, 2, 2, 2, 2, 2, 2, 2, 2, 2, 2, 2, 2, 2, 2, 2, 2, 2, 2, 2, 2, 2, 2, 2, 2, 2, 2, 2, 2, 2, 2, 2, 2, 2, 2, 2, 2, 2, 2, 2, 2, 2, 2, 2, 2, 2, 2, 2, 2, 2, 2, 2, 2, 2, 2, 2, 2, 2, 2, 2, 2, 2, 2, 2, 2, 2, 2, 2, 2, 2, 2, 2, 2, 2, 2, 2, 2, 2, 2, 2, 2, 2, 2, 2, 2, 2, 2, 2, 2, 2, 2, 2, 2, 2, 2, 2, 2, 2, 2, 2, 2, 2, 2, 2, 2, 2, 2, 2, 2, 2, 2, 2, 2, 2, 2, 2, 2, 2, 2, 2, 2, 2, 2, 2, 2, 2, 2, 2, 2, 2, 2, 2, 2, 2, 2, 2, 2, 2, 2, 2, 2, 2, 2, 2, 2, 2, 2, 2, 2, 2, 2, 2, 2, 2, 2, 2, 2, 2, 2, 2, 2, 2, 2, 2, 2, 2, 2, 2, 2, 2, 2, 2, 2, 2, 2, 2, 2, 2, 2, 2, 2, 2, 2, 2, 2, 2, 2, 2, 2, 2, 2, 2, 2, 2, 2, 2, 2, 2, 2, 2, 2, 2, 2, 2, 2, 2, 2, 2, 2, 2, 2, 2, 2, 2, 2, 2, 2, 2, 2, 2, 2, 2, 2, 2, 2, 2, 2, 2, 2, 2, 2, 2, 2, 2, 2, 2, 2, 2, 2, 2, 2, 2, 2, 2, 2, 2, 2, 2, 2, 2, 2, 2, 2, 2, 2, 2, 2, 2, 2, 2, 2, 2, 2, 2, 2, 2, 2, 2, 2, 2, 2, 2, 2, 2, 2, 2, 2, 2, 2, 2, 2, 2, 2, 2, 2, 2, 2, 2, 2, 2, 2, 2, 2, 2, 2, 2, 2, 2, 2, 2, 2, 2, 2, 2, 2, 2, 2, 2, 2, 2, 2, 2, 2, 2, 2, 2, 2, 2, 2, 2, 2, 2, 2, 2, 2, 2, 2, 2, 2, 2, 2, 2, 2, 2, 2, 2, 2, 2, 2, 2, 2, 2, 2, 2, 2, 2, 2, 2, 2, 2, 2, 2, 2, 2, 2, 2, 2, 2, 2, 2, 2, 2, 2, 2, 2, 2, 2, 2, 2, 2, 2, 2, 2, 2, 2, 2, 2, 2, 2, 2, 2, 2, 2, 2, 2, 2, 2, 2, 2, 2, 2, 2, 2, 2, 2, 2, 2, 2, 2, 2, 2, 2, 2, 2, 2, 2, 2, 2, 2, 2, 5, 5, 5, 5, 5, 5, 5, 5, 5, 5, 5, 5, 5, 5, 5, 5, 5, 5, 5, 5, 5, 5, 5, 5, 5, 5, 5, 5, 5, 5, 5, 5, 5, 5, 5, 5, 5, 5, 5, 5, 5, 5, 5, 5, 5, 5, 5, 5, 5, 5, 5, 5, 5, 5, 5, 5, 5, 5, 5, 5, 5, 5, 5, 5, 5, 5, 5, 5, 5, 5, 5, 5, 5, 5, 5, 5, 5, 5, 5, 5, 5, 5, 5, 5, 5, 5, 5, 5, 5, 5, 5, 5, 5, 5, 5, 5, 5, 5, 5, 5, 5, 5, 5, 5, 5, 5, 5, 5, 5, 5, 5, 5, 5, 5, 5, 5, 5, 5, 5, 5, 5, 5, 5, 5, 5, 5, 5, 5, 5, 5, 5, 5, 5, 5, 5, 5, 5, 5, 5, 5, 5, 5, 5, 5, 5, 5, 5, 5, 5, 5, 5, 5, 5, 5, 5, 5, 5, 5, 5, 5, 5, 5, 5, 5, 5, 5, 5, 5, 5, 5, 5, 5, 5, 5, 5, 5, 5, 5, 5, 5, 5, 5, 5, 5, 5, 5, 5, 5, 5, 5, 5, 5, 5, 5, 5, 5, 5, 5, 5, 5, 5, 5, 5, 5, 5, 5, 5, 5, 5, 5, 5, 5, 5, 5, 5, 5, 5, 5, 5, 5, 5, 5, 5, 5, 5, 5, 5, 5, 5, 5, 5, 5, 5, 5, 5, 5, 5, 5, 5, 5, 5, 5, 5, 5, 5, 5, 5, 5, 5, 5, 5, 5, 5, 5, 5, 5, 5, 5, 5, 5, 5, 5, 5, 5, 5, 5, 5, 5, 5, 5, 5, 5, 5, 5, 5, 5, 5, 5, 5, 5, 5, 5, 5, 5, 5, 5, 5, 5, 5, 5, 5, 5, 5, 5, 5, 5, 5, 5, 5, 5, 5, 5, 5, 5, 5, 5, 5, 5, 5, 5, 5, 5, 5, 5, 5, 5, 5, 5, 5, 5, 5, 5, 5, 5, 5, 5, 5, 5, 5, 5, 5, 5, 5, 5, 5, 5, 5, 5, 5, 5, 5, 5, 5, 5, 5, 5, 5, 5, 5, 5, 5, 5, 5, 5, 5, 5, 5, 5, 5, 5, 5, 5, 5, 5, 5, 5, 5, 5, 5, 5, 5, 5, 5, 5, 5, 5, 5, 5, 5, 5, 5, 5, 5, 5, 5, 5, 5, 5, 5, 5, 5, 5, 5, 5, 5, 5, 5, 5, 5, 5, 5, 5, 5, 5, 5, 5, 5, 5, 5, 5, 5, 5, 5, 5, 5, 5, 5, 5, 5, 5, 5, 5, 5, 5, 5, 5, 5, 5, 5, 5, 5, 5, 5, 5, 5, 5, 5, 5, 5, 5, 5, 5, 5, 5, 5, 5, 5, 5, 5, 5, 5, 5, 5, 5, 5, 5, 5, 5, 5, 5, 5, 5, 5, 5, 5, 5, 5, 5, 5, 5, 5, 5, 5, 5, 5, 5, 5, 5, 5, 5, 5, 5, 5, 5, 5, 5, 5, 5, 5, 5, 5, 5, 5, 5, 5, 5, 5, 5, 5, 5, 5, 5, 5, 5, 5, 5, 5, 5, 5, 5, 5, 5, 5, 5, 5, 5, 5, 5, 5, 5, 5, 5, 5, 5, 5, 5, 5, 5, 5, 5, 5, 5, 5, 5, 5, 5, 5, 5, 5, 5, 5, 5, 5, 5, 5, 5, 5, 5, 5, 5, 5, 5, 5, 5, 5, 5, 5, 5, 5, 5, 5, 5, 5, 5, 5, 5, 5, 5, 5, 5, 5, 5, 5, 5, 5, 5, 5, 5, 5, 5, 5, 5, 5, 5, 5, 5, 5, 5, 5, 5, 5, 5, 5, 5, 5, 5, 5, 5, 5, 5, 5, 5, 5, 5, 5, 5, 5, 5, 5, 5, 5, 5, 5, 5, 5, 5, 5, 5, 5, 5, 5, 5, 5, 5, 5, 5, 5, 5, 5, 5, 5, 5, 5, 5, 5, 5, 5, 5, 5, 5, 5, 5, 5, 5, 5, 5, 5, 5, 5, 5, 5, 5, 5, 5, 5, 5, 5, 5, 5, 5, 5, 5, 5, 5, 5, 5, 5, 5, 5, 5, 5, 5, 5, 5, 5, 5, 5, 5, 5, 5, 5, 5, 5, 5, 5, 5, 5, 5, 5, 5, 5, 5, 5, 5, 5, 5, 5, 5, 5, 5, 5, 5, 5, 5, 5, 5, 5, 5, 5, 5, 5, 5, 5, 5, 5, 5, 5, 5, 5, 5, 5, 5, 5, 5, 5, 5, 5, 5, 5, 5, 5, 5, 5, 5, 5, 5, 5, 5, 5, 5, 5, 5, 5, 5, 5, 5, 5, 5, 5, 5, 5, 5, 5, 5, 5, 5, 5, 5, 5, 5, 5, 5, 5, 5, 5, 5, 5, 5, 5, 5, 5, 5, 5, 5, 5, 5, 5, 5, 5, 5, 5, 5, 5, 5, 5, 5, 5, 5, 5, 5, 5, 5, 5, 5, 5, 5, 5, 5, 5, 5, 6, 6, 6, 6, 6, 6, 6, 6, 6, 6, 6, 6, 6, 6, 6, 6, 6, 6, 6, 6, 6, 6, 6, 6, 6, 6, 6, 6, 6, 6, 6, 6, 6, 6, 6, 6, 6, 6, 6, 6, 6, 6, 6, 6, 6, 6, 6, 6, 6, 6, 6, 6, 6, 6, 6, 6, 6, 6, 6, 6, 6, 6, 6, 6, 6, 6, 6, 6, 6, 6, 6, 6, 6, 6, 6, 6, 6, 6, 6, 6, 6, 6, 6, 6, 6, 6, 6, 6, 6, 6, 6, 6, 6, 6, 6, 6, 6, 6, 6, 6, 6, 6, 6, 6, 6, 6, 6, 6, 6, 6, 6, 6, 6, 6, 6, 6, 6, 6, 6, 6, 6, 6, 6, 6, 6, 6, 6, 6, 6, 6, 6, 6, 6, 6, 6, 6, 6, 6, 6, 6, 6, 6, 6, 6, 6, 6, 6, 6, 6, 6, 6, 6, 6, 6, 6, 6, 6, 6, 6, 6, 6, 6, 6, 6, 6, 6, 6, 6, 6, 6, 6, 6, 6, 6, 6, 6, 6, 6, 6, 6, 6, 6, 6, 6, 6, 6, 6, 6, 6, 6, 6, 6, 6, 6, 6, 6, 6, 6, 6, 6, 6, 6, 6, 6, 6, 6, 6, 6, 6, 6, 6, 6, 6, 6, 6, 6, 6, 6, 6, 6, 6, 6, 6, 6, 6, 6, 6, 6, 6, 6, 6, 6, 6, 6, 6, 6, 6, 6, 6, 6, 6, 6, 6, 6, 6, 6, 6, 6, 6, 6, 6, 6, 6, 6, 6, 6, 6, 6, 6, 6, 6, 6, 6, 6, 6, 6, 6, 6, 6, 6, 6, 6, 6, 6, 6, 6, 6, 6, 6, 6, 6, 6, 6, 6, 6, 6, 6, 6, 6, 6, 6, 6, 6, 6, 6, 6, 6, 6, 6, 6, 6, 6, 6, 6, 6, 6, 6, 6, 6, 6, 6, 6, 6, 6, 6, 6, 6, 6, 6, 6, 6, 6, 6, 6, 6, 6, 6, 6, 6, 6, 6, 6, 6, 6, 6, 6, 6, 6, 6, 6, 6, 6, 6, 6, 6, 6, 6, 6, 6, 6, 6, 6, 6, 6, 6, 6, 6, 6, 6, 6, 6, 6, 6, 6, 6, 6, 6, 6, 6, 6, 6, 6, 6, 6, 6, 6, 6, 6, 6, 6, 6, 6, 6, 6, 6, 6, 6, 6, 6, 6, 6, 6, 6, 6, 6, 6, 6, 6, 6, 6, 6, 6, 6, 6, 6, 6, 6, 6, 6, 6, 6, 6, 6, 6, 6, 6, 6, 6, 6, 6, 6, 6, 6, 6, 6, 6, 6, 6, 6, 6, 6, 6, 6, 6, 6, 6, 6, 6, 6, 6, 6, 6, 6, 6, 6, 6, 6, 6, 6, 6, 6, 6, 6, 6, 6, 6, 6, 6, 6, 6, 6, 6, 6, 6, 6, 6, 6, 6, 6, 6, 6, 6, 6, 6, 6, 6, 6, 6, 6, 6, 6, 6, 6, 6, 6, 6, 6, 6, 6, 6, 6, 6, 6, 6, 6, 6, 6, 6, 6, 6, 6, 6, 6, 6, 6, 6, 6, 6, 6, 6, 6, 6, 6, 6, 6, 6, 6, 6, 6, 6, 6, 6, 6, 6, 6, 6, 6, 6, 6, 6, 6, 6, 6, 6, 6, 6, 6, 6, 6, 6, 6, 6, 6, 6, 6, 6, 6, 6, 6, 6, 6, 6, 6, 6, 6, 6, 6, 6, 6, 6, 6, 6, 6, 6, 6, 6, 6, 6, 6, 6, 6, 6, 6, 6, 6, 6, 6, 6, 6, 6, 6, 6, 6, 6, 6, 6, 6, 6, 6, 6, 6, 6, 6, 6, 6, 6, 6, 6, 6, 6, 6, 6, 6, 6, 6, 6, 6, 6, 6, 6, 6, 6, 6, 6, 6, 6, 6, 6, 6, 6, 6, 6, 6, 6, 6, 6, 6, 6, 6, 6, 6, 6, 6, 6, 6, 6, 6, 6, 6, 6, 6, 6, 6, 6, 6, 6, 6, 6, 6, 6, 6, 6, 6, 6, 6, 6, 6, 6, 6, 6, 6, 6, 6, 6, 6, 6, 6, 6, 6, 6, 6, 6, 6, 6, 6, 6, 6, 6, 6, 6, 6, 6, 6, 6, 6, 6, 6, 6, 6, 6, 6, 6, 6, 6, 6, 6, 6, 6, 6, 6, 6, 6, 6, 6, 6, 6, 6, 6, 6, 6, 6, 6, 6, 6, 6, 6, 6, 6, 6, 6, 6, 6, 6, 6, 6, 6, 6, 6, 6, 6, 6, 6, 6, 6, 6, 6, 6, 6, 6, 6, 6, 6, 6, 6, 6, 6, 6, 6, 6, 6, 6, 6, 6, 6, 6, 6, 6, 6, 6, 6, 6, 6, 6, 6, 6, 6, 6, 6, 6, 6, 6, 6, 6, 6, 6, 6, 6, 6, 6, 6, 6, 6, 6, 6, 6, 6, 6, 6, 6, 6, 6, 6, 6, 6, 6, 6, 6, 6, 6, 6, 6, 6, 6, 6, 6, 6, 6, 6, 6, 6, 6, 6, 6, 6, 6, 6, 6, 6, 6, 6, 6, 6, 6, 6, 6, 6, 6, 6, 6, 6, 6, 6, 6, 6, 6, 6, 6, 6, 6, 6, 6, 6, 6, 6, 6, 6, 6, 6, 6, 6, 6, 6, 6, 6, 6, 6, 6, 6, 6, 6, 6, 6, 6, 6, 6, 6, 6, 6, 6, 6, 6, 6, 6, 6, 6, 6, 6, 6, 6, 6, 6, 6, 6, 6, 6, 6, 6, 6, 6, 6, 6, 6, 6, 6, 6, 6, 6, 6, 6, 6, 6, 6, 6, 6, 6, 6, 6, 6, 6, 6, 6, 6, 6, 6, 6, 6, 6, 6, 6, 6, 6, 6, 6, 6, 6, 6, 6, 6, 6, 6, 6, 6, 6, 6, 6, 6, 6, 6, 6, 6, 6, 6, 6, 6, 6, 6, 6, 6, 6, 6, 6, 6, 6, 6, 6, 6, 6, 6, 6, 6, 6, 6, 6, 6, 6, 6, 6, 6, 6, 6, 6, 6, 6, 6, 6, 6, 6, 6, 6, 6, 6, 6, 6, 6, 6, 6, 6, 6, 6, 6, 6, 6, 6, 6, 6, 6, 6, 6, 6, 6, 6, 6, 6, 6, 6, 6, 6, 6, 6, 6, 6, 6, 6, 6, 6, 6, 6, 6, 6, 6, 6, 6, 6, 6, 6, 6, 6, 6, 6, 6, 6, 6, 6, 6, 6, 6, 6, 6, 6, 6, 7, 7, 7, 7, 7, 7, 7, 7, 7, 7, 7, 7, 7, 7, 7, 7, 7, 7, 7, 7, 7, 7, 7, 7, 7, 7, 7, 7, 7, 7, 7, 7, 7, 7, 7, 7, 7, 7, 7, 7, 7, 7, 7, 7, 7, 7, 7, 7, 7, 7, 7, 7, 7, 7, 7, 7, 7, 7, 7, 7, 7, 7, 7, 7, 7, 7, 7, 7, 7, 7, 7, 7, 7, 7, 7, 7, 7, 7, 7, 7, 7, 7, 7, 7, 7, 7, 7, 7, 7, 7, 7, 7, 7, 7, 7, 7, 7, 7, 7, 7, 7, 7, 7, 7, 7, 7, 7, 7, 7, 7, 7, 7, 7, 7, 7, 7, 7, 7, 7, 7, 7, 7, 7, 7, 7, 7, 7, 7, 7, 7, 7, 7, 7, 7, 7, 7, 7, 7, 7, 7, 7, 7, 7, 7, 7, 7, 7, 7, 7, 7, 7, 7, 7, 7, 7, 7, 7, 7, 7, 7, 7, 7, 7, 7, 7, 7, 7, 7, 7, 7, 7, 7, 7, 7, 7, 7, 7, 7, 7, 7, 7, 7, 7, 7, 7, 7, 7, 7, 7, 7, 7, 7, 7, 7, 7, 7, 7, 7, 7, 7, 7, 7, 7, 7, 7, 7, 7, 7, 7, 7, 7, 7, 7, 7, 7, 7, 7, 7, 7, 7, 7, 7, 7, 7, 7, 7, 7, 7, 7, 7, 7, 7, 7, 7, 7, 7, 7, 7, 7, 7, 7, 7, 7, 7, 7, 7, 7, 7, 7, 7, 7, 7, 7, 7, 7, 7, 7, 7, 7, 7, 7, 7, 7, 7, 7, 7, 7, 7, 7, 7, 7, 7, 7, 7, 7, 7, 7, 7, 7, 7, 7, 7, 7, 7, 7, 7, 7, 7, 7, 7, 7, 7, 7, 7, 7, 7, 7, 7, 7, 7, 7, 7, 7, 7, 7, 7, 7, 7, 7, 7, 7, 7, 7, 7, 7, 7, 7, 7, 7, 7, 7, 7, 7, 7, 7, 7, 7, 7, 7, 7, 7, 7, 7, 7, 7, 7, 7, 7, 7, 7, 7, 7, 7, 7, 7, 7, 7, 7, 7, 7, 7, 7, 7, 7, 7, 7, 7, 7, 7, 7, 7, 7, 7, 7, 7, 7, 7, 7, 7, 7, 7, 7, 7, 7, 7, 7, 7, 7, 7, 7, 7, 7, 7, 7, 7, 7, 7, 7, 7, 7, 7, 7, 7, 7, 7, 7, 7, 7, 7, 7, 7, 7, 7, 7, 7, 7, 7, 7, 7, 7, 7, 7, 7, 7, 7, 7, 7, 7, 7, 7, 7, 7, 7, 7, 7, 7, 7, 7, 7, 7, 7, 7, 7, 7, 7, 7, 7, 7, 7, 7, 7, 7, 7, 7, 7, 7, 7, 7, 7, 7, 7, 7, 7, 7, 7, 7, 7, 7, 7, 7, 7, 7, 7, 7, 7, 7, 7, 7, 7, 7, 7, 7, 7, 7, 7, 7, 7, 7, 7, 7, 7, 7, 7, 7, 7, 7, 7, 7, 7, 7, 7, 7, 7, 7, 7, 7, 7, 7, 7, 7, 7, 7, 7, 7, 7, 7, 7, 7, 7, 7, 7, 7, 7, 7, 7, 7, 7, 7, 7, 7, 7, 7, 7, 7, 7, 7, 7, 7, 7, 7, 7, 7, 7, 7, 7, 7, 7, 7, 7, 7, 7, 7, 7, 7, 7, 7, 7, 7, 7, 7, 7, 7, 7, 7, 7, 7, 7, 7, 7, 7, 7, 7, 7, 7, 7, 7, 7, 7, 7, 7, 7, 7, 7, 7, 7, 7, 7, 7, 7, 7, 7, 7, 7, 7, 7, 7, 7, 7, 7, 7, 7, 7, 7, 7, 7, 7, 7, 7, 7, 7, 7, 7, 7, 7, 7, 7, 7, 7, 7, 7, 7, 7, 7, 7, 7, 7, 7, 7, 7, 7, 7, 7, 7, 7, 7, 7, 7, 7, 7, 7, 7, 7, 7, 7, 7, 7, 7, 7, 7, 7, 7, 7, 7, 7, 7, 7, 7, 7, 7, 7, 7, 7, 7, 7, 7, 7, 7, 7, 7, 7, 7, 7, 7, 7, 7, 7, 7, 7, 7, 7, 7, 7, 7, 7, 7, 7, 7, 7, 7, 7, 7, 7, 7, 7, 7, 7, 7, 7, 7, 7, 7, 7, 7, 7, 7, 7, 7, 7, 7, 7, 7, 7, 7, 7, 7, 7, 7, 7, 7, 7, 7, 7, 7, 7, 7, 7, 7, 7, 7, 7, 7, 7, 7, 7, 7, 7, 7, 7, 7, 7, 7, 7, 7, 7, 7, 7, 7, 7, 7, 7, 7, 7, 7, 7, 7, 7, 7, 7, 7, 7, 7, 7, 7, 7, 7, 7, 7, 7, 7, 7, 7, 7, 7, 7, 7, 7, 7, 7, 7, 7, 7, 7, 7, 7, 7, 7, 7, 7, 7, 7, 7, 7, 7, 7, 7, 7, 7, 7, 7, 7, 7, 7, 7, 7, 7, 7, 7, 7, 7, 7, 7, 7, 7, 7, 7, 7, 7, 7, 7, 7, 7, 7, 7, 7, 7, 7, 7, 7, 7, 7, 7, 7, 7, 7, 7, 7, 7, 7, 7, 7, 7, 7, 7, 7, 7, 7, 7, 7, 7, 7, 7, 7, 7, 7, 7, 7, 7, 7, 7, 7, 7, 7, 7, 7, 7, 7, 7, 7, 7, 7, 7, 7, 7, 7, 7, 7, 7, 7, 7, 7, 7, 7, 7, 7, 7, 7, 7, 7, 7, 7, 7, 7, 7, 7, 7, 7, 7, 7, 7, 7, 7, 7, 7, 7, 7, 7, 7, 7, 7, 7, 7, 7, 7, 7, 7, 7, 7, 7, 7, 7, 7, 7, 7, 7, 7, 7, 7, 7, 7, 7, 7, 7, 7, 7, 7, 7, 7, 7, 7, 7, 7, 7, 7, 7, 7, 7, 7, 7, 7, 7, 7, 7, 7, 7, 7, 7, 7, 7, 7, 7, 7, 7, 7, 7, 7, 7, 7, 7, 7, 7, 7, 7, 7, 7, 7, 7, 7, 7, 7, 7, 7, 7, 7, 7, 7, 7, 7, 7, 7, 7, 7, 7, 7, 7, 7, 7, 7, 7, 7, 7, 7, 7, 7, 7, 7, 7, 7, 7, 7, 7, 1, 1, 1, 1, 1, 1, 1, 1, 1, 1, 1, 1, 1, 1, 1, 1, 1, 1, 1, 1, 1, 1, 1, 1, 1, 1, 1, 1, 1, 1, 1, 1, 1, 1, 1, 1, 1, 1, 1, 1, 1, 1, 1, 1, 1, 1, 1, 1, 1, 1, 1, 1, 1, 1, 1, 1, 1, 1, 1, 1, 1, 1, 1, 1, 1, 1, 1, 1, 1, 1, 1, 1, 1, 1, 1, 1, 1, 1, 1, 1, 1, 1, 1, 1, 1, 1, 1, 1, 1, 1, 1, 1, 1, 1, 1, 1, 1, 1, 1, 1, 1, 1, 1, 1, 1, 1, 1, 1, 1, 1, 1, 1, 1, 1, 1, 1, 1, 1, 1, 1, 1, 1, 1, 1, 1, 1, 1, 1, 1, 1, 1, 1, 1, 1, 1, 1, 1, 1, 1, 1, 1, 1, 1, 1, 1, 1, 1, 1, 1, 1, 1, 1, 1, 1, 1, 1, 1, 1, 1, 1, 1, 1, 1, 1, 1, 1, 1, 1, 1, 1, 1, 1, 1, 1, 1, 1, 1, 1, 1, 1, 1, 1, 1, 1, 1, 1, 1, 1, 1, 1, 1, 1, 1, 1, 1, 1, 1, 1, 1, 1, 1, 1, 1, 1, 1, 1, 1, 1, 1, 1, 1, 1, 1, 1, 1, 1, 1, 1, 1, 1, 1, 1, 1, 1, 1, 1, 1, 1, 1, 1, 1, 1, 1, 1, 1, 1, 1, 1, 1, 1, 1, 1, 1, 1, 1, 1, 1, 1, 1, 1, 1, 1, 1, 1, 1, 1, 1, 1, 1, 1, 1, 1, 1, 1, 1, 1, 1, 1, 1, 1, 1, 1, 1, 1, 1, 1, 1, 1, 1, 1, 1, 1, 1, 1, 1, 1, 1, 1, 1, 1, 1, 1, 1, 1, 1, 1, 1, 1, 1, 1, 1, 1, 1, 1, 1, 1, 1, 1, 1, 1, 1, 1, 1, 1, 1, 1, 1, 1, 1, 1, 1, 1, 1, 1, 1, 1, 1, 1, 1, 1, 1, 1, 1, 1, 1, 1, 1, 1, 1, 1, 1, 1, 1, 1, 1, 1, 1, 1, 1, 1, 1, 1, 1, 1, 1, 1, 1, 1, 1, 1, 1, 1, 1, 1, 1, 1, 1, 1, 1, 1, 1, 1, 1, 1, 1, 1, 1, 1, 1, 1, 1, 1, 1, 1, 1, 1, 1, 1, 1, 1, 1, 1, 1, 1, 1, 1, 1, 1, 1, 1, 1, 1, 1, 1, 1, 1, 1, 1, 1, 1, 1, 1, 1, 1, 1, 1, 1, 1, 1, 1, 1, 1, 1, 1, 1, 1, 1, 1, 1, 1, 1, 1, 1, 1, 1, 1, 1, 1, 1, 1, 1, 1, 1, 1, 1, 1, 1, 1, 1, 1, 1, 1, 1, 1, 1, 1, 1, 1, 1, 1, 1, 1, 1, 1, 1, 1, 1, 1, 1, 1, 1, 1, 1, 1, 1, 1, 1, 1, 1, 1, 1, 1, 1, 1, 1, 1, 1, 1, 1, 1, 1, 1, 1, 1, 1, 1, 1, 1, 1, 1, 1, 1, 1, 1, 1, 1, 1, 1, 1, 1, 1, 1, 1, 1, 1, 1, 1, 1, 1, 1, 1, 1, 1, 1, 1, 1, 1, 1, 1, 1, 1, 1, 1, 1, 1, 1, 1, 1, 1, 1, 1, 1, 1, 1, 1, 1, 1, 1, 1, 1, 1, 1, 1, 1, 1, 1, 1, 1, 1, 1, 1, 1, 1, 1, 1, 1, 1, 1, 1, 1, 1, 1, 1, 1, 1, 1, 1, 1, 1, 1, 1, 1, 1, 1, 1, 1, 1, 1, 1, 1, 1, 1, 1, 1, 1, 1, 1, 1, 1, 1, 1, 1, 1, 1, 1, 1, 1, 1, 1, 1, 1, 1, 1, 1, 1, 1, 1, 1, 1, 1, 1, 1, 1, 1, 1, 1, 1, 1, 1, 1, 1, 1, 1, 1, 1, 1, 1, 1, 1, 1, 1, 1, 1, 1, 1, 1, 1, 1, 1, 1, 1, 1, 1, 1, 1, 1, 1, 1, 1, 1, 1, 1, 1, 1, 1, 1, 1, 1, 1, 1, 1, 1, 1, 1, 1, 1, 1, 1, 1, 1, 1, 1, 1, 1, 1, 1, 1, 1, 1, 1, 1, 1, 1, 1, 1, 1, 1, 1, 1, 1, 1, 1, 1, 1, 1, 1, 1, 1, 1, 1, 1, 1, 1, 1, 1, 1, 1, 1, 1, 1, 1, 1, 1, 1, 1, 1, 1, 1, 1, 1, 1, 1, 1, 1, 1, 1, 1, 1, 1, 1, 1, 1, 1, 1, 1, 1, 1, 1, 1, 1, 1, 1, 1, 1, 1, 1, 1, 1, 1, 1, 1, 1, 1, 1, 1, 1, 1, 1, 1, 1, 1, 1, 1, 1, 1, 1, 1, 1, 1, 1, 1, 1, 1, 1, 1, 1, 1, 1, 1, 1, 1, 1, 1, 1, 1, 1, 1, 1, 1, 1, 1, 1, 1, 1, 1, 1, 1, 1, 1, 1, 1, 1, 1, 1, 1, 1, 1, 1, 1, 1, 1, 1, 1, 1, 1, 1, 1, 1, 1, 1, 1, 1, 1, 1, 1, 1, 1, 1, 1, 1, 1, 1, 1, 1, 1, 1, 1, 1, 1, 1, 1, 1, 1, 1, 1, 1, 1, 1, 1, 1, 1, 1, 1, 1, 1, 1, 1, 1, 1, 1, 1, 1, 1, 1, 1, 1, 1, 1, 1, 1, 1, 1, 1, 1, 1, 1, 1, 1, 1, 1, 1, 1, 1, 1, 1, 1, 1, 1, 1, 1, 1, 1, 1, 1, 1, 1, 1, 1, 1, 1, 1, 1, 1, 1, 1, 1, 1, 1, 1, 1, 1, 1, 1, 1, 1, 1, 1, 1, 1, 1, 1, 1, 1, 1, 1, 1, 1, 1, 1, 1, 1, 1, 1, 1, 1, 1, 1, 1, 1, 1, 1, 1, 1, 1, 1, 1, 1, 1, 1, 1, 1, 1, 1, 1, 1, 1, 1, 1, 1, 1, 1, 1, 1, 1, 1, 1, 1, 1, 1, 1, 1, 1, 1, 1, 1, 1, 1, 1, 1, 1, 1, 1, 1, 1, 1, 1, 1, 1, 1, 1, 1, 1, 1, 1, 1, 1, 1, 1, 1, 1, 1, 1, 1, 1, 1, 1, 1, 1, 1, 1, 1, 1, 1, 1, 1, 1, 1, 1, 1, 1, 1, 1, 1, 1, 1, 1, 1, 1, 1, 1, 0, 0, 0, 0, 0, 0, 0, 0, 0, 0, 0, 0, 0, 0, 0, 0, 0, 0, 0, 0, 0, 0, 0, 0, 0, 0, 0, 0, 0, 0, 0, 0, 0, 0, 0, 0, 0, 0, 0, 0, 0, 0, 0, 0, 0, 0, 0, 0, 0, 0, 0, 0, 0, 0, 0, 0, 0, 0, 0, 0, 0, 0, 0, 0, 0, 0, 0, 0, 0, 0, 0, 0, 0, 0, 0, 0, 0, 0, 0, 0, 0, 0, 0, 0, 0, 0, 0, 0, 0, 0, 0, 0, 0, 0, 0, 0, 0, 0, 0, 0, 0, 0, 0, 0, 0, 0, 0, 0, 0, 0, 0, 0, 0, 0, 0, 0, 0, 0, 0, 0, 0, 0, 0, 0, 0, 0, 0, 0, 0, 0, 0, 0, 0, 0, 0, 0, 0, 0, 0, 0, 0, 0, 0, 0, 0, 0, 0, 0, 0, 0, 0, 0, 0, 0, 0, 0, 0, 0, 0, 0, 0, 0, 0, 0, 0, 0, 0, 0, 0, 0, 0, 0, 0, 0, 0, 0, 0, 0, 0, 0, 0, 0, 0, 0, 0, 0, 0, 0, 0, 0, 0, 0, 0, 0, 0, 0, 0, 0, 0, 0, 0, 0, 0, 0, 0, 0, 0, 0, 0, 0, 0, 0, 0, 0, 0, 0, 0, 0, 0, 0, 0, 0, 0, 0, 0, 0, 0, 0, 0, 0, 0, 0, 0, 0, 0, 0, 0, 0, 0, 0, 0, 0, 0, 0, 0, 0, 0, 0, 0, 0, 0, 0, 0, 0, 0, 0, 0, 0, 0, 0, 0, 0, 0, 0, 0, 0, 0, 0, 0, 0, 0, 0, 0, 0, 0, 0, 0, 0, 0, 0, 0, 0, 0, 0, 0, 0, 0, 0, 0, 0, 0, 0, 0, 0, 0, 0, 0, 0, 0, 0, 0, 0, 0, 0, 0, 0, 0, 0, 0, 0, 0, 0, 0, 0, 0, 0, 0, 0, 0, 0, 0, 0, 0, 0, 0, 0, 0, 0, 0, 0, 0, 0, 0, 0, 0, 0, 0, 0, 0, 0, 0, 0, 0, 0, 0, 0, 0, 0, 0, 0, 0, 0, 0, 0, 0, 0, 0, 0, 0, 0, 0, 0, 0, 0, 0, 0, 0, 0, 0, 0, 0, 0, 0, 0, 0, 0, 0, 0, 0, 0, 0, 0, 0, 0, 0, 0, 0, 0, 0, 0, 0, 0, 0, 0, 0, 0, 0, 0, 0, 0, 0, 0, 0, 0, 0, 0, 0, 0, 0, 0, 0, 0, 0, 0, 0, 0, 0, 0, 0, 0, 0, 0, 0, 0, 0, 0, 0, 0, 0, 0, 0, 0, 0, 0, 0, 0, 0, 0, 0, 0, 0, 0, 0, 0, 0, 0, 0, 0, 0, 0, 0, 0, 0, 0, 0, 0, 0, 0, 0, 0, 0, 0, 0, 0, 0, 0, 0, 0, 0, 0, 0, 0, 0, 0, 0, 0, 0, 0, 0, 0, 0, 0, 0, 0, 0, 0, 0, 0, 0, 0, 0, 0, 0, 0, 0, 0, 0, 0, 0, 0, 0, 0, 0, 0, 0, 0, 0, 0, 0, 0, 0, 0, 0, 0, 0, 0, 0, 0, 0, 0, 0, 0, 0, 0, 0, 0, 0, 0, 0, 0, 0, 0, 0, 0, 0, 0, 0, 0, 0, 0, 0, 0, 0, 0, 0, 0, 0, 0, 0, 0, 0, 0, 0, 0, 0, 0, 0, 0, 0, 0, 0, 0, 0, 0, 0, 0, 0, 0, 0, 0, 0, 0, 0, 0, 0, 0, 0, 0, 0, 0, 0, 0, 0, 0, 0, 0, 0, 0, 0, 0, 0, 0, 0, 0, 0, 0, 0, 0, 0, 0, 0, 0, 0, 0, 0, 0, 0, 0, 0, 0, 0, 0, 0, 0, 0, 0, 0, 0, 0, 0, 0, 0, 0, 0, 0, 0, 0, 0, 0, 0, 0, 0, 0, 0, 0, 0, 0, 0, 0, 0, 0, 0, 0, 0, 0, 0, 0, 0, 0, 0, 0, 0, 0, 0, 0, 0, 0, 0, 0, 0, 0, 0, 0, 0, 0, 0, 0, 0, 0, 0, 0, 0, 0, 0, 0, 0, 0, 0, 0, 0, 0, 0, 0, 0, 0, 0, 0, 0, 0, 0, 0, 0, 0, 0, 0, 0, 0, 0, 0, 0, 0, 0, 0, 0, 0, 0, 0, 0, 0, 0, 0, 0, 0, 0, 0, 0, 0, 0, 0, 0, 0, 0, 0, 0, 0, 0, 0, 0, 0, 0, 0, 0, 0, 0, 0, 0, 0, 0, 0, 0, 0, 0, 0, 0, 0, 0, 0, 0, 0, 0, 0, 0, 0, 0, 0, 0, 0, 0, 0, 0, 0, 0, 0, 0, 0, 0, 0, 0, 0, 0, 0, 0, 0, 0, 0, 0, 0, 0, 0, 0, 0, 0, 0, 0, 0, 0, 0, 0, 0, 0, 0, 0, 0, 0, 0, 0, 0, 0, 0, 0, 0, 0, 0, 0, 0, 0, 0, 0, 0, 0, 0, 0, 0, 0, 0, 0, 0, 0, 0, 0, 0, 0, 0, 0, 0, 0, 0, 0, 0, 0, 0, 0, 0, 0, 0, 0, 0, 0, 0, 0, 0, 0, 0, 0, 0, 0, 0, 0, 0, 0, 0, 0, 0, 0, 0, 0, 0, 0, 0, 0, 0, 0, 0, 0, 0, 0, 0, 0, 0, 0, 0, 0, 0, 0, 0, 0, 0, 0, 0, 0, 0, 0, 0, 0, 0, 0, 0, 0, 0, 0, 0, 0, 0, 0, 0, 0, 0, 0, 0, 0, 0, 0, 0, 0, 0, 0, 0, 0, 0, 0, 0, 0, 0, 0, 0, 0, 0, 0, 0, 0, 0, 0, 0, 0, 0, 0, 0, 0, 0, 0, 0, 0, 0, 0, 0, 0, 0, 0, 0, 0, 0, 0, 0, 0, 0, 0, 0, 0, 0, 0, 0, 0, 0, 0, 0, 0, 0, 0, 0, 0, 0, 0, 0, 0, 0, 0, 0, 0, 0, 0, 0, 0, 0, 0, 0, 0, 0, 0, 0, 0, 0, 0, 0, 0, 0, 0, 0, 0, 0, 0, 0, 0, 0, 0, 0, 0, 0, 0, 0, 0, 0, 0, 0, 0, 0, 0, 0, 0, 0, 0, 0, 0, 0, 0, 0, 0, 0, 0, 0, 0, 0, 0, 0, 0, 0, 0, 0, 0, 0, 0, 0, 0, 0, 0, 0, 0, 0, 0, 0, 0]\n"
          ],
          "name": "stdout"
        }
      ]
    },
    {
      "cell_type": "code",
      "metadata": {
        "colab": {
          "base_uri": "https://localhost:8080/",
          "height": 35
        },
        "id": "DsPkQG3FWIeB",
        "outputId": "d9de47d4-0611-4c3c-9e85-0a773c5533a3"
      },
      "source": [
        "#WE HAVE GOT THE DATA WE WANTED\n",
        "'''NOW\n",
        "WE WILL HAVE TO DO THIS WE KNOW THAT EACH OF THE VIDEO WAS BROKEN INTO 20 FRAMES\n",
        "AND THUS WE CAN GET THE PROPER X AND Y:\n",
        "'''"
      ],
      "execution_count": null,
      "outputs": [
        {
          "output_type": "execute_result",
          "data": {
            "application/vnd.google.colaboratory.intrinsic+json": {
              "type": "string"
            },
            "text/plain": [
              "'NOW\\nWE WILL HAVE TO DO THIS WE KNOW THAT EACH OF THE VIDEO WAS BROKEN INTO 20 FRAMES\\nAND THUS WE CAN GET THE PROPER X AND Y:\\n'"
            ]
          },
          "metadata": {
            "tags": []
          },
          "execution_count": 8
        }
      ]
    },
    {
      "cell_type": "code",
      "metadata": {
        "id": "85YOTV2P2CBW"
      },
      "source": [
        "def inputData2(x,y,nFrames=20,nDims=4):\n",
        "  a=np.shape(x)[0]\n",
        "  b=np.shape(y)[0]\n",
        "  print(a)\n",
        "  print(b)\n",
        "  x=np.array(x)\n",
        "  t1=int(a/nFrames)\n",
        "  print(\"t1: \",t1)\n",
        "  X=x.reshape(t1,nFrames,x.shape[1],x.shape[2],x.shape[3])\n",
        "  y2=[]\n",
        "  i=0\n",
        "  while(i<b):\n",
        "    y2.append(y[i])\n",
        "    i+=nFrames\n",
        "  return X,y2"
      ],
      "execution_count": null,
      "outputs": []
    },
    {
      "cell_type": "code",
      "metadata": {
        "colab": {
          "base_uri": "https://localhost:8080/"
        },
        "id": "8OZOrMhq2UWA",
        "outputId": "a4db2a3e-3aa6-44b3-e5dd-4018ed548c30"
      },
      "source": [
        "X,Y=inputData2(array,y,20)\n",
        "print(np.shape(X))\n",
        "print(np.shape(Y))"
      ],
      "execution_count": null,
      "outputs": [
        {
          "output_type": "stream",
          "text": [
            "8040\n",
            "8040\n",
            "t1:  402\n",
            "(402, 20, 200, 200, 3)\n",
            "(402,)\n"
          ],
          "name": "stdout"
        }
      ]
    },
    {
      "cell_type": "code",
      "metadata": {
        "colab": {
          "base_uri": "https://localhost:8080/",
          "height": 35
        },
        "id": "W4ayk6Ej2Yvw",
        "outputId": "987f3015-11d6-4749-8c7e-3823664ed6f1"
      },
      "source": [
        "'''THIS MEANS THAT WE HAVE 402 VIDEOS EACH OF 20 200*200*3 FRAMES'''"
      ],
      "execution_count": null,
      "outputs": [
        {
          "output_type": "execute_result",
          "data": {
            "application/vnd.google.colaboratory.intrinsic+json": {
              "type": "string"
            },
            "text/plain": [
              "'THIS MEANS THAT WE HAVE 402 VIDEOS EACH OF 20 200*200*3 FRAMES'"
            ]
          },
          "metadata": {
            "tags": []
          },
          "execution_count": 11
        }
      ]
    },
    {
      "cell_type": "code",
      "metadata": {
        "colab": {
          "base_uri": "https://localhost:8080/"
        },
        "id": "9np8NvPA5mXa",
        "outputId": "d2df0329-ca4a-4d01-9107-b1e479b4f040"
      },
      "source": [
        "print(np.shape(y))"
      ],
      "execution_count": null,
      "outputs": [
        {
          "output_type": "stream",
          "text": [
            "(8040,)\n"
          ],
          "name": "stdout"
        }
      ]
    },
    {
      "cell_type": "code",
      "metadata": {
        "colab": {
          "base_uri": "https://localhost:8080/"
        },
        "id": "8CLTUzmK6JfF",
        "outputId": "56094213-8aae-43d4-ab8c-20120ea25c4d"
      },
      "source": [
        "print(np.shape(X))"
      ],
      "execution_count": null,
      "outputs": [
        {
          "output_type": "stream",
          "text": [
            "(402, 20, 200, 200, 3)\n"
          ],
          "name": "stdout"
        }
      ]
    },
    {
      "cell_type": "code",
      "metadata": {
        "id": "eca0OBUu64I9"
      },
      "source": [
        "Y=np.array(Y)\n",
        "X=np.array(X)"
      ],
      "execution_count": null,
      "outputs": []
    },
    {
      "cell_type": "code",
      "metadata": {
        "colab": {
          "base_uri": "https://localhost:8080/"
        },
        "id": "GJjj8gVk7AtQ",
        "outputId": "00d41aa2-d94d-4292-82dc-93e6fc14b522"
      },
      "source": [
        "print(X.shape)"
      ],
      "execution_count": null,
      "outputs": [
        {
          "output_type": "stream",
          "text": [
            "(402, 20, 200, 200, 3)\n"
          ],
          "name": "stdout"
        }
      ]
    },
    {
      "cell_type": "code",
      "metadata": {
        "colab": {
          "base_uri": "https://localhost:8080/"
        },
        "id": "aF4pAfkN7CTi",
        "outputId": "bfb0cfd8-8fe7-40fb-e706-9edc2bdd5d34"
      },
      "source": [
        "print(Y.shape)"
      ],
      "execution_count": null,
      "outputs": [
        {
          "output_type": "stream",
          "text": [
            "(402,)\n"
          ],
          "name": "stdout"
        }
      ]
    },
    {
      "cell_type": "code",
      "metadata": {
        "id": "Oleo2dmg7Osg"
      },
      "source": [
        "#THUS X AND Y ARE NOT LISTS THEY ARE ARRAYS THE ABOVE ERROR PROVES THAT"
      ],
      "execution_count": null,
      "outputs": []
    },
    {
      "cell_type": "code",
      "metadata": {
        "id": "ksV0a6uY7pwQ"
      },
      "source": [
        "np.save(\"/content/gdrive/MyDrive/hand sign database array X 200 200\",X)"
      ],
      "execution_count": null,
      "outputs": []
    },
    {
      "cell_type": "code",
      "metadata": {
        "id": "tfco5w2W8mVQ"
      },
      "source": [
        "# np.save(\"/content/gdrive/MyDrive/hand sign database array Y\",Y)"
      ],
      "execution_count": null,
      "outputs": []
    },
    {
      "cell_type": "code",
      "metadata": {
        "colab": {
          "base_uri": "https://localhost:8080/"
        },
        "id": "mDPCBjxc9Wel",
        "outputId": "65a7dbbe-c2a2-404a-9cd4-9a63054ae981"
      },
      "source": [
        "dataX=np.load(\"/content/gdrive/MyDrive/hand sign database array X 200 200.npy\")\n",
        "print(np.shape(dataX))"
      ],
      "execution_count": null,
      "outputs": [
        {
          "output_type": "stream",
          "text": [
            "(402, 20, 200, 200, 3)\n"
          ],
          "name": "stdout"
        }
      ]
    },
    {
      "cell_type": "code",
      "metadata": {
        "colab": {
          "base_uri": "https://localhost:8080/"
        },
        "id": "d3WRebWB-OWb",
        "outputId": "babedbd1-aa13-4f30-bfaf-d3db374aea68"
      },
      "source": [
        "dataY=np.load(\"/content/gdrive/MyDrive/hand sign database array Y.npy\")\n",
        "print(np.shape(dataY))"
      ],
      "execution_count": null,
      "outputs": [
        {
          "output_type": "stream",
          "text": [
            "(402,)\n"
          ],
          "name": "stdout"
        }
      ]
    },
    {
      "cell_type": "code",
      "metadata": {
        "colab": {
          "base_uri": "https://localhost:8080/",
          "height": 35
        },
        "id": "Sc3kH_PH-YIt",
        "outputId": "f465f70c-acdd-4af8-bd0c-5c8476929238"
      },
      "source": [
        "#WE HAVE ALSO SAVED THE DATA IN APPROPRIATE FILES\n",
        "'''THE TASK IS NOT YET FINISHED'''"
      ],
      "execution_count": null,
      "outputs": [
        {
          "output_type": "execute_result",
          "data": {
            "application/vnd.google.colaboratory.intrinsic+json": {
              "type": "string"
            },
            "text/plain": [
              "'THE TASK IS NOT YET FINISHED'"
            ]
          },
          "metadata": {
            "tags": []
          },
          "execution_count": 185
        }
      ]
    },
    {
      "cell_type": "code",
      "metadata": {
        "id": "4yx5EVn_C9Wn"
      },
      "source": [
        "#NOW WE HAVE TO PUT THESE 402 INTO 8 CATEGORIES"
      ],
      "execution_count": null,
      "outputs": []
    },
    {
      "cell_type": "code",
      "metadata": {
        "id": "LSXaY-Bzo2u9"
      },
      "source": [
        "def putInCategories(dataX,dataY,nCategories=8):\n",
        "  X=[[]]*nCategories\n",
        "  for i in range(nCategories):\n",
        "    X[i]=[]\n",
        "  for i in range(np.shape(dataY)[0]):\n",
        "    print(np.shape(dataX[i]))\n",
        "    X[(dataY[i])].append(dataX[i])\n",
        "  \n",
        "  return X"
      ],
      "execution_count": null,
      "outputs": []
    },
    {
      "cell_type": "code",
      "metadata": {
        "colab": {
          "base_uri": "https://localhost:8080/"
        },
        "id": "0a5q5b19pxyG",
        "outputId": "3b432d54-9988-423e-a2df-f5d722940eb8"
      },
      "source": [
        "X2=putInCategories(dataX,dataY)\n",
        "print(np.shape(X2))"
      ],
      "execution_count": null,
      "outputs": [
        {
          "output_type": "stream",
          "text": [
            "WARNING:py.warnings:/usr/local/lib/python3.7/dist-packages/numpy/core/_asarray.py:83: VisibleDeprecationWarning: Creating an ndarray from ragged nested sequences (which is a list-or-tuple of lists-or-tuples-or ndarrays with different lengths or shapes) is deprecated. If you meant to do this, you must specify 'dtype=object' when creating the ndarray\n",
            "  return array(a, dtype, copy=False, order=order)\n",
            "\n"
          ],
          "name": "stderr"
        },
        {
          "output_type": "stream",
          "text": [
            "(20, 50, 50, 3)\n",
            "(20, 50, 50, 3)\n",
            "(20, 50, 50, 3)\n",
            "(20, 50, 50, 3)\n",
            "(20, 50, 50, 3)\n",
            "(20, 50, 50, 3)\n",
            "(20, 50, 50, 3)\n",
            "(20, 50, 50, 3)\n",
            "(20, 50, 50, 3)\n",
            "(20, 50, 50, 3)\n",
            "(20, 50, 50, 3)\n",
            "(20, 50, 50, 3)\n",
            "(20, 50, 50, 3)\n",
            "(20, 50, 50, 3)\n",
            "(20, 50, 50, 3)\n",
            "(20, 50, 50, 3)\n",
            "(20, 50, 50, 3)\n",
            "(20, 50, 50, 3)\n",
            "(20, 50, 50, 3)\n",
            "(20, 50, 50, 3)\n",
            "(20, 50, 50, 3)\n",
            "(20, 50, 50, 3)\n",
            "(20, 50, 50, 3)\n",
            "(20, 50, 50, 3)\n",
            "(20, 50, 50, 3)\n",
            "(20, 50, 50, 3)\n",
            "(20, 50, 50, 3)\n",
            "(20, 50, 50, 3)\n",
            "(20, 50, 50, 3)\n",
            "(20, 50, 50, 3)\n",
            "(20, 50, 50, 3)\n",
            "(20, 50, 50, 3)\n",
            "(20, 50, 50, 3)\n",
            "(20, 50, 50, 3)\n",
            "(20, 50, 50, 3)\n",
            "(20, 50, 50, 3)\n",
            "(20, 50, 50, 3)\n",
            "(20, 50, 50, 3)\n",
            "(20, 50, 50, 3)\n",
            "(20, 50, 50, 3)\n",
            "(20, 50, 50, 3)\n",
            "(20, 50, 50, 3)\n",
            "(20, 50, 50, 3)\n",
            "(20, 50, 50, 3)\n",
            "(20, 50, 50, 3)\n",
            "(20, 50, 50, 3)\n",
            "(20, 50, 50, 3)\n",
            "(20, 50, 50, 3)\n",
            "(20, 50, 50, 3)\n",
            "(20, 50, 50, 3)\n",
            "(20, 50, 50, 3)\n",
            "(20, 50, 50, 3)\n",
            "(20, 50, 50, 3)\n",
            "(20, 50, 50, 3)\n",
            "(20, 50, 50, 3)\n",
            "(20, 50, 50, 3)\n",
            "(20, 50, 50, 3)\n",
            "(20, 50, 50, 3)\n",
            "(20, 50, 50, 3)\n",
            "(20, 50, 50, 3)\n",
            "(20, 50, 50, 3)\n",
            "(20, 50, 50, 3)\n",
            "(20, 50, 50, 3)\n",
            "(20, 50, 50, 3)\n",
            "(20, 50, 50, 3)\n",
            "(20, 50, 50, 3)\n",
            "(20, 50, 50, 3)\n",
            "(20, 50, 50, 3)\n",
            "(20, 50, 50, 3)\n",
            "(20, 50, 50, 3)\n",
            "(20, 50, 50, 3)\n",
            "(20, 50, 50, 3)\n",
            "(20, 50, 50, 3)\n",
            "(20, 50, 50, 3)\n",
            "(20, 50, 50, 3)\n",
            "(20, 50, 50, 3)\n",
            "(20, 50, 50, 3)\n",
            "(20, 50, 50, 3)\n",
            "(20, 50, 50, 3)\n",
            "(20, 50, 50, 3)\n",
            "(20, 50, 50, 3)\n",
            "(20, 50, 50, 3)\n",
            "(20, 50, 50, 3)\n",
            "(20, 50, 50, 3)\n",
            "(20, 50, 50, 3)\n",
            "(20, 50, 50, 3)\n",
            "(20, 50, 50, 3)\n",
            "(20, 50, 50, 3)\n",
            "(20, 50, 50, 3)\n",
            "(20, 50, 50, 3)\n",
            "(20, 50, 50, 3)\n",
            "(20, 50, 50, 3)\n",
            "(20, 50, 50, 3)\n",
            "(20, 50, 50, 3)\n",
            "(20, 50, 50, 3)\n",
            "(20, 50, 50, 3)\n",
            "(20, 50, 50, 3)\n",
            "(20, 50, 50, 3)\n",
            "(20, 50, 50, 3)\n",
            "(20, 50, 50, 3)\n",
            "(20, 50, 50, 3)\n",
            "(20, 50, 50, 3)\n",
            "(20, 50, 50, 3)\n",
            "(20, 50, 50, 3)\n",
            "(20, 50, 50, 3)\n",
            "(20, 50, 50, 3)\n",
            "(20, 50, 50, 3)\n",
            "(20, 50, 50, 3)\n",
            "(20, 50, 50, 3)\n",
            "(20, 50, 50, 3)\n",
            "(20, 50, 50, 3)\n",
            "(20, 50, 50, 3)\n",
            "(20, 50, 50, 3)\n",
            "(20, 50, 50, 3)\n",
            "(20, 50, 50, 3)\n",
            "(20, 50, 50, 3)\n",
            "(20, 50, 50, 3)\n",
            "(20, 50, 50, 3)\n",
            "(20, 50, 50, 3)\n",
            "(20, 50, 50, 3)\n",
            "(20, 50, 50, 3)\n",
            "(20, 50, 50, 3)\n",
            "(20, 50, 50, 3)\n",
            "(20, 50, 50, 3)\n",
            "(20, 50, 50, 3)\n",
            "(20, 50, 50, 3)\n",
            "(20, 50, 50, 3)\n",
            "(20, 50, 50, 3)\n",
            "(20, 50, 50, 3)\n",
            "(20, 50, 50, 3)\n",
            "(20, 50, 50, 3)\n",
            "(20, 50, 50, 3)\n",
            "(20, 50, 50, 3)\n",
            "(20, 50, 50, 3)\n",
            "(20, 50, 50, 3)\n",
            "(20, 50, 50, 3)\n",
            "(20, 50, 50, 3)\n",
            "(20, 50, 50, 3)\n",
            "(20, 50, 50, 3)\n",
            "(20, 50, 50, 3)\n",
            "(20, 50, 50, 3)\n",
            "(20, 50, 50, 3)\n",
            "(20, 50, 50, 3)\n",
            "(20, 50, 50, 3)\n",
            "(20, 50, 50, 3)\n",
            "(20, 50, 50, 3)\n",
            "(20, 50, 50, 3)\n",
            "(20, 50, 50, 3)\n",
            "(20, 50, 50, 3)\n",
            "(20, 50, 50, 3)\n",
            "(20, 50, 50, 3)\n",
            "(20, 50, 50, 3)\n",
            "(20, 50, 50, 3)\n",
            "(20, 50, 50, 3)\n",
            "(20, 50, 50, 3)\n",
            "(20, 50, 50, 3)\n",
            "(20, 50, 50, 3)\n",
            "(20, 50, 50, 3)\n",
            "(20, 50, 50, 3)\n",
            "(20, 50, 50, 3)\n",
            "(20, 50, 50, 3)\n",
            "(20, 50, 50, 3)\n",
            "(20, 50, 50, 3)\n",
            "(20, 50, 50, 3)\n",
            "(20, 50, 50, 3)\n",
            "(20, 50, 50, 3)\n",
            "(20, 50, 50, 3)\n",
            "(20, 50, 50, 3)\n",
            "(20, 50, 50, 3)\n",
            "(20, 50, 50, 3)\n",
            "(20, 50, 50, 3)\n",
            "(20, 50, 50, 3)\n",
            "(20, 50, 50, 3)\n",
            "(20, 50, 50, 3)\n",
            "(20, 50, 50, 3)\n",
            "(20, 50, 50, 3)\n",
            "(20, 50, 50, 3)\n",
            "(20, 50, 50, 3)\n",
            "(20, 50, 50, 3)\n",
            "(20, 50, 50, 3)\n",
            "(20, 50, 50, 3)\n",
            "(20, 50, 50, 3)\n",
            "(20, 50, 50, 3)\n",
            "(20, 50, 50, 3)\n",
            "(20, 50, 50, 3)\n",
            "(20, 50, 50, 3)\n",
            "(20, 50, 50, 3)\n",
            "(20, 50, 50, 3)\n",
            "(20, 50, 50, 3)\n",
            "(20, 50, 50, 3)\n",
            "(20, 50, 50, 3)\n",
            "(20, 50, 50, 3)\n",
            "(20, 50, 50, 3)\n",
            "(20, 50, 50, 3)\n",
            "(20, 50, 50, 3)\n",
            "(20, 50, 50, 3)\n",
            "(20, 50, 50, 3)\n",
            "(20, 50, 50, 3)\n",
            "(20, 50, 50, 3)\n",
            "(20, 50, 50, 3)\n",
            "(20, 50, 50, 3)\n",
            "(20, 50, 50, 3)\n",
            "(20, 50, 50, 3)\n",
            "(20, 50, 50, 3)\n",
            "(20, 50, 50, 3)\n",
            "(20, 50, 50, 3)\n",
            "(20, 50, 50, 3)\n",
            "(20, 50, 50, 3)\n",
            "(20, 50, 50, 3)\n",
            "(20, 50, 50, 3)\n",
            "(20, 50, 50, 3)\n",
            "(20, 50, 50, 3)\n",
            "(20, 50, 50, 3)\n",
            "(20, 50, 50, 3)\n",
            "(20, 50, 50, 3)\n",
            "(20, 50, 50, 3)\n",
            "(20, 50, 50, 3)\n",
            "(20, 50, 50, 3)\n",
            "(20, 50, 50, 3)\n",
            "(20, 50, 50, 3)\n",
            "(20, 50, 50, 3)\n",
            "(20, 50, 50, 3)\n",
            "(20, 50, 50, 3)\n",
            "(20, 50, 50, 3)\n",
            "(20, 50, 50, 3)\n",
            "(20, 50, 50, 3)\n",
            "(20, 50, 50, 3)\n",
            "(20, 50, 50, 3)\n",
            "(20, 50, 50, 3)\n",
            "(20, 50, 50, 3)\n",
            "(20, 50, 50, 3)\n",
            "(20, 50, 50, 3)\n",
            "(20, 50, 50, 3)\n",
            "(20, 50, 50, 3)\n",
            "(20, 50, 50, 3)\n",
            "(20, 50, 50, 3)\n",
            "(20, 50, 50, 3)\n",
            "(20, 50, 50, 3)\n",
            "(20, 50, 50, 3)\n",
            "(20, 50, 50, 3)\n",
            "(20, 50, 50, 3)\n",
            "(20, 50, 50, 3)\n",
            "(20, 50, 50, 3)\n",
            "(20, 50, 50, 3)\n",
            "(20, 50, 50, 3)\n",
            "(20, 50, 50, 3)\n",
            "(20, 50, 50, 3)\n",
            "(20, 50, 50, 3)\n",
            "(20, 50, 50, 3)\n",
            "(20, 50, 50, 3)\n",
            "(20, 50, 50, 3)\n",
            "(20, 50, 50, 3)\n",
            "(20, 50, 50, 3)\n",
            "(20, 50, 50, 3)\n",
            "(20, 50, 50, 3)\n",
            "(20, 50, 50, 3)\n",
            "(20, 50, 50, 3)\n",
            "(20, 50, 50, 3)\n",
            "(20, 50, 50, 3)\n",
            "(20, 50, 50, 3)\n",
            "(20, 50, 50, 3)\n",
            "(20, 50, 50, 3)\n",
            "(20, 50, 50, 3)\n",
            "(20, 50, 50, 3)\n",
            "(20, 50, 50, 3)\n",
            "(20, 50, 50, 3)\n",
            "(20, 50, 50, 3)\n",
            "(20, 50, 50, 3)\n",
            "(20, 50, 50, 3)\n",
            "(20, 50, 50, 3)\n",
            "(20, 50, 50, 3)\n",
            "(20, 50, 50, 3)\n",
            "(20, 50, 50, 3)\n",
            "(20, 50, 50, 3)\n",
            "(20, 50, 50, 3)\n",
            "(20, 50, 50, 3)\n",
            "(20, 50, 50, 3)\n",
            "(20, 50, 50, 3)\n",
            "(20, 50, 50, 3)\n",
            "(20, 50, 50, 3)\n",
            "(20, 50, 50, 3)\n",
            "(20, 50, 50, 3)\n",
            "(20, 50, 50, 3)\n",
            "(20, 50, 50, 3)\n",
            "(20, 50, 50, 3)\n",
            "(20, 50, 50, 3)\n",
            "(20, 50, 50, 3)\n",
            "(20, 50, 50, 3)\n",
            "(20, 50, 50, 3)\n",
            "(20, 50, 50, 3)\n",
            "(20, 50, 50, 3)\n",
            "(20, 50, 50, 3)\n",
            "(20, 50, 50, 3)\n",
            "(20, 50, 50, 3)\n",
            "(20, 50, 50, 3)\n",
            "(20, 50, 50, 3)\n",
            "(20, 50, 50, 3)\n",
            "(20, 50, 50, 3)\n",
            "(20, 50, 50, 3)\n",
            "(20, 50, 50, 3)\n",
            "(20, 50, 50, 3)\n",
            "(20, 50, 50, 3)\n",
            "(20, 50, 50, 3)\n",
            "(20, 50, 50, 3)\n",
            "(20, 50, 50, 3)\n",
            "(20, 50, 50, 3)\n",
            "(20, 50, 50, 3)\n",
            "(20, 50, 50, 3)\n",
            "(20, 50, 50, 3)\n",
            "(20, 50, 50, 3)\n",
            "(20, 50, 50, 3)\n",
            "(20, 50, 50, 3)\n",
            "(20, 50, 50, 3)\n",
            "(20, 50, 50, 3)\n",
            "(20, 50, 50, 3)\n",
            "(20, 50, 50, 3)\n",
            "(20, 50, 50, 3)\n",
            "(20, 50, 50, 3)\n",
            "(20, 50, 50, 3)\n",
            "(20, 50, 50, 3)\n",
            "(20, 50, 50, 3)\n",
            "(20, 50, 50, 3)\n",
            "(20, 50, 50, 3)\n",
            "(20, 50, 50, 3)\n",
            "(20, 50, 50, 3)\n",
            "(20, 50, 50, 3)\n",
            "(20, 50, 50, 3)\n",
            "(20, 50, 50, 3)\n",
            "(20, 50, 50, 3)\n",
            "(20, 50, 50, 3)\n",
            "(20, 50, 50, 3)\n",
            "(20, 50, 50, 3)\n",
            "(20, 50, 50, 3)\n",
            "(20, 50, 50, 3)\n",
            "(20, 50, 50, 3)\n",
            "(20, 50, 50, 3)\n",
            "(20, 50, 50, 3)\n",
            "(20, 50, 50, 3)\n",
            "(20, 50, 50, 3)\n",
            "(20, 50, 50, 3)\n",
            "(20, 50, 50, 3)\n",
            "(20, 50, 50, 3)\n",
            "(20, 50, 50, 3)\n",
            "(20, 50, 50, 3)\n",
            "(20, 50, 50, 3)\n",
            "(20, 50, 50, 3)\n",
            "(20, 50, 50, 3)\n",
            "(20, 50, 50, 3)\n",
            "(20, 50, 50, 3)\n",
            "(20, 50, 50, 3)\n",
            "(20, 50, 50, 3)\n",
            "(20, 50, 50, 3)\n",
            "(20, 50, 50, 3)\n",
            "(20, 50, 50, 3)\n",
            "(20, 50, 50, 3)\n",
            "(20, 50, 50, 3)\n",
            "(20, 50, 50, 3)\n",
            "(20, 50, 50, 3)\n",
            "(20, 50, 50, 3)\n",
            "(20, 50, 50, 3)\n",
            "(20, 50, 50, 3)\n",
            "(20, 50, 50, 3)\n",
            "(20, 50, 50, 3)\n",
            "(20, 50, 50, 3)\n",
            "(20, 50, 50, 3)\n",
            "(20, 50, 50, 3)\n",
            "(20, 50, 50, 3)\n",
            "(20, 50, 50, 3)\n",
            "(20, 50, 50, 3)\n",
            "(20, 50, 50, 3)\n",
            "(20, 50, 50, 3)\n",
            "(20, 50, 50, 3)\n",
            "(20, 50, 50, 3)\n",
            "(20, 50, 50, 3)\n",
            "(20, 50, 50, 3)\n",
            "(20, 50, 50, 3)\n",
            "(20, 50, 50, 3)\n",
            "(20, 50, 50, 3)\n",
            "(20, 50, 50, 3)\n",
            "(20, 50, 50, 3)\n",
            "(20, 50, 50, 3)\n",
            "(20, 50, 50, 3)\n",
            "(20, 50, 50, 3)\n",
            "(20, 50, 50, 3)\n",
            "(20, 50, 50, 3)\n",
            "(20, 50, 50, 3)\n",
            "(20, 50, 50, 3)\n",
            "(20, 50, 50, 3)\n",
            "(20, 50, 50, 3)\n",
            "(20, 50, 50, 3)\n",
            "(20, 50, 50, 3)\n",
            "(20, 50, 50, 3)\n",
            "(20, 50, 50, 3)\n",
            "(20, 50, 50, 3)\n",
            "(20, 50, 50, 3)\n",
            "(20, 50, 50, 3)\n",
            "(20, 50, 50, 3)\n",
            "(20, 50, 50, 3)\n",
            "(20, 50, 50, 3)\n",
            "(20, 50, 50, 3)\n",
            "(20, 50, 50, 3)\n",
            "(20, 50, 50, 3)\n",
            "(8,)\n"
          ],
          "name": "stdout"
        }
      ]
    },
    {
      "cell_type": "code",
      "metadata": {
        "colab": {
          "base_uri": "https://localhost:8080/"
        },
        "id": "4kpiAWovr_En",
        "outputId": "e7065b1b-b709-47dd-b6de-f1f395b4c1ac"
      },
      "source": [
        "print(np.shape(dataY)[0])"
      ],
      "execution_count": null,
      "outputs": [
        {
          "output_type": "stream",
          "text": [
            "402\n"
          ],
          "name": "stdout"
        }
      ]
    },
    {
      "cell_type": "code",
      "metadata": {
        "colab": {
          "base_uri": "https://localhost:8080/"
        },
        "id": "BeWu62opzMus",
        "outputId": "ba1e49ee-e43c-4346-cdd5-2b7f5de36fa4"
      },
      "source": [
        "for i in range(8):\n",
        "  print(np.shape(X2[i]))"
      ],
      "execution_count": null,
      "outputs": [
        {
          "output_type": "stream",
          "text": [
            "(52, 20, 50, 50, 3)\n",
            "(52, 20, 50, 50, 3)\n",
            "(52, 20, 50, 50, 3)\n",
            "(52, 20, 50, 50, 3)\n",
            "(52, 20, 50, 50, 3)\n",
            "(40, 20, 50, 50, 3)\n",
            "(52, 20, 50, 50, 3)\n",
            "(50, 20, 50, 50, 3)\n"
          ],
          "name": "stdout"
        }
      ]
    },
    {
      "cell_type": "code",
      "metadata": {
        "id": "UW3mD3yP2cse"
      },
      "source": [
        "# WE WILL USE x AND Y HERE:"
      ],
      "execution_count": null,
      "outputs": []
    },
    {
      "cell_type": "code",
      "metadata": {
        "colab": {
          "base_uri": "https://localhost:8080/"
        },
        "id": "4QJgGKKmDc9i",
        "outputId": "f5b41334-f566-4184-b9d2-59f86e3a3911"
      },
      "source": [
        "print(np.shape(X))\n",
        "print(np.shape(Y))"
      ],
      "execution_count": null,
      "outputs": [
        {
          "output_type": "stream",
          "text": [
            "(402, 20, 50, 50, 3)\n",
            "(402,)\n"
          ],
          "name": "stdout"
        }
      ]
    },
    {
      "cell_type": "code",
      "metadata": {
        "id": "IA_98UwkDfAm"
      },
      "source": [
        "#NOW WE HAVE TO DIVIDE THE 402 VIDEOS INTO A TRAIN SET AND A TEST SET:\n",
        "from sklearn.model_selection import train_test_split\n",
        "trainX, testX, trainY, testY = train_test_split(X, Y, train_size=0.8, random_state=42)"
      ],
      "execution_count": null,
      "outputs": []
    },
    {
      "cell_type": "code",
      "metadata": {
        "colab": {
          "base_uri": "https://localhost:8080/"
        },
        "id": "2X2HRAhlGPRm",
        "outputId": "7d8b26b1-9277-49a9-89a8-550c0897770c"
      },
      "source": [
        "print(trainX.shape)"
      ],
      "execution_count": null,
      "outputs": [
        {
          "output_type": "stream",
          "text": [
            "(321, 20, 50, 50, 3)\n"
          ],
          "name": "stdout"
        }
      ]
    },
    {
      "cell_type": "code",
      "metadata": {
        "id": "VFP_kIjCHgEx"
      },
      "source": [
        "#WE HAVE SUCCESFULLY SPLIT OUR DATA INTO TRAIN AND TEST SET TOO"
      ],
      "execution_count": null,
      "outputs": []
    },
    {
      "cell_type": "code",
      "metadata": {
        "id": "kl-4x6PXHvIS"
      },
      "source": [
        "#NOW LETS MAKE THE FUNCTION evaluateModel():\n",
        "import tensorflow as tf\n",
        "import tensorflow.keras.layers as tfKL\n",
        "from keras.layers import Activation, Dense \n",
        "def evaluateModel(trainX,testX,trainY,testY,nSubsequences=5,nLookback=4,nCategories=8):\n",
        "\n",
        "  verbose=1\n",
        "  epochs=30\n",
        "  batch_size=10\n",
        "\n",
        "  model=tf.keras.Sequential()\n",
        "  height=trainX.shape[2]\n",
        "  width=trainX.shape[3]\n",
        "  channels=trainX.shape[4]\n",
        "  trainX=trainX.reshape((trainX.shape[0],nSubsequences,nLookback,trainX.shape[2],trainX.shape[3],trainX.shape[4]))\n",
        "  testX=testX.reshape((testX.shape[0],nSubsequences,nLookback,testX.shape[2],testX.shape[3],testX.shape[4]))\n",
        "  trainY=tf.keras.utils.to_categorical(trainY)\n",
        "  testY=tf.keras.utils.to_categorical(testY)\n",
        "  model.add(tfKL.TimeDistributed(tfKL.Conv2D(filters=64,kernel_size=(3,3),activation='relu'),input_shape=(None,nLookback,height,width,channels)))\n",
        "  model.add(tfKL.TimeDistributed(tfKL.Conv2D(filters=64,kernel_size=(3,3),activation='relu')))\n",
        "  model.add(tfKL.TimeDistributed(tfKL.Dropout(0.5)))\n",
        "  \n",
        "  model.add(tfKL.TimeDistributed(tfKL.MaxPooling3D(pool_size=(2,2,2))))\n",
        "  model.add(tfKL.TimeDistributed(tfKL.Flatten()))\n",
        "\n",
        "\n",
        "  model.add(tfKL.LSTM(units=100,activation='tanh'))\n",
        "  model.add(tfKL.Dropout(0.5))\n",
        "  model.add(tfKL.Dense(units=100,activation='relu'))\n",
        "  model.add(tfKL.Dense(units=nCategories,activation='softmax'))\n",
        "  model.compile(metrics=['accuracy'],loss='categorical_crossentropy',optimizer='adam')\n",
        "  model.fit(trainX,trainY,batch_size=batch_size,epochs=epochs,verbose=verbose)\n",
        "  _,accuracy=model.evaluate(testX,testY,verbose=0,batch_size=batch_size)\n",
        "  return accuracy"
      ],
      "execution_count": null,
      "outputs": []
    },
    {
      "cell_type": "code",
      "metadata": {
        "id": "fi1t1DAyQ6se"
      },
      "source": [
        "def summarizeScores(scores):\n",
        "  print(\"Scores: \",scores)\n",
        "  m,s=np.mean(scores),np.std(scores)\n",
        "  print('Accuracy: %.3f%% (+/-%.3f)' % (m, s))"
      ],
      "execution_count": null,
      "outputs": []
    },
    {
      "cell_type": "code",
      "metadata": {
        "id": "Hd9gvqTBQ_cM"
      },
      "source": [
        "def runExperiments(trainX,trainY,testX,testY,run=10):\n",
        "  # trainX,trainY,testX,testY=loadDataset(prefix)\n",
        "  scores=list()\n",
        "  for r in range(run):\n",
        "    score=evaluateModel(trainX,testX,trainY,testY)\n",
        "    score*=100.0\n",
        "    scores.append(score)\n",
        "    print('>#%d: %.3f' % (r+1, score))\n",
        "  summarizeScores(scores)"
      ],
      "execution_count": null,
      "outputs": []
    },
    {
      "cell_type": "code",
      "metadata": {
        "colab": {
          "base_uri": "https://localhost:8080/"
        },
        "id": "BryekMT7RHTJ",
        "outputId": "1c940ce3-b175-4ae9-c1b7-a6ba7429fb93"
      },
      "source": [
        "with tpu_strategy.scope():\n",
        "  runExperiments(trainX, trainY, testX, testY)"
      ],
      "execution_count": null,
      "outputs": [
        {
          "output_type": "stream",
          "text": [
            "Epoch 1/30\n",
            "33/33 [==============================] - 11s 43ms/step - loss: 2.1424 - accuracy: 0.1517\n",
            "Epoch 2/30\n",
            "33/33 [==============================] - 1s 43ms/step - loss: 2.1646 - accuracy: 0.1045\n",
            "Epoch 3/30\n",
            "33/33 [==============================] - 1s 43ms/step - loss: 2.1030 - accuracy: 0.0941\n",
            "Epoch 4/30\n",
            "33/33 [==============================] - 1s 42ms/step - loss: 2.1133 - accuracy: 0.0909\n",
            "Epoch 5/30\n",
            "33/33 [==============================] - 1s 42ms/step - loss: 2.1337 - accuracy: 0.1229\n",
            "Epoch 6/30\n",
            "33/33 [==============================] - 1s 42ms/step - loss: 2.0774 - accuracy: 0.1468\n",
            "Epoch 7/30\n",
            "33/33 [==============================] - 1s 41ms/step - loss: 2.1081 - accuracy: 0.1281\n",
            "Epoch 8/30\n",
            "33/33 [==============================] - 1s 43ms/step - loss: 2.0840 - accuracy: 0.1561\n",
            "Epoch 9/30\n",
            "33/33 [==============================] - 1s 41ms/step - loss: 2.0920 - accuracy: 0.1496\n",
            "Epoch 10/30\n",
            "33/33 [==============================] - 1s 42ms/step - loss: 2.0812 - accuracy: 0.1738\n",
            "Epoch 11/30\n",
            "33/33 [==============================] - 1s 42ms/step - loss: 2.1033 - accuracy: 0.1355\n",
            "Epoch 12/30\n",
            "33/33 [==============================] - 1s 42ms/step - loss: 2.0982 - accuracy: 0.1052\n",
            "Epoch 13/30\n",
            "33/33 [==============================] - 1s 42ms/step - loss: 2.1041 - accuracy: 0.1055\n",
            "Epoch 14/30\n",
            "33/33 [==============================] - 1s 42ms/step - loss: 2.0867 - accuracy: 0.1425\n",
            "Epoch 15/30\n",
            "33/33 [==============================] - 1s 42ms/step - loss: 2.0813 - accuracy: 0.1935\n",
            "Epoch 16/30\n",
            "33/33 [==============================] - 1s 43ms/step - loss: 2.0823 - accuracy: 0.1474\n",
            "Epoch 17/30\n",
            "33/33 [==============================] - 1s 41ms/step - loss: 2.1020 - accuracy: 0.1584\n",
            "Epoch 18/30\n",
            "33/33 [==============================] - 1s 41ms/step - loss: 2.0911 - accuracy: 0.1280\n",
            "Epoch 19/30\n",
            "33/33 [==============================] - 1s 41ms/step - loss: 2.0749 - accuracy: 0.1458\n",
            "Epoch 20/30\n",
            "33/33 [==============================] - 1s 42ms/step - loss: 2.0759 - accuracy: 0.1040\n",
            "Epoch 21/30\n",
            "33/33 [==============================] - 1s 41ms/step - loss: 2.0947 - accuracy: 0.1389\n",
            "Epoch 22/30\n",
            "33/33 [==============================] - 1s 42ms/step - loss: 2.0781 - accuracy: 0.1410\n",
            "Epoch 23/30\n",
            "33/33 [==============================] - 1s 42ms/step - loss: 2.1141 - accuracy: 0.1302\n",
            "Epoch 24/30\n",
            "33/33 [==============================] - 1s 42ms/step - loss: 2.1043 - accuracy: 0.1032\n",
            "Epoch 25/30\n",
            "33/33 [==============================] - 1s 42ms/step - loss: 2.0947 - accuracy: 0.1305\n",
            "Epoch 26/30\n",
            "33/33 [==============================] - 1s 42ms/step - loss: 2.0909 - accuracy: 0.1741\n",
            "Epoch 27/30\n",
            "33/33 [==============================] - 1s 42ms/step - loss: 2.1080 - accuracy: 0.1151\n",
            "Epoch 28/30\n",
            "33/33 [==============================] - 1s 42ms/step - loss: 2.0850 - accuracy: 0.1336\n",
            "Epoch 29/30\n",
            "33/33 [==============================] - 1s 42ms/step - loss: 2.0760 - accuracy: 0.1360\n",
            "Epoch 30/30\n",
            "33/33 [==============================] - 1s 42ms/step - loss: 2.0903 - accuracy: 0.1357\n",
            ">#1: 6.173\n",
            "Epoch 1/30\n",
            "33/33 [==============================] - 11s 45ms/step - loss: 2.1465 - accuracy: 0.1462\n",
            "Epoch 2/30\n",
            "33/33 [==============================] - 1s 44ms/step - loss: 2.1154 - accuracy: 0.1600\n",
            "Epoch 3/30\n",
            "33/33 [==============================] - 1s 43ms/step - loss: 2.1234 - accuracy: 0.1179\n",
            "Epoch 4/30\n",
            "33/33 [==============================] - 1s 42ms/step - loss: 2.1209 - accuracy: 0.1157\n",
            "Epoch 5/30\n",
            "33/33 [==============================] - 1s 42ms/step - loss: 2.0885 - accuracy: 0.1694\n",
            "Epoch 6/30\n",
            "33/33 [==============================] - 1s 42ms/step - loss: 2.1123 - accuracy: 0.1306\n",
            "Epoch 7/30\n",
            "33/33 [==============================] - 1s 42ms/step - loss: 2.0863 - accuracy: 0.1106\n",
            "Epoch 8/30\n",
            "33/33 [==============================] - 1s 42ms/step - loss: 2.0886 - accuracy: 0.1224\n",
            "Epoch 9/30\n",
            "33/33 [==============================] - 1s 43ms/step - loss: 2.0996 - accuracy: 0.1363\n",
            "Epoch 10/30\n",
            "33/33 [==============================] - 1s 42ms/step - loss: 2.0892 - accuracy: 0.1636\n",
            "Epoch 11/30\n",
            "33/33 [==============================] - 1s 43ms/step - loss: 2.1116 - accuracy: 0.1372\n",
            "Epoch 12/30\n",
            "33/33 [==============================] - 1s 42ms/step - loss: 2.0843 - accuracy: 0.1322\n",
            "Epoch 13/30\n",
            "33/33 [==============================] - 1s 43ms/step - loss: 2.0899 - accuracy: 0.1521\n",
            "Epoch 14/30\n",
            "33/33 [==============================] - 1s 42ms/step - loss: 2.0979 - accuracy: 0.1307\n",
            "Epoch 15/30\n",
            "33/33 [==============================] - 1s 43ms/step - loss: 2.0966 - accuracy: 0.1600\n",
            "Epoch 16/30\n",
            "33/33 [==============================] - 1s 43ms/step - loss: 2.0812 - accuracy: 0.1329\n",
            "Epoch 17/30\n",
            "33/33 [==============================] - 1s 43ms/step - loss: 2.0959 - accuracy: 0.0922\n",
            "Epoch 18/30\n",
            "33/33 [==============================] - 1s 42ms/step - loss: 2.1189 - accuracy: 0.1006\n",
            "Epoch 19/30\n",
            "33/33 [==============================] - 1s 43ms/step - loss: 2.0836 - accuracy: 0.1663\n",
            "Epoch 20/30\n",
            "33/33 [==============================] - 1s 42ms/step - loss: 2.1033 - accuracy: 0.1417\n",
            "Epoch 21/30\n",
            "33/33 [==============================] - 1s 43ms/step - loss: 2.0784 - accuracy: 0.1245\n",
            "Epoch 22/30\n",
            "33/33 [==============================] - 1s 42ms/step - loss: 2.0796 - accuracy: 0.1426\n",
            "Epoch 23/30\n",
            "33/33 [==============================] - 1s 43ms/step - loss: 2.0609 - accuracy: 0.1689\n",
            "Epoch 24/30\n",
            "33/33 [==============================] - 1s 42ms/step - loss: 2.0957 - accuracy: 0.1234\n",
            "Epoch 25/30\n",
            "33/33 [==============================] - 1s 43ms/step - loss: 2.0796 - accuracy: 0.1352\n",
            "Epoch 26/30\n",
            "33/33 [==============================] - 1s 42ms/step - loss: 2.0944 - accuracy: 0.1444\n",
            "Epoch 27/30\n",
            "33/33 [==============================] - 1s 42ms/step - loss: 2.0838 - accuracy: 0.1222\n",
            "Epoch 28/30\n",
            "33/33 [==============================] - 1s 42ms/step - loss: 2.0937 - accuracy: 0.1066\n",
            "Epoch 29/30\n",
            "33/33 [==============================] - 1s 43ms/step - loss: 2.0871 - accuracy: 0.1485\n",
            "Epoch 30/30\n",
            "33/33 [==============================] - 1s 43ms/step - loss: 2.0935 - accuracy: 0.0984\n",
            ">#2: 6.173\n",
            "Epoch 1/30\n",
            "33/33 [==============================] - 10s 43ms/step - loss: 2.3488 - accuracy: 0.0916\n",
            "Epoch 2/30\n",
            "33/33 [==============================] - 1s 42ms/step - loss: 2.1418 - accuracy: 0.1328\n",
            "Epoch 3/30\n",
            "33/33 [==============================] - 1s 43ms/step - loss: 2.1568 - accuracy: 0.1111\n",
            "Epoch 4/30\n",
            "33/33 [==============================] - 1s 42ms/step - loss: 2.1524 - accuracy: 0.0830\n",
            "Epoch 5/30\n",
            "33/33 [==============================] - 1s 43ms/step - loss: 2.1360 - accuracy: 0.1322\n",
            "Epoch 6/30\n",
            "33/33 [==============================] - 1s 42ms/step - loss: 2.1483 - accuracy: 0.1059\n",
            "Epoch 7/30\n",
            "33/33 [==============================] - 1s 43ms/step - loss: 2.1439 - accuracy: 0.0867\n",
            "Epoch 8/30\n",
            "33/33 [==============================] - 1s 42ms/step - loss: 2.1077 - accuracy: 0.1334\n",
            "Epoch 9/30\n",
            "33/33 [==============================] - 1s 43ms/step - loss: 2.1353 - accuracy: 0.0987\n",
            "Epoch 10/30\n",
            "33/33 [==============================] - 1s 42ms/step - loss: 2.1145 - accuracy: 0.1185\n",
            "Epoch 11/30\n",
            "33/33 [==============================] - 1s 43ms/step - loss: 2.1246 - accuracy: 0.1236\n",
            "Epoch 12/30\n",
            "33/33 [==============================] - 1s 43ms/step - loss: 2.1043 - accuracy: 0.1281\n",
            "Epoch 13/30\n",
            "33/33 [==============================] - 1s 43ms/step - loss: 2.0575 - accuracy: 0.1779\n",
            "Epoch 14/30\n",
            "33/33 [==============================] - 1s 43ms/step - loss: 2.0868 - accuracy: 0.1423\n",
            "Epoch 15/30\n",
            "33/33 [==============================] - 1s 42ms/step - loss: 2.1146 - accuracy: 0.0826\n",
            "Epoch 16/30\n",
            "33/33 [==============================] - 1s 43ms/step - loss: 2.0921 - accuracy: 0.1298\n",
            "Epoch 17/30\n",
            "33/33 [==============================] - 1s 43ms/step - loss: 2.1042 - accuracy: 0.1245\n",
            "Epoch 18/30\n",
            "33/33 [==============================] - 1s 42ms/step - loss: 2.0759 - accuracy: 0.1308\n",
            "Epoch 19/30\n",
            "33/33 [==============================] - 1s 44ms/step - loss: 2.1166 - accuracy: 0.1362\n",
            "Epoch 20/30\n",
            "33/33 [==============================] - 1s 43ms/step - loss: 2.1022 - accuracy: 0.1701\n",
            "Epoch 21/30\n",
            "33/33 [==============================] - 1s 43ms/step - loss: 2.0815 - accuracy: 0.1419\n",
            "Epoch 22/30\n",
            "33/33 [==============================] - 1s 43ms/step - loss: 2.0934 - accuracy: 0.1367\n",
            "Epoch 23/30\n",
            "33/33 [==============================] - 1s 44ms/step - loss: 2.1033 - accuracy: 0.1300\n",
            "Epoch 24/30\n",
            "33/33 [==============================] - 1s 44ms/step - loss: 2.1027 - accuracy: 0.1699\n",
            "Epoch 25/30\n",
            "33/33 [==============================] - 1s 43ms/step - loss: 2.0934 - accuracy: 0.1172\n",
            "Epoch 26/30\n",
            "33/33 [==============================] - 1s 46ms/step - loss: 2.0725 - accuracy: 0.1776\n",
            "Epoch 27/30\n",
            "33/33 [==============================] - 1s 42ms/step - loss: 2.0936 - accuracy: 0.1329\n",
            "Epoch 28/30\n",
            "33/33 [==============================] - 1s 42ms/step - loss: 2.1102 - accuracy: 0.0944\n",
            "Epoch 29/30\n",
            "33/33 [==============================] - 1s 43ms/step - loss: 2.0924 - accuracy: 0.1456\n",
            "Epoch 30/30\n",
            "33/33 [==============================] - 1s 43ms/step - loss: 2.0688 - accuracy: 0.1472\n",
            ">#3: 6.173\n",
            "Epoch 1/30\n",
            "33/33 [==============================] - 10s 43ms/step - loss: 2.2038 - accuracy: 0.1134\n",
            "Epoch 2/30\n",
            "33/33 [==============================] - 1s 43ms/step - loss: 2.1818 - accuracy: 0.1250\n",
            "Epoch 3/30\n",
            "33/33 [==============================] - 1s 42ms/step - loss: 2.1151 - accuracy: 0.1549\n",
            "Epoch 4/30\n",
            "33/33 [==============================] - 1s 43ms/step - loss: 2.1088 - accuracy: 0.1199\n",
            "Epoch 5/30\n",
            "33/33 [==============================] - 1s 43ms/step - loss: 2.1763 - accuracy: 0.1111\n",
            "Epoch 6/30\n",
            "33/33 [==============================] - 1s 43ms/step - loss: 2.0884 - accuracy: 0.1551\n",
            "Epoch 7/30\n",
            "33/33 [==============================] - 1s 43ms/step - loss: 2.1127 - accuracy: 0.1217\n",
            "Epoch 8/30\n",
            "33/33 [==============================] - 1s 42ms/step - loss: 2.0715 - accuracy: 0.1545\n",
            "Epoch 9/30\n",
            "33/33 [==============================] - 1s 43ms/step - loss: 2.0963 - accuracy: 0.1265\n",
            "Epoch 10/30\n",
            "33/33 [==============================] - 1s 42ms/step - loss: 2.0863 - accuracy: 0.1733\n",
            "Epoch 11/30\n",
            "33/33 [==============================] - 1s 43ms/step - loss: 2.1239 - accuracy: 0.0859\n",
            "Epoch 12/30\n",
            "33/33 [==============================] - 1s 42ms/step - loss: 2.1085 - accuracy: 0.1313\n",
            "Epoch 13/30\n",
            "33/33 [==============================] - 1s 43ms/step - loss: 2.0873 - accuracy: 0.1211\n",
            "Epoch 14/30\n",
            "33/33 [==============================] - 1s 43ms/step - loss: 2.0924 - accuracy: 0.1096\n",
            "Epoch 15/30\n",
            "33/33 [==============================] - 1s 43ms/step - loss: 2.0941 - accuracy: 0.1565\n",
            "Epoch 16/30\n",
            "33/33 [==============================] - 1s 42ms/step - loss: 2.1128 - accuracy: 0.0970\n",
            "Epoch 17/30\n",
            "33/33 [==============================] - 1s 43ms/step - loss: 2.0921 - accuracy: 0.1053\n",
            "Epoch 18/30\n",
            "33/33 [==============================] - 1s 44ms/step - loss: 2.1172 - accuracy: 0.1090\n",
            "Epoch 19/30\n",
            "33/33 [==============================] - 1s 43ms/step - loss: 2.0937 - accuracy: 0.1183\n",
            "Epoch 20/30\n",
            "33/33 [==============================] - 1s 43ms/step - loss: 2.0875 - accuracy: 0.1258\n",
            "Epoch 21/30\n",
            "33/33 [==============================] - 1s 43ms/step - loss: 2.0802 - accuracy: 0.1536\n",
            "Epoch 22/30\n",
            "33/33 [==============================] - 1s 43ms/step - loss: 2.0755 - accuracy: 0.1346\n",
            "Epoch 23/30\n",
            "33/33 [==============================] - 1s 43ms/step - loss: 2.0821 - accuracy: 0.1411\n",
            "Epoch 24/30\n",
            "33/33 [==============================] - 1s 42ms/step - loss: 2.1076 - accuracy: 0.1081\n",
            "Epoch 25/30\n",
            "33/33 [==============================] - 2s 50ms/step - loss: 2.1055 - accuracy: 0.1256\n",
            "Epoch 26/30\n",
            "33/33 [==============================] - 2s 52ms/step - loss: 2.0969 - accuracy: 0.1361\n",
            "Epoch 27/30\n",
            "33/33 [==============================] - 2s 57ms/step - loss: 2.0968 - accuracy: 0.1432\n",
            "Epoch 28/30\n",
            "33/33 [==============================] - 3s 82ms/step - loss: 2.0904 - accuracy: 0.1293\n",
            "Epoch 29/30\n",
            "33/33 [==============================] - 1s 44ms/step - loss: 2.0872 - accuracy: 0.1093\n",
            "Epoch 30/30\n",
            "33/33 [==============================] - 1s 42ms/step - loss: 2.0985 - accuracy: 0.1013\n",
            ">#4: 13.580\n",
            "Epoch 1/30\n",
            "33/33 [==============================] - 10s 42ms/step - loss: 2.1751 - accuracy: 0.1635\n",
            "Epoch 2/30\n",
            "33/33 [==============================] - 1s 43ms/step - loss: 2.1859 - accuracy: 0.1076\n",
            "Epoch 3/30\n",
            "33/33 [==============================] - 1s 43ms/step - loss: 2.1086 - accuracy: 0.1013\n",
            "Epoch 4/30\n",
            "33/33 [==============================] - 1s 43ms/step - loss: 2.0910 - accuracy: 0.1127\n",
            "Epoch 5/30\n",
            "33/33 [==============================] - 1s 42ms/step - loss: 2.0953 - accuracy: 0.1564\n",
            "Epoch 6/30\n",
            "33/33 [==============================] - 1s 43ms/step - loss: 2.1117 - accuracy: 0.1680\n",
            "Epoch 7/30\n",
            "33/33 [==============================] - 1s 43ms/step - loss: 2.1385 - accuracy: 0.1222\n",
            "Epoch 8/30\n",
            "33/33 [==============================] - 1s 43ms/step - loss: 2.0900 - accuracy: 0.1343\n",
            "Epoch 9/30\n",
            "33/33 [==============================] - 1s 42ms/step - loss: 2.1056 - accuracy: 0.1307\n",
            "Epoch 10/30\n",
            "33/33 [==============================] - 1s 42ms/step - loss: 2.1113 - accuracy: 0.1083\n",
            "Epoch 11/30\n",
            "33/33 [==============================] - 1s 43ms/step - loss: 2.0837 - accuracy: 0.1862\n",
            "Epoch 12/30\n",
            "33/33 [==============================] - 1s 43ms/step - loss: 2.0993 - accuracy: 0.1367\n",
            "Epoch 13/30\n",
            "33/33 [==============================] - 1s 43ms/step - loss: 2.1147 - accuracy: 0.1149\n",
            "Epoch 14/30\n",
            "33/33 [==============================] - 1s 43ms/step - loss: 2.1011 - accuracy: 0.1452\n",
            "Epoch 15/30\n",
            "33/33 [==============================] - 1s 43ms/step - loss: 2.1070 - accuracy: 0.0824\n",
            "Epoch 16/30\n",
            "33/33 [==============================] - 1s 43ms/step - loss: 2.0909 - accuracy: 0.1355\n",
            "Epoch 17/30\n",
            "33/33 [==============================] - 1s 43ms/step - loss: 2.0978 - accuracy: 0.1299\n",
            "Epoch 18/30\n",
            "33/33 [==============================] - 1s 43ms/step - loss: 2.0787 - accuracy: 0.1174\n",
            "Epoch 19/30\n",
            "33/33 [==============================] - 1s 43ms/step - loss: 2.0799 - accuracy: 0.1468\n",
            "Epoch 20/30\n",
            "33/33 [==============================] - 1s 44ms/step - loss: 2.0962 - accuracy: 0.1637\n",
            "Epoch 21/30\n",
            "33/33 [==============================] - 1s 45ms/step - loss: 2.0795 - accuracy: 0.1236\n",
            "Epoch 22/30\n",
            "33/33 [==============================] - 1s 43ms/step - loss: 2.0832 - accuracy: 0.1394\n",
            "Epoch 23/30\n",
            "33/33 [==============================] - 1s 43ms/step - loss: 2.1010 - accuracy: 0.0895\n",
            "Epoch 24/30\n",
            "33/33 [==============================] - 1s 44ms/step - loss: 2.0882 - accuracy: 0.1263\n",
            "Epoch 25/30\n",
            "33/33 [==============================] - 1s 43ms/step - loss: 2.0847 - accuracy: 0.1472\n",
            "Epoch 26/30\n",
            "33/33 [==============================] - 1s 44ms/step - loss: 2.0823 - accuracy: 0.1682\n",
            "Epoch 27/30\n",
            "33/33 [==============================] - 1s 43ms/step - loss: 2.1041 - accuracy: 0.1015\n",
            "Epoch 28/30\n",
            "33/33 [==============================] - 1s 43ms/step - loss: 2.0837 - accuracy: 0.1299\n",
            "Epoch 29/30\n",
            "33/33 [==============================] - 1s 43ms/step - loss: 2.1062 - accuracy: 0.1080\n",
            "Epoch 30/30\n",
            "33/33 [==============================] - 1s 43ms/step - loss: 2.0609 - accuracy: 0.1671\n",
            ">#5: 6.173\n",
            "Epoch 1/30\n",
            "33/33 [==============================] - 11s 43ms/step - loss: 2.2252 - accuracy: 0.0793\n",
            "Epoch 2/30\n",
            "33/33 [==============================] - 1s 43ms/step - loss: 2.1152 - accuracy: 0.1439\n",
            "Epoch 3/30\n",
            "33/33 [==============================] - 1s 43ms/step - loss: 2.1084 - accuracy: 0.1392\n",
            "Epoch 4/30\n",
            "33/33 [==============================] - 1s 43ms/step - loss: 2.1302 - accuracy: 0.1176\n",
            "Epoch 5/30\n",
            "33/33 [==============================] - 1s 44ms/step - loss: 2.1073 - accuracy: 0.1265\n",
            "Epoch 6/30\n",
            "33/33 [==============================] - 1s 43ms/step - loss: 2.1158 - accuracy: 0.1309\n",
            "Epoch 7/30\n",
            "33/33 [==============================] - 1s 43ms/step - loss: 2.0866 - accuracy: 0.1533\n",
            "Epoch 8/30\n",
            "33/33 [==============================] - 1s 42ms/step - loss: 2.1051 - accuracy: 0.0977\n",
            "Epoch 9/30\n",
            "33/33 [==============================] - 1s 43ms/step - loss: 2.1108 - accuracy: 0.1058\n",
            "Epoch 10/30\n",
            "33/33 [==============================] - 1s 43ms/step - loss: 2.1105 - accuracy: 0.1073\n",
            "Epoch 11/30\n",
            "33/33 [==============================] - 1s 43ms/step - loss: 2.0972 - accuracy: 0.1312\n",
            "Epoch 12/30\n",
            "33/33 [==============================] - 1s 44ms/step - loss: 2.1204 - accuracy: 0.1646\n",
            "Epoch 13/30\n",
            "33/33 [==============================] - 1s 44ms/step - loss: 2.0896 - accuracy: 0.1589\n",
            "Epoch 14/30\n",
            "33/33 [==============================] - 1s 43ms/step - loss: 2.1139 - accuracy: 0.1477\n",
            "Epoch 15/30\n",
            "33/33 [==============================] - 1s 43ms/step - loss: 2.0959 - accuracy: 0.0948\n",
            "Epoch 16/30\n",
            "33/33 [==============================] - 1s 43ms/step - loss: 2.1039 - accuracy: 0.1279\n",
            "Epoch 17/30\n",
            "33/33 [==============================] - 1s 43ms/step - loss: 2.0959 - accuracy: 0.1165\n",
            "Epoch 18/30\n",
            "33/33 [==============================] - 1s 43ms/step - loss: 2.0712 - accuracy: 0.1283\n",
            "Epoch 19/30\n",
            "33/33 [==============================] - 1s 43ms/step - loss: 2.0959 - accuracy: 0.1281\n",
            "Epoch 20/30\n",
            "33/33 [==============================] - 1s 43ms/step - loss: 2.1184 - accuracy: 0.1070\n",
            "Epoch 21/30\n",
            "33/33 [==============================] - 1s 42ms/step - loss: 2.1132 - accuracy: 0.1288\n",
            "Epoch 22/30\n",
            "33/33 [==============================] - 1s 43ms/step - loss: 2.0739 - accuracy: 0.1533\n",
            "Epoch 23/30\n",
            "33/33 [==============================] - 1s 42ms/step - loss: 2.1163 - accuracy: 0.0869\n",
            "Epoch 24/30\n",
            "33/33 [==============================] - 1s 43ms/step - loss: 2.0957 - accuracy: 0.0980\n",
            "Epoch 25/30\n",
            "33/33 [==============================] - 1s 43ms/step - loss: 2.0831 - accuracy: 0.1238\n",
            "Epoch 26/30\n",
            "33/33 [==============================] - 1s 43ms/step - loss: 2.1065 - accuracy: 0.1467\n",
            "Epoch 27/30\n",
            "33/33 [==============================] - 1s 43ms/step - loss: 2.0909 - accuracy: 0.1320\n",
            "Epoch 28/30\n",
            "33/33 [==============================] - 1s 43ms/step - loss: 2.0680 - accuracy: 0.1609\n",
            "Epoch 29/30\n",
            "33/33 [==============================] - 1s 43ms/step - loss: 2.1078 - accuracy: 0.1500\n",
            "Epoch 30/30\n",
            "33/33 [==============================] - 1s 44ms/step - loss: 2.1013 - accuracy: 0.1424\n",
            ">#6: 6.173\n",
            "Epoch 1/30\n",
            "33/33 [==============================] - 11s 43ms/step - loss: 2.1921 - accuracy: 0.1606\n",
            "Epoch 2/30\n",
            "33/33 [==============================] - 1s 43ms/step - loss: 2.0928 - accuracy: 0.1742\n",
            "Epoch 3/30\n",
            "33/33 [==============================] - 1s 43ms/step - loss: 2.1487 - accuracy: 0.1447\n",
            "Epoch 4/30\n",
            "33/33 [==============================] - 1s 43ms/step - loss: 2.1463 - accuracy: 0.1005\n",
            "Epoch 5/30\n",
            "33/33 [==============================] - 1s 42ms/step - loss: 2.1114 - accuracy: 0.1065\n",
            "Epoch 6/30\n",
            "33/33 [==============================] - 1s 43ms/step - loss: 2.0949 - accuracy: 0.1977\n",
            "Epoch 7/30\n",
            "33/33 [==============================] - 1s 44ms/step - loss: 2.1119 - accuracy: 0.0968\n",
            "Epoch 8/30\n",
            "33/33 [==============================] - 1s 43ms/step - loss: 2.1262 - accuracy: 0.1310\n",
            "Epoch 9/30\n",
            "33/33 [==============================] - 1s 42ms/step - loss: 2.0850 - accuracy: 0.1054\n",
            "Epoch 10/30\n",
            "33/33 [==============================] - 1s 44ms/step - loss: 2.0764 - accuracy: 0.1312\n",
            "Epoch 11/30\n",
            "33/33 [==============================] - 1s 44ms/step - loss: 2.1230 - accuracy: 0.1014\n",
            "Epoch 12/30\n",
            "33/33 [==============================] - 1s 43ms/step - loss: 2.0949 - accuracy: 0.1414\n",
            "Epoch 13/30\n",
            "33/33 [==============================] - 1s 44ms/step - loss: 2.0957 - accuracy: 0.1522\n",
            "Epoch 14/30\n",
            "33/33 [==============================] - 1s 44ms/step - loss: 2.0872 - accuracy: 0.1393\n",
            "Epoch 15/30\n",
            "33/33 [==============================] - 1s 44ms/step - loss: 2.1104 - accuracy: 0.1054\n",
            "Epoch 16/30\n",
            "33/33 [==============================] - 1s 43ms/step - loss: 2.0840 - accuracy: 0.1765\n",
            "Epoch 17/30\n",
            "33/33 [==============================] - 1s 43ms/step - loss: 2.0960 - accuracy: 0.1406\n",
            "Epoch 18/30\n",
            "33/33 [==============================] - 1s 44ms/step - loss: 2.1044 - accuracy: 0.1022\n",
            "Epoch 19/30\n",
            "33/33 [==============================] - 1s 43ms/step - loss: 2.0954 - accuracy: 0.1160\n",
            "Epoch 20/30\n",
            "33/33 [==============================] - 1s 43ms/step - loss: 2.0954 - accuracy: 0.1288\n",
            "Epoch 21/30\n",
            "33/33 [==============================] - 1s 43ms/step - loss: 2.0946 - accuracy: 0.0979\n",
            "Epoch 22/30\n",
            "33/33 [==============================] - 1s 43ms/step - loss: 2.0818 - accuracy: 0.1508\n",
            "Epoch 23/30\n",
            "33/33 [==============================] - 1s 43ms/step - loss: 2.0726 - accuracy: 0.1486\n",
            "Epoch 24/30\n",
            "33/33 [==============================] - 1s 43ms/step - loss: 2.0914 - accuracy: 0.1368\n",
            "Epoch 25/30\n",
            "33/33 [==============================] - 1s 43ms/step - loss: 2.0783 - accuracy: 0.1397\n",
            "Epoch 26/30\n",
            "33/33 [==============================] - 1s 44ms/step - loss: 2.1018 - accuracy: 0.1293\n",
            "Epoch 27/30\n",
            "33/33 [==============================] - 1s 43ms/step - loss: 2.0856 - accuracy: 0.1179\n",
            "Epoch 28/30\n",
            "33/33 [==============================] - 1s 44ms/step - loss: 2.0841 - accuracy: 0.1553\n",
            "Epoch 29/30\n",
            "33/33 [==============================] - 1s 43ms/step - loss: 2.0914 - accuracy: 0.1076\n",
            "Epoch 30/30\n",
            "33/33 [==============================] - 1s 43ms/step - loss: 2.0740 - accuracy: 0.1403\n",
            ">#7: 13.580\n",
            "Epoch 1/30\n",
            "33/33 [==============================] - 10s 43ms/step - loss: 2.1604 - accuracy: 0.0959\n",
            "Epoch 2/30\n",
            "33/33 [==============================] - 1s 43ms/step - loss: 2.1248 - accuracy: 0.0815\n",
            "Epoch 3/30\n",
            "33/33 [==============================] - 1s 43ms/step - loss: 2.1176 - accuracy: 0.1474\n",
            "Epoch 4/30\n",
            "33/33 [==============================] - 1s 43ms/step - loss: 2.0990 - accuracy: 0.1358\n",
            "Epoch 5/30\n",
            "33/33 [==============================] - 1s 43ms/step - loss: 2.1067 - accuracy: 0.1538\n",
            "Epoch 6/30\n",
            "33/33 [==============================] - 1s 43ms/step - loss: 2.1041 - accuracy: 0.1280\n",
            "Epoch 7/30\n",
            "33/33 [==============================] - 1s 43ms/step - loss: 2.1116 - accuracy: 0.0921\n",
            "Epoch 8/30\n",
            "33/33 [==============================] - 1s 43ms/step - loss: 2.0863 - accuracy: 0.1394\n",
            "Epoch 9/30\n",
            "33/33 [==============================] - 1s 43ms/step - loss: 2.0909 - accuracy: 0.1635\n",
            "Epoch 10/30\n",
            "33/33 [==============================] - 1s 42ms/step - loss: 2.1128 - accuracy: 0.1285\n",
            "Epoch 11/30\n",
            "33/33 [==============================] - 1s 43ms/step - loss: 2.0831 - accuracy: 0.1006\n",
            "Epoch 12/30\n",
            "33/33 [==============================] - 1s 42ms/step - loss: 2.1142 - accuracy: 0.1484\n",
            "Epoch 13/30\n",
            "33/33 [==============================] - 1s 43ms/step - loss: 2.1091 - accuracy: 0.1236\n",
            "Epoch 14/30\n",
            "33/33 [==============================] - 1s 43ms/step - loss: 2.1006 - accuracy: 0.1232\n",
            "Epoch 15/30\n",
            "33/33 [==============================] - 1s 43ms/step - loss: 2.0909 - accuracy: 0.1192\n",
            "Epoch 16/30\n",
            "33/33 [==============================] - 1s 44ms/step - loss: 2.1141 - accuracy: 0.1312\n",
            "Epoch 17/30\n",
            "33/33 [==============================] - 1s 43ms/step - loss: 2.0965 - accuracy: 0.1106\n",
            "Epoch 18/30\n",
            "33/33 [==============================] - 1s 44ms/step - loss: 2.1083 - accuracy: 0.1309\n",
            "Epoch 19/30\n",
            "33/33 [==============================] - 1s 42ms/step - loss: 2.0863 - accuracy: 0.1412\n",
            "Epoch 20/30\n",
            "33/33 [==============================] - 1s 43ms/step - loss: 2.0840 - accuracy: 0.1292\n",
            "Epoch 21/30\n",
            "33/33 [==============================] - 1s 43ms/step - loss: 2.0855 - accuracy: 0.1391\n",
            "Epoch 22/30\n",
            "33/33 [==============================] - 1s 43ms/step - loss: 2.0851 - accuracy: 0.1485\n",
            "Epoch 23/30\n",
            "33/33 [==============================] - 1s 44ms/step - loss: 2.0780 - accuracy: 0.1634\n",
            "Epoch 24/30\n",
            "33/33 [==============================] - 1s 42ms/step - loss: 2.1025 - accuracy: 0.1007\n",
            "Epoch 25/30\n",
            "33/33 [==============================] - 1s 43ms/step - loss: 2.0786 - accuracy: 0.1603\n",
            "Epoch 26/30\n",
            "33/33 [==============================] - 1s 44ms/step - loss: 2.1008 - accuracy: 0.1299\n",
            "Epoch 27/30\n",
            "33/33 [==============================] - 1s 43ms/step - loss: 2.0810 - accuracy: 0.1385\n",
            "Epoch 28/30\n",
            "33/33 [==============================] - 1s 43ms/step - loss: 2.0993 - accuracy: 0.1131\n",
            "Epoch 29/30\n",
            "33/33 [==============================] - 1s 43ms/step - loss: 2.0907 - accuracy: 0.1295\n",
            "Epoch 30/30\n",
            "33/33 [==============================] - 1s 43ms/step - loss: 2.0905 - accuracy: 0.1263\n",
            ">#8: 17.284\n",
            "Epoch 1/30\n",
            "33/33 [==============================] - 11s 43ms/step - loss: 2.2011 - accuracy: 0.1478\n",
            "Epoch 2/30\n",
            "33/33 [==============================] - 1s 43ms/step - loss: 2.1384 - accuracy: 0.1088\n",
            "Epoch 3/30\n",
            "33/33 [==============================] - 1s 43ms/step - loss: 2.1481 - accuracy: 0.1267\n",
            "Epoch 4/30\n",
            "33/33 [==============================] - 1s 43ms/step - loss: 2.0980 - accuracy: 0.1402\n",
            "Epoch 5/30\n",
            "33/33 [==============================] - 1s 43ms/step - loss: 2.1104 - accuracy: 0.1406\n",
            "Epoch 6/30\n",
            "33/33 [==============================] - 1s 43ms/step - loss: 2.1223 - accuracy: 0.1152\n",
            "Epoch 7/30\n",
            "33/33 [==============================] - 1s 44ms/step - loss: 2.0754 - accuracy: 0.1869\n",
            "Epoch 8/30\n",
            "33/33 [==============================] - 1s 43ms/step - loss: 2.1111 - accuracy: 0.1284\n",
            "Epoch 9/30\n",
            "33/33 [==============================] - 1s 43ms/step - loss: 2.1171 - accuracy: 0.1224\n",
            "Epoch 10/30\n",
            "33/33 [==============================] - 1s 43ms/step - loss: 2.0856 - accuracy: 0.1033\n",
            "Epoch 11/30\n",
            "33/33 [==============================] - 1s 43ms/step - loss: 2.0976 - accuracy: 0.1325\n",
            "Epoch 12/30\n",
            "33/33 [==============================] - 1s 43ms/step - loss: 2.0986 - accuracy: 0.1123\n",
            "Epoch 13/30\n",
            "33/33 [==============================] - 1s 44ms/step - loss: 2.1248 - accuracy: 0.0819\n",
            "Epoch 14/30\n",
            "33/33 [==============================] - 1s 43ms/step - loss: 2.0916 - accuracy: 0.1570\n",
            "Epoch 15/30\n",
            "33/33 [==============================] - 1s 43ms/step - loss: 2.0946 - accuracy: 0.1213\n",
            "Epoch 16/30\n",
            "33/33 [==============================] - 1s 44ms/step - loss: 2.0859 - accuracy: 0.1500\n",
            "Epoch 17/30\n",
            "33/33 [==============================] - 1s 43ms/step - loss: 2.1102 - accuracy: 0.1251\n",
            "Epoch 18/30\n",
            "33/33 [==============================] - 1s 43ms/step - loss: 2.0754 - accuracy: 0.1604\n",
            "Epoch 19/30\n",
            "33/33 [==============================] - 1s 43ms/step - loss: 2.0996 - accuracy: 0.1534\n",
            "Epoch 20/30\n",
            "33/33 [==============================] - 1s 43ms/step - loss: 2.1083 - accuracy: 0.1139\n",
            "Epoch 21/30\n",
            "33/33 [==============================] - 1s 43ms/step - loss: 2.0734 - accuracy: 0.1759\n",
            "Epoch 22/30\n",
            "33/33 [==============================] - 1s 43ms/step - loss: 2.0881 - accuracy: 0.1186\n",
            "Epoch 23/30\n",
            "33/33 [==============================] - 1s 44ms/step - loss: 2.1013 - accuracy: 0.1099\n",
            "Epoch 24/30\n",
            "33/33 [==============================] - 1s 43ms/step - loss: 2.0838 - accuracy: 0.1594\n",
            "Epoch 25/30\n",
            "33/33 [==============================] - 1s 43ms/step - loss: 2.1169 - accuracy: 0.1172\n",
            "Epoch 26/30\n",
            "33/33 [==============================] - 1s 43ms/step - loss: 2.0870 - accuracy: 0.1316\n",
            "Epoch 27/30\n",
            "33/33 [==============================] - 1s 44ms/step - loss: 2.1019 - accuracy: 0.1435\n",
            "Epoch 28/30\n",
            "33/33 [==============================] - 1s 43ms/step - loss: 2.0882 - accuracy: 0.1181\n",
            "Epoch 29/30\n",
            "33/33 [==============================] - 1s 44ms/step - loss: 2.0763 - accuracy: 0.1592\n",
            "Epoch 30/30\n",
            "33/33 [==============================] - 1s 44ms/step - loss: 2.0671 - accuracy: 0.1384\n",
            ">#9: 6.173\n",
            "Epoch 1/30\n",
            "33/33 [==============================] - 11s 43ms/step - loss: 2.2214 - accuracy: 0.1345\n",
            "Epoch 2/30\n",
            "33/33 [==============================] - 1s 43ms/step - loss: 2.1858 - accuracy: 0.0819\n",
            "Epoch 3/30\n",
            "33/33 [==============================] - 1s 43ms/step - loss: 2.0891 - accuracy: 0.1301\n",
            "Epoch 4/30\n",
            "33/33 [==============================] - 1s 43ms/step - loss: 2.1685 - accuracy: 0.1173\n",
            "Epoch 5/30\n",
            "33/33 [==============================] - 1s 43ms/step - loss: 2.1062 - accuracy: 0.0955\n",
            "Epoch 6/30\n",
            "33/33 [==============================] - 1s 43ms/step - loss: 2.1240 - accuracy: 0.0940\n",
            "Epoch 7/30\n",
            "33/33 [==============================] - 1s 43ms/step - loss: 2.1200 - accuracy: 0.1209\n",
            "Epoch 8/30\n",
            "33/33 [==============================] - 1s 45ms/step - loss: 2.1131 - accuracy: 0.1291\n",
            "Epoch 9/30\n",
            "33/33 [==============================] - 1s 43ms/step - loss: 2.1188 - accuracy: 0.1290\n",
            "Epoch 10/30\n",
            "33/33 [==============================] - 1s 43ms/step - loss: 2.1327 - accuracy: 0.1134\n",
            "Epoch 11/30\n",
            "33/33 [==============================] - 1s 43ms/step - loss: 2.0882 - accuracy: 0.1514\n",
            "Epoch 12/30\n",
            "33/33 [==============================] - 1s 43ms/step - loss: 2.0879 - accuracy: 0.1708\n",
            "Epoch 13/30\n",
            "33/33 [==============================] - 1s 44ms/step - loss: 2.1128 - accuracy: 0.1427\n",
            "Epoch 14/30\n",
            "33/33 [==============================] - 1s 43ms/step - loss: 2.1119 - accuracy: 0.1217\n",
            "Epoch 15/30\n",
            "33/33 [==============================] - 1s 44ms/step - loss: 2.0756 - accuracy: 0.1621\n",
            "Epoch 16/30\n",
            "33/33 [==============================] - 1s 42ms/step - loss: 2.1076 - accuracy: 0.0991\n",
            "Epoch 17/30\n",
            "33/33 [==============================] - 1s 42ms/step - loss: 2.0999 - accuracy: 0.1406\n",
            "Epoch 18/30\n",
            "33/33 [==============================] - 1s 43ms/step - loss: 2.1019 - accuracy: 0.1408\n",
            "Epoch 19/30\n",
            "33/33 [==============================] - 1s 44ms/step - loss: 2.1228 - accuracy: 0.0948\n",
            "Epoch 20/30\n",
            "33/33 [==============================] - 1s 43ms/step - loss: 2.0980 - accuracy: 0.1667\n",
            "Epoch 21/30\n",
            "33/33 [==============================] - 1s 43ms/step - loss: 2.0781 - accuracy: 0.1968\n",
            "Epoch 22/30\n",
            "33/33 [==============================] - 1s 43ms/step - loss: 2.1080 - accuracy: 0.0943\n",
            "Epoch 23/30\n",
            "33/33 [==============================] - 1s 42ms/step - loss: 2.0741 - accuracy: 0.1827\n",
            "Epoch 24/30\n",
            "33/33 [==============================] - 1s 43ms/step - loss: 2.0888 - accuracy: 0.0921\n",
            "Epoch 25/30\n",
            "33/33 [==============================] - 1s 43ms/step - loss: 2.0976 - accuracy: 0.1472\n",
            "Epoch 26/30\n",
            "33/33 [==============================] - 1s 43ms/step - loss: 2.0712 - accuracy: 0.1837\n",
            "Epoch 27/30\n",
            "33/33 [==============================] - 1s 44ms/step - loss: 2.0912 - accuracy: 0.1316\n",
            "Epoch 28/30\n",
            "33/33 [==============================] - 1s 43ms/step - loss: 2.0900 - accuracy: 0.1474\n",
            "Epoch 29/30\n",
            "33/33 [==============================] - 1s 44ms/step - loss: 2.0995 - accuracy: 0.0945\n",
            "Epoch 30/30\n",
            "33/33 [==============================] - 2s 46ms/step - loss: 2.1036 - accuracy: 0.1307\n",
            ">#10: 6.173\n",
            "Scores:  [6.172839924693108, 6.172839924693108, 6.172839924693108, 13.58024775981903, 6.172839924693108, 6.172839924693108, 13.58024775981903, 17.283952236175537, 6.172839924693108, 6.172839924693108]\n",
            "Accuracy: 8.765% (+/-4.074)\n"
          ],
          "name": "stdout"
        }
      ]
    },
    {
      "cell_type": "code",
      "metadata": {
        "colab": {
          "base_uri": "https://localhost:8080/",
          "height": 154
        },
        "id": "0iK_OZdDRLi9",
        "outputId": "c127813f-f048-4990-9031-4476e8342e34"
      },
      "source": [
        "'''ACCURACY WITH DIFFERENT DATA MANIPULATONS:\n",
        "\n",
        "#NOW LETS MAKE THE FUNCTION evaluateModel():\n",
        "import tensorflow as tf\n",
        "import tensorflow.keras.layers as tfKL\n",
        "from keras.layers import Activation, Dense \n",
        "def evaluateModel(trainX,testX,trainY,testY,nSubsequences=5,nLookback=4,nCategories=8):\n",
        "\n",
        "  verbose=1\n",
        "  epochs=30\n",
        "  batch_size=10\n",
        "\n",
        "  model=tf.keras.Sequential()\n",
        "  height=trainX.shape[2]\n",
        "  width=trainX.shape[3]\n",
        "  channels=trainX.shape[4]\n",
        "  trainX=trainX.reshape((trainX.shape[0],nSubsequences,nLookback,trainX.shape[2],trainX.shape[3],trainX.shape[4]))\n",
        "  testX=testX.reshape((testX.shape[0],nSubsequences,nLookback,testX.shape[2],testX.shape[3],testX.shape[4]))\n",
        "  trainY=tf.keras.utils.to_categorical(trainY)\n",
        "  testY=tf.keras.utils.to_categorical(testY)\n",
        "  model.add(tfKL.TimeDistributed(tfKL.Conv2D(filters=64,kernel_size=(3,3),activation='relu'),input_shape=(None,nLookback,height,width,channels)))\n",
        "  model.add(tfKL.TimeDistributed(tfKL.Conv2D(filters=64,kernel_size=(3,3),activation='relu')))\n",
        "  model.add(tfKL.TimeDistributed(tfKL.Dropout(0.5)))\n",
        "  \n",
        "  model.add(tfKL.TimeDistributed(tfKL.MaxPooling3D(pool_size=(2,2,2))))\n",
        "  model.add(tfKL.TimeDistributed(tfKL.Flatten()))\n",
        "\n",
        "\n",
        "  model.add(tfKL.LSTM(units=100,activation='tanh'))\n",
        "  model.add(tfKL.Dropout(0.5))\n",
        "  model.add(tfKL.Dense(units=100,activation='relu'))\n",
        "  model.add(tfKL.Dense(units=nCategories,activation='softmax'))\n",
        "  model.compile(metrics=['accuracy'],loss='categorical_crossentropy',optimizer='adam')\n",
        "  model.fit(trainX,trainY,batch_size=batch_size,epochs=epochs,verbose=verbose)\n",
        "  _,accuracy=model.evaluate(testX,testY,verbose=0,batch_size=batch_size)\n",
        "  return accuracy\n",
        "\n",
        "Training Data: 0.7\n",
        "Frame Size: (50,50)\n",
        "Timesteps: 20\n",
        "\n",
        "Accuracy: 8.926% (+/-3.021)\n",
        "\n",
        "Training Data: 0.9\n",
        "Frame Size: (50,50)\n",
        "Timesteps: 20\n",
        "Accuracy: 11.707% (+/-2.844)\n",
        "\n",
        "Training Data: 0.8\n",
        "Frame Size: (50,50)\n",
        "Timesteps: 20\n",
        "\n",
        "\n",
        "'''"
      ],
      "execution_count": null,
      "outputs": [
        {
          "output_type": "execute_result",
          "data": {
            "application/vnd.google.colaboratory.intrinsic+json": {
              "type": "string"
            },
            "text/plain": [
              "\"ACCURACY WITH DIFFERENT DATA MANIPULATONS:\\n\\n#NOW LETS MAKE THE FUNCTION evaluateModel():\\nimport tensorflow as tf\\nimport tensorflow.keras.layers as tfKL\\nfrom keras.layers import Activation, Dense \\ndef evaluateModel(trainX,testX,trainY,testY,nSubsequences=5,nLookback=4,nCategories=8):\\n\\n  verbose=1\\n  epochs=30\\n  batch_size=10\\n\\n  model=tf.keras.Sequential()\\n  height=trainX.shape[2]\\n  width=trainX.shape[3]\\n  channels=trainX.shape[4]\\n  trainX=trainX.reshape((trainX.shape[0],nSubsequences,nLookback,trainX.shape[2],trainX.shape[3],trainX.shape[4]))\\n  testX=testX.reshape((testX.shape[0],nSubsequences,nLookback,testX.shape[2],testX.shape[3],testX.shape[4]))\\n  trainY=tf.keras.utils.to_categorical(trainY)\\n  testY=tf.keras.utils.to_categorical(testY)\\n  model.add(tfKL.TimeDistributed(tfKL.Conv2D(filters=64,kernel_size=(3,3),activation='relu'),input_shape=(None,nLookback,height,width,channels)))\\n  model.add(tfKL.TimeDistributed(tfKL.Conv2D(filters=64,kernel_size=(3,3),activation='relu')))\\n  model.add(tfKL.TimeDistributed(tfKL.Dropout(0.5)))\\n  \\n  model.add(tfKL.TimeDistributed(tfKL.MaxPooling3D(pool_size=(2,2,2))))\\n  model.add(tfKL.TimeDistributed(tfKL.Flatten()))\\n\\n\\n  model.add(tfKL.LSTM(units=100,activation='tanh'))\\n  model.add(tfKL.Dropout(0.5))\\n  model.add(tfKL.Dense(units=100,activation='relu'))\\n  model.add(tfKL.Dense(units=nCategories,activation='softmax'))\\n  model.compile(metrics=['accuracy'],loss='categorical_crossentropy',optimizer='adam')\\n  model.fit(trainX,trainY,batch_size=batch_size,epochs=epochs,verbose=verbose)\\n  _,accuracy=model.evaluate(testX,testY,verbose=0,batch_size=batch_size)\\n  return accuracy\\n\\nTraining Data: 0.7\\nFrame Size: (50,50)\\nTimesteps: 20\\n\\nAccuracy: 8.926% (+/-3.021)\\n\\nTraining Data: 0.9\\nFrame Size: (50,50)\\nTimesteps: 20\\nAccuracy: 11.707% (+/-2.844)\\n\\n\""
            ]
          },
          "metadata": {
            "tags": []
          },
          "execution_count": 217
        }
      ]
    },
    {
      "cell_type": "code",
      "metadata": {
        "id": "Vn3DehFBa9XU"
      },
      "source": [
        ""
      ],
      "execution_count": null,
      "outputs": []
    }
  ]
}